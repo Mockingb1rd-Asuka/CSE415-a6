{
  "nbformat": 4,
  "nbformat_minor": 0,
  "metadata": {
    "accelerator": "GPU",
    "colab": {
      "name": "cse415a6.ipynb",
      "provenance": [],
      "collapsed_sections": []
    },
    "kernelspec": {
      "name": "python3",
      "display_name": "Python 3"
    },
    "language_info": {
      "codemirror_mode": {
        "name": "ipython",
        "version": 3
      },
      "file_extension": ".py",
      "mimetype": "text/x-python",
      "name": "python",
      "nbconvert_exporter": "python",
      "pygments_lexer": "ipython3",
      "version": "3.5.6"
    }
  },
  "cells": [
    {
      "cell_type": "markdown",
      "metadata": {
        "id": "6QA1D6eIszX_"
      },
      "source": [
        "# CSE 415 Deep Learning Assignment (A6)\n",
        "Please go through the entire assignment, and read all lines of code, including the comments. However, only changes to areas of the code marked \"**TO DO**\" will be graded.\n",
        "\n",
        "# Part 0: Pytorch Setup Code\n",
        "Write your name where designated. Format: First name followed by last name with a space in between, and initials capitalized. For example:\n",
        "\n",
        "name = 'Bindita Chaudhuri'"
      ]
    },
    {
      "cell_type": "code",
      "metadata": {
        "id": "DHxEgxT6YwR8",
        "colab": {
          "base_uri": "https://localhost:8080/",
          "height": 102
        },
        "outputId": "41b88413-baa5-4b61-aa45-0e7f6be26462"
      },
      "source": [
        "# This shows how to connect your google drive account with a colab instance.\n",
        "\n",
        "# Load the Drive helper and mount; this will prompt for authorization \n",
        "# (Login to google account; allow access, copy the code and paste it below and then press enter)\n",
        "from google.colab import drive\n",
        "drive.mount('/gdrive')\n",
        "\n",
        "# create a folder named CSE415 in your Drive\n",
        "import os \n",
        "BASE_PATH = '/gdrive/My Drive/CSE415/'\n",
        "if not os.path.exists(BASE_PATH):\n",
        "    os.makedirs(BASE_PATH)\n",
        "    \n",
        "# now let's test that Google Drive is up and running. \n",
        "!ls \"/gdrive/My Drive/CSE415\"\n",
        "\n",
        "# The following line will create a text file \"foo.txt\" in the created folder and then remove it\n",
        "!echo \"Hello Google Drive\" > \"/gdrive/My Drive/CSE415/foo.txt\"\n",
        "!cat \"/gdrive/My Drive/CSE415/foo.txt\"\n",
        "!rm \"/gdrive/My Drive/CSE415/foo.txt\"\n",
        "\n",
        "import torch\n",
        "print('Version', torch.__version__)\n",
        "print('CUDA enabled:', torch.cuda.is_available())\n",
        "  \n",
        "# Running this should then print out:\n",
        "# Version 1.3.1\n",
        "# CUDA enabled: True\n",
        "\n",
        "import torch.nn as nn\n",
        "import numpy as np\n",
        "import glob, re, pickle\n",
        "import matplotlib.pyplot as plt\n",
        "import matplotlib.image as mpimg\n",
        "%matplotlib inline\n",
        "\n",
        "from torchvision import datasets, transforms\n",
        "import numpy as np\n",
        "import torch.nn.functional as F\n",
        "import torch.optim as optim\n",
        "import h5py, tqdm\n",
        "import sys\n",
        "sys.path.append(BASE_PATH)\n",
        "\n",
        "# TO DO\n",
        "# write your name here in the format mentioned above\n",
        "name = 'Jerry Hong'\n"
      ],
      "execution_count": null,
      "outputs": [
        {
          "output_type": "stream",
          "text": [
            "Drive already mounted at /gdrive; to attempt to forcibly remount, call drive.mount(\"/gdrive\", force_remount=True).\n",
            "cifar10  language\n",
            "Hello Google Drive\n",
            "Version 1.4.0\n",
            "CUDA enabled: True\n"
          ],
          "name": "stdout"
        }
      ]
    },
    {
      "cell_type": "code",
      "metadata": {
        "id": "lrYXOGpsM6TV",
        "colab": {
          "base_uri": "https://localhost:8080/",
          "height": 190
        },
        "outputId": "63abb718-c7c2-488a-e366-62d57eca3d6d"
      },
      "source": [
        "# Some useful save, restoring and conversion functions are provided below. No need to change them.\n",
        "\n",
        "!pip3 install matplotlib-label-lines\n",
        "from labellines import labelLines\n",
        "\n",
        "class pt_util(object):\n",
        "    # This does more than the simple Pytorch restore. It checks that the names \n",
        "    # of variables match, and if they don't doesn't throw a fit. It is similar \n",
        "    # to how Caffe acts. This is especially useful if you decide to change your\n",
        "    # network architecture but don't want to retrain from scratch.\n",
        "    @staticmethod\n",
        "    def restore(net, save_file):\n",
        "        \"\"\" Args:\n",
        "        net(torch.nn.Module): The net to restore\n",
        "        save_file(str): The file path\n",
        "        \"\"\"\n",
        "        net_state_dict = net.state_dict()\n",
        "        restore_state_dict = torch.load(save_file)\n",
        "\n",
        "        restored_var_names = set()\n",
        "\n",
        "        print('Restoring:')\n",
        "        for var_name in restore_state_dict.keys():\n",
        "            if var_name in net_state_dict:\n",
        "                var_size = net_state_dict[var_name].size()\n",
        "                restore_size = restore_state_dict[var_name].size()\n",
        "                if var_size != restore_size:\n",
        "                    print('Shape mismatch for var', var_name, 'expected', var_size, 'got', restore_size)\n",
        "                else:\n",
        "                    if isinstance(net_state_dict[var_name], torch.nn.Parameter):\n",
        "                        # backwards compatibility for serialized parameters\n",
        "                        net_state_dict[var_name] = restore_state_dict[var_name].data\n",
        "                    try:\n",
        "                        net_state_dict[var_name].copy_(restore_state_dict[var_name])\n",
        "                        print(str(var_name)+' -> \\t'+str(var_size)+' = '+str(int(np.prod(var_size)*4 / 10**6)) + 'MB')\n",
        "                        restored_var_names.add(var_name)\n",
        "                    except:\n",
        "                        print('While copying the parameter named {}, whose dimensions in the model are'\n",
        "                              ' {} and whose dimensions in the checkpoint are {}, ...'.format(\n",
        "                                  var_name, var_size, restore_size))\n",
        "                        raise\n",
        "\n",
        "        ignored_var_names = sorted(list(set(restore_state_dict.keys()) - restored_var_names))\n",
        "        unset_var_names = sorted(list(set(net_state_dict.keys()) - restored_var_names))\n",
        "        print('')\n",
        "        if len(ignored_var_names) == 0:\n",
        "            print('Restored all variables')\n",
        "        else:\n",
        "            print('Did not restore:\\n\\t' + '\\n\\t'.join(ignored_var_names))\n",
        "        if len(unset_var_names) == 0:\n",
        "            print('No new variables')\n",
        "        else:\n",
        "            print('Initialized but did not modify:\\n\\t' + '\\n\\t'.join(unset_var_names))\n",
        "\n",
        "        print('Restored %s' % save_file)\n",
        "        \n",
        "    # Restores the last saved network in a folder using file write time.\n",
        "    @staticmethod\n",
        "    def restore_latest(net, folder):\n",
        "        \"\"\"\n",
        "        Args:\n",
        "          net(torch.nn.module): The net to restore\n",
        "          folder(str): The folder path\n",
        "        Returns:\n",
        "          int: Attempts to parse the epoch from the state and returns it if possible. Otherwise returns 0.\n",
        "        \"\"\"\n",
        "        checkpoints = sorted(glob.glob(folder + '/*.pt'), key=os.path.getmtime)\n",
        "        start_it = 0\n",
        "        if len(checkpoints) > 0:\n",
        "            pt_util.restore(net, checkpoints[-1])\n",
        "            start_it = int(re.findall(r'\\d+', checkpoints[-1])[-1])\n",
        "        return start_it\n",
        "\n",
        "    # Saves the network and optionally deletes old save files. \n",
        "    # If num_to_keep is 0, it won't remove any.\n",
        "    @staticmethod\n",
        "    def save(net, file_name, num_to_keep=1):\n",
        "        \"\"\"\n",
        "        Args:\n",
        "        net(torch.nn.module): The network to save\n",
        "        file_name(str): the path to save the file.\n",
        "        num_to_keep(int): Specifies how many previous saved states to keep once this one has been saved.\n",
        "            Defaults to 1. Specifying < 0 will not remove any previous saves.\n",
        "        \"\"\"\n",
        "        folder = os.path.dirname(file_name)\n",
        "        if not os.path.exists(folder):\n",
        "            os.makedirs(folder)\n",
        "        torch.save(net.state_dict(), file_name)\n",
        "        extension = os.path.splitext(file_name)[1]\n",
        "        checkpoints = sorted(glob.glob(folder + '/*' + extension), key=os.path.getmtime)\n",
        "        print('Saved %s\\n' % file_name)\n",
        "        if num_to_keep > 0:\n",
        "            for ff in checkpoints[:-num_to_keep]:\n",
        "                os.remove(ff)\n",
        "                \n",
        "\n",
        "    @staticmethod\n",
        "    def to_numpy(array):\n",
        "        if isinstance(array, torch.Tensor):\n",
        "            return array.detach().cpu().numpy()\n",
        "        elif isinstance(array, dict):\n",
        "            return {key: pt_util.to_numpy(val) for key, val in array.items()}\n",
        "        else:\n",
        "            return np.asarray(array)\n",
        "\n",
        "    @staticmethod\n",
        "    def from_numpy(np_array):\n",
        "        if isinstance(np_array, list):\n",
        "            try:\n",
        "                np_array = np.stack(np_array, 0)\n",
        "            except ValueError:\n",
        "                np_array = np.stack([from_numpy(val) for val in np_array], 0)\n",
        "        elif isinstance(np_array, dict):\n",
        "            return {key: from_numpy(val) for key, val in np_array.items()}\n",
        "        np_array = np.asarray(np_array)\n",
        "        if np_array.dtype == np.uint32:\n",
        "            print(\"numpy -> torch dtype uint32 not supported, using int32\")\n",
        "            np_array = np_array.astype(np.int32)\n",
        "        elif np_array.dtype == np.dtype(\"O\"):\n",
        "            print(\"numpy -> torch dtype Object not supported, returning numpy array\")\n",
        "            return np_array\n",
        "        elif np_array.dtype.type == np.str_:\n",
        "            print(\"numpy -> torch dtype numpy.str_ not supported, returning numpy array\")\n",
        "            return np_array\n",
        "        return torch.from_numpy(np_array)\n",
        "\n",
        "    @staticmethod\n",
        "    def write_log(filename, data):\n",
        "        \"\"\"Pickles and writes data to a file\n",
        "        Args:\n",
        "            filename(str): File name\n",
        "            data(pickleable object): Data to save\n",
        "        \"\"\"\n",
        "        if not os.path.exists(os.path.dirname(filename)):\n",
        "          os.makedirs(os.path.dirname(filename))\n",
        "        pickle.dump(data, open(filename, 'wb')) \n",
        "\n",
        "    def read_log(filename, default_value=None):\n",
        "        \"\"\"Reads pickled data or returns the default value if none found\n",
        "        Args:\n",
        "            filename(str): File name\n",
        "            default_value(anything): Value to return if no file is found\n",
        "        Returns:\n",
        "            unpickled file\n",
        "        \"\"\"\n",
        "        if os.path.exists(filename):\n",
        "            return pickle.load(open(filename, 'rb'))\n",
        "        return default_value\n",
        "    \n",
        "    # Create plots\n",
        "    @staticmethod\n",
        "    def plot(x_values, y_values, title, xlabel, ylabel, plotlabel):\n",
        "        \"\"\"Plots a line graph\n",
        "        Args:\n",
        "            x_values(list or np.array): x values for the line\n",
        "            y_values(list or np.array): y values for the line\n",
        "            title(str): Title for the plot\n",
        "            xlabel(str): Label for the x axis\n",
        "            ylabel(str): label for the y axis\n",
        "        \"\"\"\n",
        "        plt.figure(figsize=(20, 10))\n",
        "        plt.plot(x_values, y_values, label=plotlabel, color='b')\n",
        "        labelLines(plt.gca().get_lines(), color='b',fontsize=13)\n",
        "        plt.title(title)\n",
        "        plt.xlabel(xlabel)\n",
        "        plt.ylabel(ylabel)\n",
        "        plt.show()\n",
        "\n",
        "    def to_scaled_uint8(array):\n",
        "        \"\"\"Returns a normalized uint8 scaled to 0-255. This is useful for showing images especially of floats.\n",
        "        Args:\n",
        "            array(np.array): The array to normalize\n",
        "        Returns:\n",
        "            np.array normalized and of type uint8\n",
        "        \"\"\"\n",
        "        array = np.array(array, dtype=np.float32)\n",
        "        array -= np.min(array)\n",
        "        array *= (255. / np.max(array))\n",
        "        array = array.astype(np.uint8)\n",
        "        return array"
      ],
      "execution_count": null,
      "outputs": [
        {
          "output_type": "stream",
          "text": [
            "Requirement already satisfied: matplotlib-label-lines in /usr/local/lib/python3.6/dist-packages (0.3.8)\n",
            "Requirement already satisfied: matplotlib in /usr/local/lib/python3.6/dist-packages (from matplotlib-label-lines) (3.1.3)\n",
            "Requirement already satisfied: numpy in /usr/local/lib/python3.6/dist-packages (from matplotlib-label-lines) (1.17.5)\n",
            "Requirement already satisfied: pyparsing!=2.0.4,!=2.1.2,!=2.1.6,>=2.0.1 in /usr/local/lib/python3.6/dist-packages (from matplotlib->matplotlib-label-lines) (2.4.6)\n",
            "Requirement already satisfied: cycler>=0.10 in /usr/local/lib/python3.6/dist-packages (from matplotlib->matplotlib-label-lines) (0.10.0)\n",
            "Requirement already satisfied: kiwisolver>=1.0.1 in /usr/local/lib/python3.6/dist-packages (from matplotlib->matplotlib-label-lines) (1.1.0)\n",
            "Requirement already satisfied: python-dateutil>=2.1 in /usr/local/lib/python3.6/dist-packages (from matplotlib->matplotlib-label-lines) (2.6.1)\n",
            "Requirement already satisfied: six in /usr/local/lib/python3.6/dist-packages (from cycler>=0.10->matplotlib->matplotlib-label-lines) (1.12.0)\n",
            "Requirement already satisfied: setuptools in /usr/local/lib/python3.6/dist-packages (from kiwisolver>=1.0.1->matplotlib->matplotlib-label-lines) (45.2.0)\n"
          ],
          "name": "stdout"
        }
      ]
    },
    {
      "cell_type": "markdown",
      "metadata": {
        "id": "u486U-pUJnDY"
      },
      "source": [
        "# Part 1: Classification Network for CIFAR-10\n",
        "\n",
        "# 1.1 Loading and transforming data\n",
        "\n",
        "CIFAR-10 data consists of 60000 32x32 images, belonging to 10 classes. More details can be found here:\n",
        "https://www.cs.toronto.edu/~kriz/cifar.html\n",
        "\n",
        "Note: Each image is a matrix of shape width x height (W x H) with 3 channels (C).\n",
        "\n",
        "The code for loading the dataset and transforming the data accordingly is provided. \n",
        "The transform *ToTensor* converts the output from the dataset to be a tensor in CxHxW format.\n",
        "One type of data augmentation - data normalization, is shown in the transforms. You have to add at least 2 of the following data augmentations in 'transform_train' (try to understand which ones you need, and what parameters you should choose for them):\n",
        "\n",
        "- RandomHorizontalFlip\n",
        "- RandomCrop\n",
        "- ColorJitter\n",
        "- RandomRotation\n",
        "\n",
        "\n",
        "# 1.2 Defining network\n",
        "\n",
        "You need to define a convolutional neural network (CNN) to classify the data into its classes. Sample code for classification of MNIST (handwritten digits dataset) is given here: https://github.com/pytorch/examples/blob/master/mnist/main.py\n",
        "\n",
        "You will define the network layers in the `__init__` function, and the forward call will pass the data through those layers. The network should be as follows:\n",
        "\n",
        "- One 3x3 convolution layer with 32 filters.\n",
        "- One 2x2 maxpooling layer\n",
        "- One 3x3 convolution layer with 64 filters. \n",
        "- One 3x3 convolution layer with 64 filters. \n",
        "- One 2x2 maxpooling layer\n",
        "- One 3x3 convolution layer with 128 filters. \n",
        "- One 3x3 convolution layer with 128 filters.\n",
        "- One 2x2 maxpooling layer\n",
        "- One fully connected layer with 512 outputs.\n",
        "- Then the final classification layer with 10 outputs.\n",
        "\n",
        "- Every convolution layer should be followed by ReLU nonlinearity followed by batch normalization. Use padding in every convolution layer to retain input image size.\n",
        "        \n",
        "\n",
        "\n",
        "# Helpful functions\n",
        "- https://pytorch.org/docs/stable/tensors.html\n",
        "- https://pytorch.org/docs/stable/nn.html\n",
        "- You can call `pt_util.to_numpy(x)` to get a numpy array from a torch tensor x.\n",
        "- `pt_util.from_numpy(x)` makes a torch Tensor from the numpy array x.\n",
        "\n",
        "# Common Oopsies\n",
        "- __Q__ It only runs for one iteration and says it's done: __A__ We provided code that automatically loads the most recent file. If you don't want to start from that checkpoint, simply find it in your google drive and delete it.\n",
        "- __Q__ I want to save more than just the last checkpoint: __A__ You can change the save function to save any number of previous checkpoints. You can also tell it to save all of them (not delete anything), by passing in 0.\n",
        "- __Q__ Pytorch is saying things are the wrong shape: __A__ You can easily reshape things using the `view` function (https://pytorch.org/docs/stable/tensors.html#torch.Tensor.view). It is like the Numpy `reshape` function.\n",
        "- __Q__ Pytorch is saying things are on the wrong device: __A__ You can move data between devices with the `.to(device)` call. Generally, all arguments to a function will need to be on the same device."
      ]
    },
    {
      "cell_type": "code",
      "metadata": {
        "id": "0oKKR9EsoK9G",
        "colab": {
          "base_uri": "https://localhost:8080/",
          "height": 51
        },
        "outputId": "5254093f-34b4-46b9-dab9-494632cf165f"
      },
      "source": [
        "# Data augmentation\n",
        "\n",
        "transform_train = transforms.Compose([\n",
        "    # TO DO\n",
        "    transforms.RandomHorizontalFlip(10),\n",
        "    transforms.RandomRotation(10),\n",
        "    transforms.ToTensor(),\n",
        "    transforms.Normalize((0.4914, 0.4822, 0.4465), (0.2023, 0.1994, 0.2010)),\n",
        "])\n",
        "\n",
        "transform_test = transforms.Compose([\n",
        "    transforms.ToTensor(),\n",
        "    transforms.Normalize((0.4914, 0.4822, 0.4465), (0.2023, 0.1994, 0.2010)),\n",
        "])\n",
        "\n",
        "# Load the dataset\n",
        "\n",
        "DATA_PATH = BASE_PATH + 'cifar10/'\n",
        "data_train = datasets.CIFAR10(root=DATA_PATH, train=True, download=True, transform=transform_train)\n",
        "data_test = datasets.CIFAR10(root=DATA_PATH, train=False, download=True, transform=transform_test)\n",
        "\n",
        "\n",
        "# This is where you define your network architecture.\n",
        "# You can use that as a guide, but make sure you understand what it all does.\n",
        "\n",
        "class CifarNet(nn.Module):\n",
        "    def __init__(self):\n",
        "        super(CifarNet, self).__init__()\n",
        "        self.best_accuracy = -1\n",
        "        # TO DO\n",
        "        self.conv1 = nn.Conv2d(3, 32, 3, 1, 1)\n",
        "        self.conv2 = nn.Conv2d(32, 64, 3, 1, 1)\n",
        "        self.conv3 = nn.Conv2d(64, 64, 3, 1, 1)\n",
        "        self.conv4 = nn.Conv2d(64, 128, 3, 1, 1)\n",
        "        self.conv5 = nn.Conv2d(128, 128, 3, 1, 1)\n",
        "        self.batch1 = nn.BatchNorm2d(32)\n",
        "        self.batch2 = nn.BatchNorm2d(64)\n",
        "        self.batch3 = nn.BatchNorm2d(64)\n",
        "        self.batch4 = nn.BatchNorm2d(128)\n",
        "        self.batch5 = nn.BatchNorm2d(128)\n",
        "        self.fc1 = nn.Linear(2048, 512)\n",
        "        self.fc2 = nn.Linear(512, 10)\n",
        "        \n",
        "        \n",
        "    def forward(self, x):\n",
        "        # TO DO \n",
        "        x = self.conv1(x)\n",
        "        x = nn.functional.relu(x)\n",
        "        x = self.batch1(x)\n",
        "        x = nn.functional.max_pool2d(x, 2)\n",
        "        x = self.conv2(x)\n",
        "        x = nn.functional.relu(x)\n",
        "        x = self.batch2(x)\n",
        "        x = self.conv3(x)\n",
        "        x = nn.functional.relu(x)\n",
        "        x = self.batch3(x)\n",
        "        x = nn.functional.max_pool2d(x, 2)\n",
        "        x = self.conv4(x)\n",
        "        x = nn.functional.relu(x)\n",
        "        x = self.batch4(x)\n",
        "        x = self.conv5(x)\n",
        "        x = nn.functional.relu(x)\n",
        "        x = self.batch5(x)\n",
        "        x = nn.functional.max_pool2d(x, 2)\n",
        "        x = torch.flatten(x, 1)\n",
        "        x = self.fc1(x)\n",
        "        x = self.fc2(x)\n",
        "        return x\n",
        "        \n",
        "      \n",
        "    def loss(self, prediction, label, reduction='elementwise_mean'):\n",
        "        loss_val = F.cross_entropy(prediction, label.squeeze(), reduction=reduction)\n",
        "        return loss_val\n",
        "\n",
        "    def save_model(self, file_path, num_to_keep=1):\n",
        "        pt_util.save(self, file_path, num_to_keep)\n",
        "        \n",
        "    def save_best_model(self, accuracy, file_path, num_to_keep=1):\n",
        "        if accuracy > self.best_accuracy:\n",
        "            self.best_accuracy = accuracy\n",
        "            self.save_model(file_path, num_to_keep)\n",
        "\n",
        "    def load_model(self, file_path):\n",
        "        pt_util.restore(self, file_path)\n",
        "\n",
        "    def load_last_model(self, dir_path):\n",
        "        return pt_util.restore_latest(self, dir_path)"
      ],
      "execution_count": null,
      "outputs": [
        {
          "output_type": "stream",
          "text": [
            "Files already downloaded and verified\n",
            "Files already downloaded and verified\n"
          ],
          "name": "stdout"
        }
      ]
    },
    {
      "cell_type": "markdown",
      "metadata": {
        "id": "PIYXQW8fX8gb"
      },
      "source": [
        "# 1.3 Training and testing the network\n",
        "\n",
        "The train and test functions are given below. Fill in the TO DO with the given instructions. At the end, training and testing loss and accuracy plots will be displayed. Right click on the plots and save them as png files. Put these images on a single page (titled **CIFAR plots**) in your report, which you can create as a doc file but you will need to convert it into a pdf for submission. You also need to submit the 'cifar_050.pt' file from the 'checkpoints' folder inside your 'cifar10' folder."
      ]
    },
    {
      "cell_type": "code",
      "metadata": {
        "id": "pNf3AoHVvKXI"
      },
      "source": [
        "import time\n",
        "\n",
        "def train(model, device, train_loader, optimizer, epoch, log_interval):\n",
        "    model.train()\n",
        "    losses = []\n",
        "    for batch_idx, (data, label) in enumerate(train_loader):\n",
        "        # send the data and labels to GPU\n",
        "        data, label = data.to(device), label.to(device)\n",
        "        # initialize the optimizer\n",
        "        optimizer.zero_grad()\n",
        "        # TO DO (call the 'model' with 'data' as input)\n",
        "        output = model(data)\n",
        "        # TO DO (call the model.loss function with 'output' and 'label' as inputs) \n",
        "        loss = model.loss(output, label)\n",
        "        \n",
        "        # backpropagate the loss\n",
        "        losses.append(loss.item())\n",
        "        loss.backward()\n",
        "        optimizer.step()\n",
        "        \n",
        "        # Log the training progress\n",
        "        if batch_idx % log_interval == 0:\n",
        "            print('{} Train Epoch: {} [{}/{} ({:.0f}%)]\\tLoss: {:.6f}'.format(\n",
        "                time.ctime(time.time()),\n",
        "                epoch, batch_idx * len(data), len(train_loader.dataset),\n",
        "                100. * batch_idx / len(train_loader), loss.item()))\n",
        "    return np.mean(losses)\n",
        "\n",
        "def test(model, device, test_loader, log_interval=None):\n",
        "    model.eval()\n",
        "    test_loss = 0\n",
        "    correct = 0\n",
        "\n",
        "    with torch.no_grad():\n",
        "        for batch_idx, (data, label) in enumerate(test_loader):\n",
        "            # send data and label to GPU\n",
        "            data, label = data.to(device), label.to(device)\n",
        "            # TO DO (call the model with 'data' as input)\n",
        "            output = model(data)\n",
        "            # TO DO (call model.loss function with 'output and 'label' as inputs and reduction='sum')\n",
        "            test_loss_on = model.loss(output, label, reduction='sum')\n",
        "            \n",
        "            test_loss += test_loss_on.item()\n",
        "            \n",
        "            # Take the class with maximum probability as the output class.\n",
        "            pred = output.max(1)[1]\n",
        "            correct_mask = pred.eq(label.view_as(pred))\n",
        "            num_correct = correct_mask.sum().item()\n",
        "            correct += num_correct\n",
        "            \n",
        "            # Log the test progress\n",
        "            if log_interval is not None and batch_idx % log_interval == 0:\n",
        "                print('{} Test: [{}/{} ({:.0f}%)]\\tLoss: {:.6f}'.format(\n",
        "                    time.ctime(time.time()),\n",
        "                    batch_idx * len(data), len(test_loader.dataset),\n",
        "                    100. * batch_idx / len(test_loader), test_loss_on))\n",
        "\n",
        "    test_loss /= len(test_loader.dataset)\n",
        "    test_accuracy = 100. * correct / len(test_loader.dataset)\n",
        "\n",
        "    print('\\nTest set: Average loss: {:.4f}, Accuracy: {}/{} ({:.0f}%)\\n'.format(\n",
        "        test_loss, correct, len(test_loader.dataset), test_accuracy))\n",
        "    return test_loss, test_accuracy\n"
      ],
      "execution_count": null,
      "outputs": []
    },
    {
      "cell_type": "code",
      "metadata": {
        "id": "50zDbqjXu_Qq"
      },
      "source": [
        "# Now the actual training and testing code\n",
        "\n",
        "import multiprocessing\n",
        "import traceback\n",
        "\n",
        "# Play around with these constants, you may find a better setting.\n",
        "BATCH_SIZE = 32\n",
        "TEST_BATCH_SIZE = 32\n",
        "EPOCHS = 50\n",
        "LEARNING_RATE = 0.001\n",
        "MOMENTUM = 0.9\n",
        "USE_CUDA = True\n",
        "SEED = 0\n",
        "PRINT_INTERVAL = 100\n",
        "WEIGHT_DECAY = 0.0005\n",
        "LOG_PATH = DATA_PATH + 'log.pkl'\n",
        "\n",
        "# handle GPU connection and multiprocessing\n",
        "use_cuda = USE_CUDA and torch.cuda.is_available()\n",
        "torch.manual_seed(SEED)\n",
        "\n",
        "device = torch.device(\"cuda\" if use_cuda else \"cpu\")\n",
        "print('Using device', device)\n",
        "import multiprocessing\n",
        "print('num cpus:', multiprocessing.cpu_count())\n",
        "kwargs = {'num_workers': 0, 'pin_memory': True} if use_cuda else {}\n",
        "\n",
        "class_names = ['plane', 'car', 'bird', 'cat', 'deer', 'dog', 'frog', 'horse', 'ship', 'truck']\n",
        "\n",
        "# iterator over the data\n",
        "train_loader = torch.utils.data.DataLoader(data_train, batch_size=BATCH_SIZE, shuffle=True, **kwargs)\n",
        "test_loader = torch.utils.data.DataLoader(data_test, batch_size=TEST_BATCH_SIZE, shuffle=False, **kwargs)\n",
        "\n",
        "# Initialize network and send it to GPU\n",
        "model = CifarNet().to(device)\n",
        "# Define optimizer\n",
        "optimizer = optim.SGD(model.parameters(), lr=LEARNING_RATE, momentum=MOMENTUM, weight_decay=WEIGHT_DECAY)\n",
        "\n",
        "# This will train from scratch\n",
        "start_epoch = 0 \n",
        "train_losses, test_losses, test_accuracies = [], [], []\n",
        "\n",
        "# To resume training from last saved model, uncomment the following 2 lines\n",
        "# start_epoch = model.load_last_model(DATA_PATH + 'checkpoints')\n",
        "# train_losses, test_losses, test_accuracies = pt_util.read_log(LOG_PATH, ([], [], []))\n",
        "\n",
        "# Get the initial test losses and accuracies\n",
        "test_loss, test_accuracy = test(model, device, test_loader)\n",
        "test_losses.append((start_epoch, test_loss))\n",
        "test_accuracies.append((start_epoch, test_accuracy))\n",
        "\n",
        "try:\n",
        "    for epoch in range(start_epoch, EPOCHS + 1):\n",
        "        # train the model for 1 epoch\n",
        "        train_loss = train(model, device, train_loader, optimizer, epoch, PRINT_INTERVAL)\n",
        "        train_losses.append((epoch, train_loss))\n",
        "        # test the model after 1 epoch\n",
        "        test_loss, test_accuracy = test(model, device, test_loader)\n",
        "        test_losses.append((epoch, test_loss))\n",
        "        test_accuracies.append((epoch, test_accuracy))\n",
        "        # Log the losses and accuracy\n",
        "        pt_util.write_log(LOG_PATH, (train_losses, test_losses, test_accuracies))\n",
        "        # save the current model in the checkpoints folder\n",
        "        model.save_best_model(test_accuracy, DATA_PATH + 'checkpoints/cifar_%03d.pt' % epoch)\n",
        "\n",
        "\n",
        "except KeyboardInterrupt as ke:\n",
        "    print('Interrupted')\n",
        "except:\n",
        "    import traceback\n",
        "    traceback.print_exc()\n",
        "finally:\n",
        "    model.save_model(DATA_PATH + 'checkpoints/cifar_%03d.pt' % epoch, 0)\n",
        "    # Plot the loss and accuracy values over epochs\n",
        "    ep, val = zip(*train_losses)\n",
        "    pt_util.plot(ep, val, 'Train loss', 'Epoch', 'Error', name)\n",
        "    ep, val = zip(*test_losses)\n",
        "    pt_util.plot(ep, val, 'Test loss', 'Epoch', 'Error', name)\n",
        "    ep, val = zip(*test_accuracies)\n",
        "    pt_util.plot(ep, val, 'Test accuracy', 'Epoch', 'Error', name)\n"
      ],
      "execution_count": null,
      "outputs": []
    },
    {
      "cell_type": "code",
      "metadata": {
        "id": "dH87pxnJCrTi"
      },
      "source": [
        ""
      ],
      "execution_count": null,
      "outputs": []
    },
    {
      "cell_type": "code",
      "metadata": {
        "id": "YTh-hbzbCq5w"
      },
      "source": [
        ""
      ],
      "execution_count": null,
      "outputs": []
    },
    {
      "cell_type": "markdown",
      "metadata": {
        "id": "LDxG8IaHX8gm"
      },
      "source": [
        "# 1.4 Attempt to use your own test data\n",
        "\n",
        "Download 5 images for each of the 4 classes given below. Choose the images randomly from Google, but make sure they look somewhat similar to the training data of CIFAR-10 in terms of content. For example, full body image of a dog with minimal background is recommended. Edit the text below to write down the links of the images (**NOTE**: The TAs will be evaluating YOUR network weights with YOUR chosen images, so do not collaborate with others regarding image choices.)\n",
        "\n",
        "Plane:\n",
        "\n",
        "- https://i.insider.com/5d8547db2e22af5bc9096d0d?width=1100&format=jpeg&auto=webp\n",
        "- https://cdn.cnn.com/cnnnext/dam/assets/190906095526-american-airlines-mechanic-faces-sabotage-charge-marsh-nr-vpx-00000225-exlarge-169.jpg\n",
        "- https://s.abcnews.com/images/US/airbus-gty-er-190417_hpMain_16x9_992.jpg\n",
        "- https://www.traveller.com.au/content/dam/images/h/1/9/m/g/3/image.related.articleLeadwide.620x349.h1aa81.png/1548048327915.jpg\n",
        "- https://a57.foxnews.com/static.foxnews.com/foxnews.com/content/uploads/2019/12/931/524/DeltaFlightIstockBoeing767.jpg?ve=1&tl=1\n",
        "\n",
        "Car:\n",
        "\n",
        "- https://www.extremetech.com/wp-content/uploads/2019/12/SONATA-hero-option1-764A5360-edit-640x354.jpg\n",
        "- https://c.ndtvimg.com/2019-08/k8519lf8_bugatti-centodieci-unveiled-at-pebble-beach-car-show_625x300_17_August_19.jpg\n",
        "- https://specials-images.forbesimg.com/imageserve/5d35eacaf1176b0008974b54/960x0.jpg?cropX1=790&cropX2=5350&cropY1=784&cropY2=3349\n",
        "- https://static.carsdn.co/cldstatic/wp-content/uploads/HP2020BMWZ4-e1579802967802.jpg\n",
        "- https://media.wired.com/photos/5d09594a62bcb0c9752779d9/master/pass/Transpo_G70_TA-518126.jpg\n",
        "\n",
        "Dog:\n",
        "\n",
        "- https://www.humanesociety.org/sites/default/files/styles/1240x698/public/2019/02/dog-451643.jpg?h=bf654dbc&itok=MQGvBmuo\n",
        "- https://hips.hearstapps.com/hmg-prod.s3.amazonaws.com/images/smartest-dog-breeds-1553287693.jpg?crop=0.671xw:1.00xh;0.167xw,0&resize=640:*\n",
        "- https://www.guidedogs.org/wp-content/uploads/2019/11/website-donate-mobile.jpg\n",
        "- https://i0.wp.com/cdn-prod.medicalnewstoday.com/content/images/articles/322/322868/golden-retriever-puppy.jpg?w=1155&h=1541\n",
        "- https://d17fnq9dkz9hgj.cloudfront.net/breed-uploads/2018/08/alaskan-malamute-card-large.jpg?bust=1535569394\n",
        "\n",
        "\n",
        "Horse:\n",
        "\n",
        "- https://www.thesprucepets.com/thmb/KYaXBSM013GnZ2jEZJnX4a9oIsU=/3865x2174/smart/filters:no_upscale()/horse-galloping-in-grass-688899769-587673275f9b584db3a44cdf.jpg\n",
        "- https://ichef.bbci.co.uk/news/1024/cpsprodpb/1245A/production/_103224847_horsea.png\n",
        "- https://a57.foxnews.com/static.foxnews.com/foxnews.com/content/uploads/2019/12/931/524/horse.jpg?ve=1&tl=1\n",
        "- https://blogs.gartner.com/debbie_wilson/files/2019/10/horse.jpg\n",
        "- https://thehorse.com/wp-content/uploads/2017/01/iStock-510488648.jpg\n",
        "\n",
        "Now upload these images in the 'cifar10' folder in your drive. Then write a function show_images() to plot the images in a 4 x 5 grid using matplotlib. Functions to use among others:\n",
        "\n",
        "- plt.subplot() or fig.add_subplot()\n",
        "- plt.imshow() or ax.imshow()\n",
        "- plt.axis('off') or ax.set_axis_off()\n",
        "- plt.show()\n",
        "- Image.open() from PIL (convert to numpy array before use in imshow) \n",
        "\n",
        "Once done, right click on the grid and click 'Save Image As'. Put the image in your report on a page (titled **External Images**).\n",
        "\n",
        "# EXTRA CREDIT (20 points)\n",
        "Use these images as the test set and check the accuracy of your trained model on this custom test set. A useful article: https://towardsdatascience.com/building-efficient-custom-datasets-in-pytorch-2563b946fd9f\n"
      ]
    },
    {
      "cell_type": "code",
      "metadata": {
        "id": "2Aud1m4OX8gn",
        "colab": {
          "base_uri": "https://localhost:8080/",
          "height": 244
        },
        "outputId": "07d5a555-5d68-4b20-f28f-5970d73de3d2"
      },
      "source": [
        "# TO DO : image visualization; you can modify anything here\n",
        "from PIL import Image\n",
        "def show_images():\n",
        "    image_list = []\n",
        "    image_list.append('/gdrive/My Drive/CSE415/cifar10/plane1.jpeg')\n",
        "    image_list.append('/gdrive/My Drive/CSE415/cifar10/plane2.jpg')\n",
        "    image_list.append('/gdrive/My Drive/CSE415/cifar10/plane3.jpg')\n",
        "    image_list.append('/gdrive/My Drive/CSE415/cifar10/plane4.jpg')\n",
        "    image_list.append('/gdrive/My Drive/CSE415/cifar10/plane5.jpg')\n",
        "    image_list.append('/gdrive/My Drive/CSE415/cifar10/car1.jpg')\n",
        "    image_list.append('/gdrive/My Drive/CSE415/cifar10/car2.jpg')\n",
        "    image_list.append('/gdrive/My Drive/CSE415/cifar10/car3.jpg')\n",
        "    image_list.append('/gdrive/My Drive/CSE415/cifar10/car4.jpg')\n",
        "    image_list.append('/gdrive/My Drive/CSE415/cifar10/car5.jpg')\n",
        "    image_list.append('/gdrive/My Drive/CSE415/cifar10/dog1.jpg')\n",
        "    image_list.append('/gdrive/My Drive/CSE415/cifar10/dog2.jpg')\n",
        "    image_list.append('/gdrive/My Drive/CSE415/cifar10/dog3.jpg')\n",
        "    image_list.append('/gdrive/My Drive/CSE415/cifar10/dog4.jpg')\n",
        "    image_list.append('/gdrive/My Drive/CSE415/cifar10/dog5.jpg')\n",
        "    image_list.append('/gdrive/My Drive/CSE415/cifar10/horse1.jpg')\n",
        "    image_list.append('/gdrive/My Drive/CSE415/cifar10/horse2.png')\n",
        "    image_list.append('/gdrive/My Drive/CSE415/cifar10/horse3.jpg')\n",
        "    image_list.append('/gdrive/My Drive/CSE415/cifar10/horse4.jpg')\n",
        "    image_list.append('/gdrive/My Drive/CSE415/cifar10/horse5.jpg')\n",
        "\n",
        "    fig, axs = plt.subplots(4, 5)\n",
        "    for i in range(4):\n",
        "      for j in range(5):\n",
        "        image = Image.open(image_list[i * 5 + j])\n",
        "        axs[i, j].imshow(image)\n",
        "        axs[i, j].axis('off')\n",
        "    \n",
        "    plt.show()\n",
        "\n",
        "show_images()\n",
        "# EXTRA CREDIT CODE HERE (IF ANY)"
      ],
      "execution_count": null,
      "outputs": [
        {
          "output_type": "display_data",
          "data": {
            "image/png": "[encoded data removed]",
            "text/plain": [
              "<Figure size 432x288 with 20 Axes>"
            ]
          },
          "metadata": {
            "tags": []
          }
        }
      ]
    },
    {
      "cell_type": "markdown",
      "metadata": {
        "id": "fj5IqkMljWwl"
      },
      "source": [
        "# Part 2: Language generation using character-level RNNs\n",
        "\n",
        "# 2.1 Processing the data\n",
        "\n",
        "We'll be using the complete text of Harry Potter as our corpus. Place the harry_potter.txt file provided in the 'language' folder created in your drive.\n",
        "\n",
        "1) Create a dictionary voc2ind to define the vocabulary. voc2ind contents will be like `{' ': 0, 'A': 1, 'B': 2, 'C': 3, ... '0': 35, '1': 36, ..., '$': 78, '#': 79, '(': 80, ...}`. The keys include all the 26 alphabets, both upper case and lower case separately, digits 0-9 and special characters that may appear in a general text. The values corresponding to the keys can be in any order. You may have to handle single and double quotes carefully in the keys since they are generally used as string delimiters. ind2voc is the inverse of voc2ind.\n",
        "\n",
        "2) Now using the vocabulary above, convert text into a list of tokens. For example, if the text is **`\"ABA CDBE\"`**, the token version will be a list with contents `[1, 2, 1, 0, 3, 4, 2, 5]`. Create this list where instructed below.\n",
        "\n",
        "3) train_text and test_text should contain the first 80% and the last 20% of the 'token' list. This should be simple to write.\n"
      ]
    },
    {
      "cell_type": "code",
      "metadata": {
        "id": "YD944kC5X8gr",
        "colab": {
          "base_uri": "https://localhost:8080/",
          "height": 34
        },
        "outputId": "60c63ea0-d951-4faf-a554-0295c4c49807"
      },
      "source": [
        "DATA_PATH = BASE_PATH + 'language/'\n",
        "if not os.path.exists(DATA_PATH):\n",
        "    os.makedirs(DATA_PATH)\n",
        "\n",
        "def prepare_data(data_path):\n",
        "    with open(data_path) as f:\n",
        "        # This reads all the data from the file, but does not do any processing on it.\n",
        "        data = f.read()\n",
        "    \n",
        "    # TO DO (create the voc2ind dictionary)\n",
        "    voc2ind = {' ': 0, 'a': 1, 'b': 2, 'c': 3, 'd': 4, 'e': 5, 'f': 6, 'g': 7, 'h': 8, 'i': 9, 'j': 10, \n",
        "               'k': 11, 'l': 12, 'm':13, 'n':14, 'o': 15, 'p': 16, 'q':17, 'r': 18, 's': 19, 't': 20, \n",
        "               'u': 21, 'v': 22, 'w': 23, 'x': 24, 'y': 25, 'z': 26, 'A': 27, 'B': 28, 'C': 29, 'D': 30, \n",
        "               'E': 31, 'F': 32, 'G': 33, 'H': 34, 'I': 35, 'J': 36, 'K': 37, 'L': 38, 'M': 39, 'N': 40, \n",
        "               'O': 41, 'P': 42, 'Q': 43, 'R': 44, 'S': 45, 'T': 46, 'U': 47, 'V': 48, 'W': 49, 'X': 50, \n",
        "               'Y': 51, 'Z': 52, '0': 53, '1': 54, '2': 55, '3': 56, '4': 57, '5': 58, '6': 59, '7': 60, \n",
        "               '8': 61, '9': 62, ',': 63, '.': 64, '?': 65, '!': 66, '@': 67, '#': 68, '$': 69, '%': 70, \n",
        "               '^': 71, '*': 72, '(': 73, ')': 74, '-': 75, '_': 76, '=': 77, '+': 78, ':': 79, ';': 80, \n",
        "               '<': 81, '>': 82, '/': 83, '\\'': 84, '\\\"': 85, '~': 86, '`': 87, '\\\\': 88, '[': 89, ']': 90,\n",
        "               '|': 91, '&': 92, '{': 93, '}': 94}\n",
        "    \n",
        "    # transform the data into an integer representation of the tokens.\n",
        "    token = []\n",
        "    for char in data:\n",
        "        # replaces all weird spacing like tab, next line etc. with space\n",
        "        if re.match('\\s+', char): char = ' '\n",
        "        # TO DO (create the list of tokens; basically replace None with the correct expression)\n",
        "        token.append(voc2ind[char])\n",
        "\n",
        "    ind2voc = {val: key for key, val in voc2ind.items()}\n",
        "\n",
        "    # TO DO \n",
        "    train_text = token[0 : int(len(token) * 0.8)]\n",
        "    test_text = token[int(len(token) * 0.8) : int(len(token))]\n",
        "\n",
        "    pickle.dump({'tokens': train_text, 'ind2voc': ind2voc, 'voc2ind':voc2ind}, open(DATA_PATH + 'harry_potter_chars_train.pkl', 'wb'))\n",
        "    pickle.dump({'tokens': test_text, 'ind2voc': ind2voc, 'voc2ind':voc2ind}, open(DATA_PATH + 'harry_potter_chars_test.pkl', 'wb'))\n",
        "    print('Data prepared!')\n",
        "    \n",
        "prepare_data(DATA_PATH + 'harry_potter.txt')\n",
        "\n",
        "class Vocabulary(object):\n",
        "    def __init__(self, data_file):\n",
        "        with open(data_file, 'rb') as data_file:\n",
        "            dataset = pickle.load(data_file)\n",
        "        self.ind2voc = dataset['ind2voc']\n",
        "        self.voc2ind = dataset['voc2ind']\n",
        "\n",
        "    # Returns a string representation of the tokens.\n",
        "    def array_to_words(self, arr):\n",
        "        return ''.join([self.ind2voc[int(ind)] for ind in arr])\n",
        "\n",
        "    # Returns a torch tensor representing each token in words.\n",
        "    def words_to_array(self, words):\n",
        "        return torch.LongTensor([self.voc2ind[word] for word in words])\n",
        "\n",
        "    # Returns the size of the vocabulary.\n",
        "    def __len__(self):\n",
        "        return len(self.voc2ind)"
      ],
      "execution_count": null,
      "outputs": [
        {
          "output_type": "stream",
          "text": [
            "Data prepared!\n"
          ],
          "name": "stdout"
        }
      ]
    },
    {
      "cell_type": "markdown",
      "metadata": {
        "id": "UcjjN2MSgSm5"
      },
      "source": [
        "Now we have to load the data. There's nothing to do here on your part, but this is an explanation of what is going on. First imagine splitting the dataset into N chunks where N is the batch_size and the chunks are contiguous parts of the data. For each batch, we should return one sequence from each of the chunks. The batches should also be sequential an example is described below.\n",
        "\n",
        "The data is 20 characters long `[1, 2, 3, ...20]`. The batch size is 2 and the sequence length is 4\n",
        "- The 1st batch should consist of  `(data =  [[1, 2, 3, 4]; [11, 12, 13, 14]], labels = [[2, 3, 4, 5]; [12, 13, 14, 15]])`\n",
        "- The 2nd batch should consist of `(data =  [[5, 6, 7, 8]; [15, 16, 17, 18]], labels = [[6, 7, 8, 9]; [16, 17, 18, 19]])`\n",
        "- The 3rd batch should consist of `(data =  [[9]; [19]], labels = [[10]; [20]])`\n",
        "- There is no 4th batch.\n",
        "\n",
        "Note:\n",
        "- It is OK to have one batch be shorter than the others as long as all entries in that batch are the same length.\n",
        "- The last label in one batch is the first data in the next batch."
      ]
    },
    {
      "cell_type": "code",
      "metadata": {
        "id": "v313kc-6gCnK"
      },
      "source": [
        "class HarryPotterDataset(torch.utils.data.Dataset):\n",
        "    def __init__(self, data_file, sequence_length, batch_size):\n",
        "        super(HarryPotterDataset, self).__init__()\n",
        "\n",
        "        self.sequence_length = sequence_length\n",
        "        self.batch_size = batch_size\n",
        "        self.vocab = Vocabulary(data_file)\n",
        "\n",
        "        with open(data_file, 'rb') as data_pkl:\n",
        "            dataset = pickle.load(data_pkl)\n",
        "\n",
        "        # make dataset length a multiple of batch size\n",
        "        # removing the last bit to make the data the proper shape mostly gives better results than padding with 0s.\n",
        "        new_dataset_length = (len(dataset['tokens'])//self.batch_size) * self.batch_size        \n",
        "        self.tokens = dataset['tokens'][:new_dataset_length]\n",
        "\n",
        "        self.chunk_size = int(new_dataset_length / self.batch_size)\n",
        "\n",
        "    def __len__(self):\n",
        "        # return the number of unique sequences you have, not the number of characters.\n",
        "        return self.batch_size * int(np.ceil((self.chunk_size-1)/self.sequence_length))\n",
        "        \n",
        "    def __getitem__(self, idx):\n",
        "        # Return the data and label for a character sequence\n",
        "        # Return a single entry for the batch using the idx to decide which chunk you are in and how far down in the chunk you are.\n",
        "        chunk_idx = idx % self.batch_size\n",
        "        pos_idx = idx // self.batch_size\n",
        "\n",
        "        start_idx = self.chunk_size * chunk_idx + self.sequence_length * pos_idx\n",
        "        end_idx = self.chunk_size * chunk_idx + min(self.sequence_length * pos_idx + self.sequence_length + 1, self.chunk_size)\n",
        "\n",
        "        data = self.tokens[start_idx : end_idx]\n",
        "        # The data and labels should be torch long tensors.\n",
        "        return torch.LongTensor(data[:-1]), torch.LongTensor(data[1:])\n",
        "\n",
        "    def vocab_size(self):\n",
        "        return len(self.vocab)"
      ],
      "execution_count": null,
      "outputs": []
    },
    {
      "cell_type": "markdown",
      "metadata": {
        "id": "pGnjPdo-X8gu"
      },
      "source": [
        "# 2.2 Defining the network\n",
        "\n",
        "The network, a generic RNN is defined below for you. Just replace the GRU layer with an LSTM layer. You can look up LSTM definition in Pytorch online. Then, implement the forward pass as instructed."
      ]
    },
    {
      "cell_type": "code",
      "metadata": {
        "id": "F8n79fvLX8g3"
      },
      "source": [
        "TEMPERATURE = 0.5\n",
        "\n",
        "class HarryPotterNet(nn.Module):\n",
        "    def __init__(self, vocab_size, feature_size):\n",
        "        super(HarryPotterNet, self).__init__()\n",
        "        self.vocab_size = vocab_size\n",
        "        self.feature_size = feature_size\n",
        "        self.encoder = nn.Embedding(self.vocab_size, self.feature_size)\n",
        "        # TO DO (replace the following line with LSTM layer)\n",
        "        self.LSTM = nn.LSTM(self.feature_size, self.feature_size, batch_first=True)\n",
        "        self.decoder = nn.Linear(self.feature_size, self.vocab_size)\n",
        "        \n",
        "        # This shares the encoder and decoder weights as described in lecture.\n",
        "        self.decoder.weight = self.encoder.weight\n",
        "        self.decoder.bias.data.zero_()\n",
        "        \n",
        "        self.best_accuracy = -1\n",
        "    \n",
        "    def forward(self, x, hidden_state=None):\n",
        "        batch_size = x.shape[0]\n",
        "        sequence_length = x.shape[1]\n",
        "        \n",
        "        # TO DO \n",
        "        # pass x though the encoder first, then through LSTM, then through the decoder.\n",
        "        # return items from LSTM layer should be both the output and the hidden state.\n",
        "        x = self.encoder(x)\n",
        "        x, hidden_state = self.LSTM(x, hidden_state)\n",
        "        x = self.decoder(x)\n",
        "\n",
        "        return x, hidden_state\n",
        "\n",
        "    # This defines the function that gives a probability distribution and implements the temperature computation.\n",
        "    def inference(self, x, hidden_state=None, temperature=1):\n",
        "        x = x.view(-1, 1)\n",
        "        x, hidden_state = self.forward(x, hidden_state)\n",
        "        x = x.view(1, -1)\n",
        "        x = x / max(temperature, 1e-20)\n",
        "        x = F.softmax(x, dim=1)\n",
        "        return x, hidden_state\n",
        "\n",
        "    # Predefined loss function\n",
        "    def loss(self, prediction, label, reduction='mean'):\n",
        "        loss_val = F.cross_entropy(prediction.view(-1, self.vocab_size), label.view(-1), reduction=reduction)\n",
        "        return loss_val\n",
        "\n",
        "    # Saves the current model\n",
        "    def save_model(self, file_path, num_to_keep=1):\n",
        "        pt_util.save(self, file_path, num_to_keep)\n",
        "\n",
        "    # Saves the best model so far\n",
        "    def save_best_model(self, accuracy, file_path, num_to_keep=1):\n",
        "        if accuracy > self.best_accuracy:\n",
        "            self.save_model(file_path, num_to_keep)\n",
        "            self.best_accuracy = accuracy\n",
        "\n",
        "    def load_model(self, file_path):\n",
        "        pt_util.restore(self, file_path)\n",
        "\n",
        "    def load_last_model(self, dir_path):\n",
        "        return pt_util.restore_latest(self, dir_path)"
      ],
      "execution_count": null,
      "outputs": []
    },
    {
      "cell_type": "markdown",
      "metadata": {
        "id": "bl7424E4X8g7"
      },
      "source": [
        "# 2.3 Character generation and training\n",
        "\n",
        "You don't have to write any code in this part. Just understand how the steps work. The training and testing functions and the main function are quite similar to the ones in Part 1. Here is an interesting article about sampling strategies (we have used max sampling strategy here for convenience):\n",
        "https://towardsdatascience.com/how-to-sample-from-language-models-682bceb97277\n",
        "\n",
        "Feel free to modify various portions of the code to understand better, and refer to online resources. Natural Language Processing details are beyond the scope of this course.\n",
        "\n",
        "At the end, save the 3 plots (train loss, test loss and test accuracy) as before and put them in your report on a single page (titled **NLP plots**). In addition, write down (in your report) the generated sentence that will be displayed at the end. You will also need to submit 'language_020.pt' file from 'checkpoints' folder in your 'language' folder.\n"
      ]
    },
    {
      "cell_type": "code",
      "metadata": {
        "id": "FTya80NxX8g8"
      },
      "source": [
        "TEMPERATURE = 0.5\n",
        "BEAM_WIDTH = 10\n",
        "import tqdm\n",
        "\n",
        "def repackage_hidden(h):\n",
        "    \"\"\"Wraps hidden states in new Tensors, to detach them from their history.\"\"\"\n",
        "    if isinstance(h, torch.Tensor):\n",
        "        return h.detach()\n",
        "    else:\n",
        "        return tuple(repackage_hidden(v) for v in h)\n",
        "    \n",
        "\n",
        "def max_sampling_strategy(sequence_length, model, output, hidden, vocab):\n",
        "    outputs = []\n",
        "    ind = torch.argmax(output)\n",
        "    for ii in range(sequence_length):\n",
        "        output, hidden = model.inference(ind, hidden, TEMPERATURE)\n",
        "        ind = torch.argmax(output)\n",
        "        outputs.append(ind)\n",
        "    return outputs\n",
        "\n",
        "def generate_language(model, device, seed_words, sequence_length, vocab, sampling_strategy='max', beam_width=BEAM_WIDTH):\n",
        "    model.eval()\n",
        "\n",
        "    with torch.no_grad():\n",
        "        seed_words_arr = vocab.words_to_array(seed_words)\n",
        "\n",
        "        # Computes the initial hidden state from the prompt (seed words).\n",
        "        hidden = None\n",
        "        for ind in seed_words_arr:\n",
        "            data = ind.to(device)\n",
        "            output, hidden = model.inference(data, hidden)\n",
        "        \n",
        "        outputs = max_sampling_strategy(sequence_length, model, output, hidden, vocab)\n",
        "        return vocab.array_to_words(seed_words_arr.tolist() + outputs)\n",
        "    \n",
        "\n",
        "def train(model, device, optimizer, train_loader, lr, epoch, log_interval):\n",
        "    model.train()\n",
        "    losses = []\n",
        "    hidden = None\n",
        "    for batch_idx, (data, label) in enumerate(tqdm.tqdm(train_loader)):\n",
        "        # send data and label to GPU\n",
        "        data, label = data.to(device), label.to(device)\n",
        "        # Separates the hidden state across batches.\n",
        "        # Otherwise the backward would try to go all the way to the beginning every time.\n",
        "        if hidden is not None:\n",
        "            hidden = repackage_hidden(hidden)\n",
        "               \n",
        "        optimizer.zero_grad()\n",
        "        # run the model and get the prediction\n",
        "        output, hidden = model(data)\n",
        "        pred = output.max(-1)[1]\n",
        "        \n",
        "        # compute and backpropagate the loss\n",
        "        loss = model.loss(output, label)\n",
        "        losses.append(loss.item())\n",
        "        loss.backward()\n",
        "        \n",
        "        optimizer.step()\n",
        "        \n",
        "        if batch_idx % log_interval == 0:\n",
        "            print('Train Epoch: {} [{}/{} ({:.0f}%)]\\tLoss: {:.6f}'.format(\n",
        "                epoch, batch_idx * len(data), len(train_loader.dataset),\n",
        "                100. * batch_idx / len(train_loader), loss.item()))\n",
        "    return np.mean(losses)\n",
        "\n",
        "\n",
        "def test(model, device, test_loader):\n",
        "    model.eval()\n",
        "    test_loss = 0\n",
        "    correct = 0\n",
        "\n",
        "    with torch.no_grad():\n",
        "        hidden = None\n",
        "        for batch_idx, (data, label) in enumerate(test_loader):\n",
        "            # send data and label to GPU\n",
        "            data, label = data.to(device), label.to(device)\n",
        "            \n",
        "            # test the model\n",
        "            output, hidden = model(data, hidden)\n",
        "            pred = output.max(-1)[1]\n",
        "            correct_mask = pred.eq(label.view_as(pred))\n",
        "            num_correct = correct_mask.sum().item()\n",
        "            correct += num_correct\n",
        "            \n",
        "            # compute test loss\n",
        "            test_loss += model.loss(output, label, reduction='mean').item()\n",
        "            \n",
        "            # Comment this out to avoid printing test results\n",
        "            if batch_idx % 10 == 0:\n",
        "                print('Input\\t%s\\nGT\\t%s\\npred\\t%s\\n\\n' % (\n",
        "                    test_loader.dataset.vocab.array_to_words(data[0]),\n",
        "                    test_loader.dataset.vocab.array_to_words(label[0]),\n",
        "                    test_loader.dataset.vocab.array_to_words(pred[0])))\n",
        "\n",
        "    test_loss /= len(test_loader)\n",
        "    test_accuracy = 100. * correct / (len(test_loader.dataset) * test_loader.dataset.sequence_length)\n",
        "\n",
        "    print('\\nTest set: Average loss: {:.4f}, Accuracy: {}/{} ({:.0f}%)\\n'.format(\n",
        "        test_loss, correct, len(test_loader.dataset) * test_loader.dataset.sequence_length,\n",
        "        100. * correct / (len(test_loader.dataset) * test_loader.dataset.sequence_length)))\n",
        "    return test_loss, test_accuracy\n"
      ],
      "execution_count": null,
      "outputs": []
    },
    {
      "cell_type": "code",
      "metadata": {
        "id": "hljrTyRmX8g-",
        "colab": {
          "base_uri": "https://localhost:8080/",
          "height": 1000
        },
        "outputId": "8a5e9dc7-8721-4902-8572-d08393e01938"
      },
      "source": [
        "def main():\n",
        "    SEQUENCE_LENGTH = 100\n",
        "    BATCH_SIZE = 256\n",
        "    FEATURE_SIZE = 512\n",
        "    TEST_BATCH_SIZE = 256\n",
        "    EPOCHS = 20\n",
        "    LEARNING_RATE = 0.002\n",
        "    WEIGHT_DECAY = 0.0005\n",
        "    USE_CUDA = True\n",
        "    PRINT_INTERVAL = 10\n",
        "    LOG_PATH = DATA_PATH + 'logs/log.pkl'\n",
        "\n",
        "    # setup GPU and multiprocessing\n",
        "    use_cuda = USE_CUDA and torch.cuda.is_available()\n",
        "    device = torch.device(\"cuda\" if use_cuda else \"cpu\")\n",
        "    print('Using device', device)\n",
        "    import multiprocessing\n",
        "    num_workers = multiprocessing.cpu_count()\n",
        "    print('num workers:', num_workers)\n",
        "    kwargs = {'num_workers': num_workers,'pin_memory': True} if use_cuda else {}\n",
        "\n",
        "    # get train and test data\n",
        "    data_train = HarryPotterDataset(DATA_PATH + 'harry_potter_chars_train.pkl', SEQUENCE_LENGTH, BATCH_SIZE)\n",
        "    data_test = HarryPotterDataset(DATA_PATH + 'harry_potter_chars_test.pkl', SEQUENCE_LENGTH, TEST_BATCH_SIZE)\n",
        "    vocab = data_train.vocab\n",
        "    train_loader = torch.utils.data.DataLoader(data_train, batch_size=BATCH_SIZE, shuffle=False, **kwargs)\n",
        "    test_loader = torch.utils.data.DataLoader(data_test, batch_size=TEST_BATCH_SIZE, shuffle=False, **kwargs)\n",
        "\n",
        "    # initialize model\n",
        "    model = HarryPotterNet(data_train.vocab_size(), FEATURE_SIZE).to(device)\n",
        "\n",
        "    # Adam is an optimizer like SGD but a bit fancier. It tends to work faster and better than SGD.\n",
        "    optimizer = optim.Adam(model.parameters(), lr=LEARNING_RATE, weight_decay=WEIGHT_DECAY)\n",
        "    \n",
        "    # This will train from scratch\n",
        "    start_epoch = 0 \n",
        "    train_losses, test_losses, test_accuracies = [], [], []\n",
        "\n",
        "    # To resume training from last saved model, uncomment the following 2 lines\n",
        "    # start_epoch = model.load_last_model(DATA_PATH + 'checkpoints')\n",
        "    # train_losses, test_losses, test_accuracies = pt_util.read_log(LOG_PATH, ([], [], []))\n",
        "\n",
        "    # Get initial test loss and accuracy\n",
        "    test_loss, test_accuracy = test(model, device, test_loader)\n",
        "    test_losses.append((start_epoch, test_loss))\n",
        "    test_accuracies.append((start_epoch, test_accuracy))\n",
        "\n",
        "    try:\n",
        "        for epoch in range(start_epoch, EPOCHS + 1):\n",
        "            lr = LEARNING_RATE * np.power(0.25, (int(epoch / 6)))\n",
        "            \n",
        "            # train for 1 epoch\n",
        "            train_loss = train(model, device, optimizer, train_loader, lr, epoch, PRINT_INTERVAL)\n",
        "            train_losses.append((epoch, train_loss))\n",
        "            # test after 1 epoch\n",
        "            test_loss, test_accuracy = test(model, device, test_loader)\n",
        "            test_losses.append((epoch, test_loss))\n",
        "            test_accuracies.append((epoch, test_accuracy))\n",
        "            # Log the losses and accuracy\n",
        "            pt_util.write_log(LOG_PATH, (train_losses, test_losses, test_accuracies))\n",
        "            # save best model\n",
        "            model.save_best_model(test_accuracy, DATA_PATH + 'checkpoints/language_%03d.pt' % epoch)\n",
        "            \n",
        "            # Test with a sentence starting with the given seed words. See what is generated next.\n",
        "            seed_words = 'Harry Potter, Voldemort, and Dumbledore walk into a bar. '\n",
        "            generated_sentence = generate_language(model, device, seed_words, 200, vocab, 'max')\n",
        "            print('generated sentence\\t\\t', generated_sentence)\n",
        "            print('')\n",
        "\n",
        "    except KeyboardInterrupt as ke:\n",
        "        print('Interrupted')\n",
        "    except:\n",
        "        import traceback\n",
        "        traceback.print_exc()\n",
        "    finally:\n",
        "        print('Saving final model')\n",
        "        model.save_model(DATA_PATH + 'checkpoints/language_%03d.pt' % epoch, 0)\n",
        "        # plot the loss and accuracy values\n",
        "        ep, val = zip(*train_losses)\n",
        "        pt_util.plot(ep, val, 'Train loss', 'Epoch', 'Error', name)\n",
        "        ep, val = zip(*test_losses)\n",
        "        pt_util.plot(ep, val, 'Test loss', 'Epoch', 'Error', name)\n",
        "        ep, val = zip(*test_accuracies)\n",
        "        pt_util.plot(ep, val, 'Test accuracy', 'Epoch', 'Error', name)\n",
        "        return model, vocab, device\n",
        "\n",
        "final_model, vocab, device = main()"
      ],
      "execution_count": null,
      "outputs": [
        {
          "output_type": "stream",
          "text": [
            "Using device cuda\n",
            "num workers: 2\n",
            "Input\tonly way left to get water, because Voldemort had planned it so ... He flung himself over to the edg\n",
            "GT\tnly way left to get water, because Voldemort had planned it so ... He flung himself over to the edge\n",
            "pred\t3zoo^Rs5^|eVyV^3[yVy^^slelf[qems%>\\0Ve||e0*!^^^ee^e||&zeS^m^^'*T^33^VV0V|:oSm:m***uVVeze6l^3[^^e00em\n",
            "\n",
            "\n",
            "Input\ts that had his arm. It released him, falling backward into the water with a splash; he scrambled to \n",
            "GT\t that had his arm. It released him, falling backward into the water with a splash; he scrambled to h\n",
            "pred\t*i^^e^l^ee^^mTTs^.3^^^^^VVee*ee^^u*R[V5||m\"S^q>>CfsGS^mT^3[^^e^fslellTT^^^e^>o|e>CdVYe0*R^s<qEee^^3[\n",
            "\n",
            "\n",
            "Input\tath, and his feet left the ground as they lifted him and began to carry him, slowly and surely, back\n",
            "GT\tth, and his feet left the ground as they lifted him and began to carry him, slowly and surely, back \n",
            "pred\teV^bOszS^^mTTVVeVV^eVyV^^e0yl3:zS^s>O^^eu^|m5yVS^^m*0szS^qeysz^^&l<s^!7^]u*R['|3R|5^ezS^':^Vo7UOq>>I\n",
            "\n",
            "\n",
            "Input\t . . . Dumbledore scooped the locket from the bottom of the stone basin and stowed it inside his rob\n",
            "GT\t. . . Dumbledore scooped the locket from the bottom of the stone basin and stowed it inside his robe\n",
            "pred\t^^^^^^^^:RqVeSe!e0'RU3fee^^^e0|e<Ie^^VV3*0^^e0qel^3*8U5[y^e0*^3ze^q>>m\"^szS^'^3Ree^m^^mT'mxmm^uTT^Bq\n",
            "\n",
            "\n",
            "Input\t\"sir, I forgot -- about fire -- they were coming at me and I panicked --\" \"Quite understandable,\" mu\n",
            "GT\tsir, I forgot -- about fire -- they were coming at me and I panicked --\" \"Quite understandable,\" mur\n",
            "pred\tV'W^W[^^Ve!<3<^>>`>Ve:llVmq00d>`^^eu^felf0mU*mzS^sll<00szS^^^BesmmIuS^d>>VV1%q^A0:SSe6'^szSsOEe/I[0:\n",
            "\n",
            "\n"
          ],
          "name": "stdout"
        },
        {
          "output_type": "stream",
          "text": [
            "\r  0%|          | 0/196 [00:00<?, ?it/s]"
          ],
          "name": "stderr"
        },
        {
          "output_type": "stream",
          "text": [
            "\n",
            "Test set: Average loss: 9.3763, Accuracy: 14497/1254400 (1%)\n",
            "\n"
          ],
          "name": "stdout"
        },
        {
          "output_type": "stream",
          "text": [
            "  1%|          | 2/196 [00:00<00:38,  5.05it/s]"
          ],
          "name": "stderr"
        },
        {
          "output_type": "stream",
          "text": [
            "Train Epoch: 0 [0/50176 (0%)]\tLoss: 9.371389\n"
          ],
          "name": "stdout"
        },
        {
          "output_type": "stream",
          "text": [
            "  6%|▌         | 12/196 [00:01<00:20,  9.08it/s]"
          ],
          "name": "stderr"
        },
        {
          "output_type": "stream",
          "text": [
            "Train Epoch: 0 [2560/50176 (5%)]\tLoss: 4.625881\n"
          ],
          "name": "stdout"
        },
        {
          "output_type": "stream",
          "text": [
            " 11%|█         | 22/196 [00:02<00:19,  9.06it/s]"
          ],
          "name": "stderr"
        },
        {
          "output_type": "stream",
          "text": [
            "Train Epoch: 0 [5120/50176 (10%)]\tLoss: 2.824799\n"
          ],
          "name": "stdout"
        },
        {
          "output_type": "stream",
          "text": [
            " 16%|█▋        | 32/196 [00:03<00:17,  9.14it/s]"
          ],
          "name": "stderr"
        },
        {
          "output_type": "stream",
          "text": [
            "Train Epoch: 0 [7680/50176 (15%)]\tLoss: 2.343783\n"
          ],
          "name": "stdout"
        },
        {
          "output_type": "stream",
          "text": [
            " 21%|██▏       | 42/196 [00:04<00:17,  9.04it/s]"
          ],
          "name": "stderr"
        },
        {
          "output_type": "stream",
          "text": [
            "Train Epoch: 0 [10240/50176 (20%)]\tLoss: 2.113458\n"
          ],
          "name": "stdout"
        },
        {
          "output_type": "stream",
          "text": [
            " 27%|██▋       | 52/196 [00:05<00:15,  9.14it/s]"
          ],
          "name": "stderr"
        },
        {
          "output_type": "stream",
          "text": [
            "Train Epoch: 0 [12800/50176 (26%)]\tLoss: 2.043002\n"
          ],
          "name": "stdout"
        },
        {
          "output_type": "stream",
          "text": [
            " 32%|███▏      | 62/196 [00:06<00:15,  8.77it/s]"
          ],
          "name": "stderr"
        },
        {
          "output_type": "stream",
          "text": [
            "Train Epoch: 0 [15360/50176 (31%)]\tLoss: 1.988430\n"
          ],
          "name": "stdout"
        },
        {
          "output_type": "stream",
          "text": [
            " 37%|███▋      | 72/196 [00:08<00:13,  8.87it/s]"
          ],
          "name": "stderr"
        },
        {
          "output_type": "stream",
          "text": [
            "Train Epoch: 0 [17920/50176 (36%)]\tLoss: 1.957008\n"
          ],
          "name": "stdout"
        },
        {
          "output_type": "stream",
          "text": [
            " 42%|████▏     | 82/196 [00:09<00:12,  9.10it/s]"
          ],
          "name": "stderr"
        },
        {
          "output_type": "stream",
          "text": [
            "Train Epoch: 0 [20480/50176 (41%)]\tLoss: 1.903338\n"
          ],
          "name": "stdout"
        },
        {
          "output_type": "stream",
          "text": [
            " 47%|████▋     | 92/196 [00:10<00:11,  9.25it/s]"
          ],
          "name": "stderr"
        },
        {
          "output_type": "stream",
          "text": [
            "Train Epoch: 0 [23040/50176 (46%)]\tLoss: 1.857528\n"
          ],
          "name": "stdout"
        },
        {
          "output_type": "stream",
          "text": [
            " 52%|█████▏    | 102/196 [00:11<00:10,  8.92it/s]"
          ],
          "name": "stderr"
        },
        {
          "output_type": "stream",
          "text": [
            "Train Epoch: 0 [25600/50176 (51%)]\tLoss: 1.848537\n"
          ],
          "name": "stdout"
        },
        {
          "output_type": "stream",
          "text": [
            " 57%|█████▋    | 112/196 [00:12<00:09,  8.93it/s]"
          ],
          "name": "stderr"
        },
        {
          "output_type": "stream",
          "text": [
            "Train Epoch: 0 [28160/50176 (56%)]\tLoss: 1.834373\n"
          ],
          "name": "stdout"
        },
        {
          "output_type": "stream",
          "text": [
            " 62%|██████▏   | 122/196 [00:13<00:08,  8.94it/s]"
          ],
          "name": "stderr"
        },
        {
          "output_type": "stream",
          "text": [
            "Train Epoch: 0 [30720/50176 (61%)]\tLoss: 1.795443\n"
          ],
          "name": "stdout"
        },
        {
          "output_type": "stream",
          "text": [
            " 67%|██████▋   | 132/196 [00:14<00:07,  8.98it/s]"
          ],
          "name": "stderr"
        },
        {
          "output_type": "stream",
          "text": [
            "Train Epoch: 0 [33280/50176 (66%)]\tLoss: 1.760342\n"
          ],
          "name": "stdout"
        },
        {
          "output_type": "stream",
          "text": [
            " 72%|███████▏  | 142/196 [00:15<00:06,  8.97it/s]"
          ],
          "name": "stderr"
        },
        {
          "output_type": "stream",
          "text": [
            "Train Epoch: 0 [35840/50176 (71%)]\tLoss: 1.762783\n"
          ],
          "name": "stdout"
        },
        {
          "output_type": "stream",
          "text": [
            " 78%|███████▊  | 152/196 [00:16<00:04,  9.04it/s]"
          ],
          "name": "stderr"
        },
        {
          "output_type": "stream",
          "text": [
            "Train Epoch: 0 [38400/50176 (77%)]\tLoss: 1.740798\n"
          ],
          "name": "stdout"
        },
        {
          "output_type": "stream",
          "text": [
            " 83%|████████▎ | 162/196 [00:18<00:03,  8.92it/s]"
          ],
          "name": "stderr"
        },
        {
          "output_type": "stream",
          "text": [
            "Train Epoch: 0 [40960/50176 (82%)]\tLoss: 1.745026\n"
          ],
          "name": "stdout"
        },
        {
          "output_type": "stream",
          "text": [
            " 88%|████████▊ | 172/196 [00:19<00:02,  8.85it/s]"
          ],
          "name": "stderr"
        },
        {
          "output_type": "stream",
          "text": [
            "Train Epoch: 0 [43520/50176 (87%)]\tLoss: 1.706609\n"
          ],
          "name": "stdout"
        },
        {
          "output_type": "stream",
          "text": [
            " 93%|█████████▎| 182/196 [00:20<00:01,  9.01it/s]"
          ],
          "name": "stderr"
        },
        {
          "output_type": "stream",
          "text": [
            "Train Epoch: 0 [46080/50176 (92%)]\tLoss: 1.716587\n"
          ],
          "name": "stdout"
        },
        {
          "output_type": "stream",
          "text": [
            " 98%|█████████▊| 192/196 [00:21<00:00,  9.04it/s]"
          ],
          "name": "stderr"
        },
        {
          "output_type": "stream",
          "text": [
            "Train Epoch: 0 [48640/50176 (97%)]\tLoss: 1.690255\n"
          ],
          "name": "stdout"
        },
        {
          "output_type": "stream",
          "text": [
            "100%|██████████| 196/196 [00:21<00:00,  8.97it/s]\n"
          ],
          "name": "stderr"
        },
        {
          "output_type": "stream",
          "text": [
            "Input\tonly way left to get water, because Voldemort had planned it so ... He flung himself over to the edg\n",
            "GT\tnly way left to get water, because Voldemort had planned it so ... He flung himself over to the edge\n",
            "pred\tney tas aott th tot tascr  au ause toldemort tad baacged tn whmt . \"e woorg tis elf tner th the snre\n",
            "\n",
            "\n",
            "Input\ts that had his arm. It released him, falling backward into the water with a splash; he scrambled to \n",
            "GT\t that had his arm. It released him, falling backward into the water with a splash; he scrambled to h\n",
            "pred\t ahet ted bes hno  \"  weal dh  tim  aocl ng teck art tn o the sascr tath h sheayse te sahateledoth t\n",
            "\n",
            "\n",
            "Input\tath, and his feet left the ground as they lifted him and began to carry him, slowly and surely, back\n",
            "GT\tth, and his feet left the ground as they lifted him and began to carry him, slowly and surely, back \n",
            "pred\tdhe and tes hall tott the soaund tn the  wokter tim and teean ah toney aam  ahiw y tnd thre y  auck \n",
            "\n",
            "\n",
            "Input\t . . . Dumbledore scooped the locket from the bottom of the stone basin and stowed it inside his rob\n",
            "GT\t. . . Dumbledore scooped the locket from the bottom of the stone basin and stowed it inside his robe\n",
            "pred\t\" . . .umbledore athnlld the sooked ooom the sethe  tf the stape teckngtnd thapad tn wn tde tim heoe\n",
            "\n",
            "\n",
            "Input\t\"sir, I forgot -- about fire -- they were coming at me and I panicked --\" \"Quite understandable,\" mu\n",
            "GT\tsir, I forgot -- about fire -- they were coming at me and I panicked --\" \"Quite understandable,\" mur\n",
            "pred\tIade a wor et t  \"nout tonest  \"he  ware woueng tn ta tnd t wustnh d t   \"Iuide tpder   nd yle   ses\n",
            "\n",
            "\n",
            "\n",
            "Test set: Average loss: 1.6854, Accuracy: 641193/1254400 (51%)\n",
            "\n"
          ],
          "name": "stdout"
        },
        {
          "output_type": "stream",
          "text": [
            "\r  0%|          | 0/196 [00:00<?, ?it/s]"
          ],
          "name": "stderr"
        },
        {
          "output_type": "stream",
          "text": [
            "Saved /gdrive/My Drive/CSE415/language/checkpoints/language_000.pt\n",
            "\n",
            "generated sentence\t\t Harry Potter, Voldemort, and Dumbledore walk into a bar. I don't the started the started the started the started the started the started the started the started the started the started the started the started the started the started the started the started \n",
            "\n"
          ],
          "name": "stdout"
        },
        {
          "output_type": "stream",
          "text": [
            "  1%|          | 2/196 [00:00<00:33,  5.78it/s]"
          ],
          "name": "stderr"
        },
        {
          "output_type": "stream",
          "text": [
            "Train Epoch: 1 [0/50176 (0%)]\tLoss: 1.685813\n"
          ],
          "name": "stdout"
        },
        {
          "output_type": "stream",
          "text": [
            "  6%|▌         | 12/196 [00:01<00:21,  8.62it/s]"
          ],
          "name": "stderr"
        },
        {
          "output_type": "stream",
          "text": [
            "Train Epoch: 1 [2560/50176 (5%)]\tLoss: 1.647438\n"
          ],
          "name": "stdout"
        },
        {
          "output_type": "stream",
          "text": [
            " 11%|█         | 22/196 [00:02<00:19,  8.81it/s]"
          ],
          "name": "stderr"
        },
        {
          "output_type": "stream",
          "text": [
            "Train Epoch: 1 [5120/50176 (10%)]\tLoss: 1.669549\n"
          ],
          "name": "stdout"
        },
        {
          "output_type": "stream",
          "text": [
            " 16%|█▋        | 32/196 [00:03<00:18,  8.89it/s]"
          ],
          "name": "stderr"
        },
        {
          "output_type": "stream",
          "text": [
            "Train Epoch: 1 [7680/50176 (15%)]\tLoss: 1.644989\n"
          ],
          "name": "stdout"
        },
        {
          "output_type": "stream",
          "text": [
            " 21%|██▏       | 42/196 [00:04<00:17,  8.87it/s]"
          ],
          "name": "stderr"
        },
        {
          "output_type": "stream",
          "text": [
            "Train Epoch: 1 [10240/50176 (20%)]\tLoss: 1.628532\n"
          ],
          "name": "stdout"
        },
        {
          "output_type": "stream",
          "text": [
            " 27%|██▋       | 52/196 [00:05<00:16,  8.81it/s]"
          ],
          "name": "stderr"
        },
        {
          "output_type": "stream",
          "text": [
            "Train Epoch: 1 [12800/50176 (26%)]\tLoss: 1.622245\n"
          ],
          "name": "stdout"
        },
        {
          "output_type": "stream",
          "text": [
            " 32%|███▏      | 62/196 [00:07<00:15,  8.91it/s]"
          ],
          "name": "stderr"
        },
        {
          "output_type": "stream",
          "text": [
            "Train Epoch: 1 [15360/50176 (31%)]\tLoss: 1.618903\n"
          ],
          "name": "stdout"
        },
        {
          "output_type": "stream",
          "text": [
            " 37%|███▋      | 72/196 [00:08<00:14,  8.83it/s]"
          ],
          "name": "stderr"
        },
        {
          "output_type": "stream",
          "text": [
            "Train Epoch: 1 [17920/50176 (36%)]\tLoss: 1.627404\n"
          ],
          "name": "stdout"
        },
        {
          "output_type": "stream",
          "text": [
            " 42%|████▏     | 82/196 [00:09<00:13,  8.74it/s]"
          ],
          "name": "stderr"
        },
        {
          "output_type": "stream",
          "text": [
            "Train Epoch: 1 [20480/50176 (41%)]\tLoss: 1.600162\n"
          ],
          "name": "stdout"
        },
        {
          "output_type": "stream",
          "text": [
            " 47%|████▋     | 92/196 [00:10<00:11,  8.91it/s]"
          ],
          "name": "stderr"
        },
        {
          "output_type": "stream",
          "text": [
            "Train Epoch: 1 [23040/50176 (46%)]\tLoss: 1.580621\n"
          ],
          "name": "stdout"
        },
        {
          "output_type": "stream",
          "text": [
            " 52%|█████▏    | 102/196 [00:11<00:10,  8.83it/s]"
          ],
          "name": "stderr"
        },
        {
          "output_type": "stream",
          "text": [
            "Train Epoch: 1 [25600/50176 (51%)]\tLoss: 1.591423\n"
          ],
          "name": "stdout"
        },
        {
          "output_type": "stream",
          "text": [
            " 57%|█████▋    | 112/196 [00:12<00:09,  8.74it/s]"
          ],
          "name": "stderr"
        },
        {
          "output_type": "stream",
          "text": [
            "Train Epoch: 1 [28160/50176 (56%)]\tLoss: 1.586138\n"
          ],
          "name": "stdout"
        },
        {
          "output_type": "stream",
          "text": [
            " 62%|██████▏   | 122/196 [00:13<00:08,  8.62it/s]"
          ],
          "name": "stderr"
        },
        {
          "output_type": "stream",
          "text": [
            "Train Epoch: 1 [30720/50176 (61%)]\tLoss: 1.567888\n"
          ],
          "name": "stdout"
        },
        {
          "output_type": "stream",
          "text": [
            " 67%|██████▋   | 132/196 [00:14<00:07,  8.83it/s]"
          ],
          "name": "stderr"
        },
        {
          "output_type": "stream",
          "text": [
            "Train Epoch: 1 [33280/50176 (66%)]\tLoss: 1.553159\n"
          ],
          "name": "stdout"
        },
        {
          "output_type": "stream",
          "text": [
            " 72%|███████▏  | 142/196 [00:16<00:06,  8.96it/s]"
          ],
          "name": "stderr"
        },
        {
          "output_type": "stream",
          "text": [
            "Train Epoch: 1 [35840/50176 (71%)]\tLoss: 1.560722\n"
          ],
          "name": "stdout"
        },
        {
          "output_type": "stream",
          "text": [
            " 78%|███████▊  | 152/196 [00:17<00:04,  8.94it/s]"
          ],
          "name": "stderr"
        },
        {
          "output_type": "stream",
          "text": [
            "Train Epoch: 1 [38400/50176 (77%)]\tLoss: 1.548553\n"
          ],
          "name": "stdout"
        },
        {
          "output_type": "stream",
          "text": [
            " 83%|████████▎ | 162/196 [00:18<00:03,  8.70it/s]"
          ],
          "name": "stderr"
        },
        {
          "output_type": "stream",
          "text": [
            "Train Epoch: 1 [40960/50176 (82%)]\tLoss: 1.570317\n"
          ],
          "name": "stdout"
        },
        {
          "output_type": "stream",
          "text": [
            " 88%|████████▊ | 172/196 [00:19<00:02,  9.06it/s]"
          ],
          "name": "stderr"
        },
        {
          "output_type": "stream",
          "text": [
            "Train Epoch: 1 [43520/50176 (87%)]\tLoss: 1.531454\n"
          ],
          "name": "stdout"
        },
        {
          "output_type": "stream",
          "text": [
            " 93%|█████████▎| 182/196 [00:20<00:01,  8.85it/s]"
          ],
          "name": "stderr"
        },
        {
          "output_type": "stream",
          "text": [
            "Train Epoch: 1 [46080/50176 (92%)]\tLoss: 1.556340\n"
          ],
          "name": "stdout"
        },
        {
          "output_type": "stream",
          "text": [
            " 98%|█████████▊| 192/196 [00:21<00:00,  8.94it/s]"
          ],
          "name": "stderr"
        },
        {
          "output_type": "stream",
          "text": [
            "Train Epoch: 1 [48640/50176 (97%)]\tLoss: 1.553409\n"
          ],
          "name": "stdout"
        },
        {
          "output_type": "stream",
          "text": [
            "100%|██████████| 196/196 [00:22<00:00,  8.87it/s]\n"
          ],
          "name": "stderr"
        },
        {
          "output_type": "stream",
          "text": [
            "Input\tonly way left to get water, because Voldemort had planned it so ... He flung himself over to the edg\n",
            "GT\tnly way left to get water, because Voldemort had planned it so ... He flung himself over to the edge\n",
            "pred\tu y tas aott th tet tascr  au ause teldemort ted buacted tt wtmt . .e wootg tem elf tuer th the cnge\n",
            "\n",
            "\n",
            "Input\ts that had his arm. It released him, falling backward into the water with a splash; he scrambled to \n",
            "GT\t that had his arm. It released him, falling backward into the water with a splash; he scrambled to h\n",
            "pred\t whet hed bem hno  \"t wesltded tem  aocling aeck ard tt o the cascr thth h lteacse he htaetbled th t\n",
            "\n",
            "\n",
            "Input\tath, and his feet left the ground as they lifted him and began to carry him, slowly and surely, back\n",
            "GT\tth, and his feet left the ground as they lifted him and began to carry him, slowly and surely, back \n",
            "pred\tdhe and tem haet hitt the criund tn the  wikted tim and te an ah tonei aem  atiwly and ttde l  \"uck \n",
            "\n",
            "\n",
            "Input\t . . . Dumbledore scooped the locket from the bottom of the stone basin and stowed it inside his rob\n",
            "GT\t. . . Dumbledore scooped the locket from the bottom of the stone basin and stowed it inside his robe\n",
            "pred\t\" . . .umbledore htrnlpd the ciok d aoom the cettlm tf the ctaoe oecingtnd ttapad tt wt tde tem hebe\n",
            "\n",
            "\n",
            "Input\t\"sir, I forgot -- about fire -- they were coming at me and I panicked --\" \"Quite understandable,\" mu\n",
            "GT\tsir, I forgot -- about fire -- they were coming at me and I panicked --\" \"Quite understandable,\" mur\n",
            "pred\tIade a wou ittt  \"nout tone t  \"he  ware aoueng tn to tnd t wustnh d t   \"Iuide hpder tand tle   set\n",
            "\n",
            "\n"
          ],
          "name": "stdout"
        },
        {
          "output_type": "stream",
          "text": [
            "\r  0%|          | 0/196 [00:00<?, ?it/s]"
          ],
          "name": "stderr"
        },
        {
          "output_type": "stream",
          "text": [
            "\n",
            "Test set: Average loss: 1.5593, Accuracy: 677563/1254400 (54%)\n",
            "\n",
            "Saved /gdrive/My Drive/CSE415/language/checkpoints/language_001.pt\n",
            "\n",
            "generated sentence\t\t Harry Potter, Voldemort, and Dumbledore walk into a bar. I did not the could he had been the did not the could he had been the did not the could he had been the did not the could he had been the did not the could he had been the did not the could he had bee\n",
            "\n"
          ],
          "name": "stdout"
        },
        {
          "output_type": "stream",
          "text": [
            "  1%|          | 2/196 [00:00<00:31,  6.12it/s]"
          ],
          "name": "stderr"
        },
        {
          "output_type": "stream",
          "text": [
            "Train Epoch: 2 [0/50176 (0%)]\tLoss: 1.548498\n"
          ],
          "name": "stdout"
        },
        {
          "output_type": "stream",
          "text": [
            "  6%|▌         | 12/196 [00:01<00:21,  8.72it/s]"
          ],
          "name": "stderr"
        },
        {
          "output_type": "stream",
          "text": [
            "Train Epoch: 2 [2560/50176 (5%)]\tLoss: 1.516473\n"
          ],
          "name": "stdout"
        },
        {
          "output_type": "stream",
          "text": [
            " 11%|█         | 22/196 [00:02<00:19,  8.92it/s]"
          ],
          "name": "stderr"
        },
        {
          "output_type": "stream",
          "text": [
            "Train Epoch: 2 [5120/50176 (10%)]\tLoss: 1.545314\n"
          ],
          "name": "stdout"
        },
        {
          "output_type": "stream",
          "text": [
            " 16%|█▋        | 32/196 [00:03<00:18,  8.84it/s]"
          ],
          "name": "stderr"
        },
        {
          "output_type": "stream",
          "text": [
            "Train Epoch: 2 [7680/50176 (15%)]\tLoss: 1.522187\n"
          ],
          "name": "stdout"
        },
        {
          "output_type": "stream",
          "text": [
            " 21%|██▏       | 42/196 [00:04<00:17,  8.98it/s]"
          ],
          "name": "stderr"
        },
        {
          "output_type": "stream",
          "text": [
            "Train Epoch: 2 [10240/50176 (20%)]\tLoss: 1.508319\n"
          ],
          "name": "stdout"
        },
        {
          "output_type": "stream",
          "text": [
            " 27%|██▋       | 52/196 [00:05<00:16,  8.81it/s]"
          ],
          "name": "stderr"
        },
        {
          "output_type": "stream",
          "text": [
            "Train Epoch: 2 [12800/50176 (26%)]\tLoss: 1.500438\n"
          ],
          "name": "stdout"
        },
        {
          "output_type": "stream",
          "text": [
            " 32%|███▏      | 62/196 [00:07<00:15,  8.86it/s]"
          ],
          "name": "stderr"
        },
        {
          "output_type": "stream",
          "text": [
            "Train Epoch: 2 [15360/50176 (31%)]\tLoss: 1.525956\n"
          ],
          "name": "stdout"
        },
        {
          "output_type": "stream",
          "text": [
            " 37%|███▋      | 72/196 [00:08<00:13,  8.87it/s]"
          ],
          "name": "stderr"
        },
        {
          "output_type": "stream",
          "text": [
            "Train Epoch: 2 [17920/50176 (36%)]\tLoss: 1.516113\n"
          ],
          "name": "stdout"
        },
        {
          "output_type": "stream",
          "text": [
            " 42%|████▏     | 82/196 [00:09<00:12,  8.97it/s]"
          ],
          "name": "stderr"
        },
        {
          "output_type": "stream",
          "text": [
            "Train Epoch: 2 [20480/50176 (41%)]\tLoss: 1.488935\n"
          ],
          "name": "stdout"
        },
        {
          "output_type": "stream",
          "text": [
            " 47%|████▋     | 92/196 [00:10<00:11,  8.99it/s]"
          ],
          "name": "stderr"
        },
        {
          "output_type": "stream",
          "text": [
            "Train Epoch: 2 [23040/50176 (46%)]\tLoss: 1.488794\n"
          ],
          "name": "stdout"
        },
        {
          "output_type": "stream",
          "text": [
            " 52%|█████▏    | 102/196 [00:11<00:10,  8.90it/s]"
          ],
          "name": "stderr"
        },
        {
          "output_type": "stream",
          "text": [
            "Train Epoch: 2 [25600/50176 (51%)]\tLoss: 1.517021\n"
          ],
          "name": "stdout"
        },
        {
          "output_type": "stream",
          "text": [
            " 57%|█████▋    | 112/196 [00:12<00:09,  8.88it/s]"
          ],
          "name": "stderr"
        },
        {
          "output_type": "stream",
          "text": [
            "Train Epoch: 2 [28160/50176 (56%)]\tLoss: 1.503272\n"
          ],
          "name": "stdout"
        },
        {
          "output_type": "stream",
          "text": [
            " 62%|██████▏   | 122/196 [00:13<00:08,  8.99it/s]"
          ],
          "name": "stderr"
        },
        {
          "output_type": "stream",
          "text": [
            "Train Epoch: 2 [30720/50176 (61%)]\tLoss: 1.490116\n"
          ],
          "name": "stdout"
        },
        {
          "output_type": "stream",
          "text": [
            " 67%|██████▋   | 132/196 [00:14<00:07,  8.77it/s]"
          ],
          "name": "stderr"
        },
        {
          "output_type": "stream",
          "text": [
            "Train Epoch: 2 [33280/50176 (66%)]\tLoss: 1.470080\n"
          ],
          "name": "stdout"
        },
        {
          "output_type": "stream",
          "text": [
            " 72%|███████▏  | 142/196 [00:16<00:06,  8.52it/s]"
          ],
          "name": "stderr"
        },
        {
          "output_type": "stream",
          "text": [
            "Train Epoch: 2 [35840/50176 (71%)]\tLoss: 1.487464\n"
          ],
          "name": "stdout"
        },
        {
          "output_type": "stream",
          "text": [
            " 78%|███████▊  | 152/196 [00:17<00:04,  9.00it/s]"
          ],
          "name": "stderr"
        },
        {
          "output_type": "stream",
          "text": [
            "Train Epoch: 2 [38400/50176 (77%)]\tLoss: 1.476797\n"
          ],
          "name": "stdout"
        },
        {
          "output_type": "stream",
          "text": [
            " 83%|████████▎ | 162/196 [00:18<00:03,  8.95it/s]"
          ],
          "name": "stderr"
        },
        {
          "output_type": "stream",
          "text": [
            "Train Epoch: 2 [40960/50176 (82%)]\tLoss: 1.491689\n"
          ],
          "name": "stdout"
        },
        {
          "output_type": "stream",
          "text": [
            " 88%|████████▊ | 172/196 [00:19<00:02,  9.00it/s]"
          ],
          "name": "stderr"
        },
        {
          "output_type": "stream",
          "text": [
            "Train Epoch: 2 [43520/50176 (87%)]\tLoss: 1.461813\n"
          ],
          "name": "stdout"
        },
        {
          "output_type": "stream",
          "text": [
            " 93%|█████████▎| 182/196 [00:20<00:01,  8.81it/s]"
          ],
          "name": "stderr"
        },
        {
          "output_type": "stream",
          "text": [
            "Train Epoch: 2 [46080/50176 (92%)]\tLoss: 1.493196\n"
          ],
          "name": "stdout"
        },
        {
          "output_type": "stream",
          "text": [
            " 98%|█████████▊| 192/196 [00:21<00:00,  9.07it/s]"
          ],
          "name": "stderr"
        },
        {
          "output_type": "stream",
          "text": [
            "Train Epoch: 2 [48640/50176 (97%)]\tLoss: 1.491999\n"
          ],
          "name": "stdout"
        },
        {
          "output_type": "stream",
          "text": [
            "100%|██████████| 196/196 [00:22<00:00,  8.88it/s]\n"
          ],
          "name": "stderr"
        },
        {
          "output_type": "stream",
          "text": [
            "Input\tonly way left to get water, because Voldemort had planned it so ... He flung himself over to the edg\n",
            "GT\tnly way left to get water, because Voldemort had planned it so ... He flung himself over to the edge\n",
            "pred\tn y oas toat th tet tascr  tu ause toldemort wad buantid tn womt . .a woong oim elf aner th the onge\n",
            "\n",
            "\n",
            "Input\ts that had his arm. It released him, falling backward into the water with a splash; he scrambled to \n",
            "GT\t that had his arm. It released him, falling backward into the water with a splash; he scrambled to h\n",
            "pred\t what hed bem fno  \"t wealaled tim  aocling aack ard tn o the salcr thth h lheacs  he sahaibled oo t\n",
            "\n",
            "\n",
            "Input\tath, and his feet left the ground as they lifted him and began to carry him, slowly and surely, back\n",
            "GT\tth, and his feet left the ground as they lifted him and began to carry him, slowly and surely, back \n",
            "pred\tdh  and ses faet aift the sround tn the  wikted tim and se an to toney tim  aoiwly and stre y  \"uck \n",
            "\n",
            "\n",
            "Input\t . . . Dumbledore scooped the locket from the bottom of the stone basin and stowed it inside his rob\n",
            "GT\t. . . Dumbledore scooped the locket from the bottom of the stone basin and stowed it inside his robe\n",
            "pred\t\" . . .umbledore waanpld ahe siok d aoom the sottlm of the ctaoe oecingand shapad tt wntide tim hobe\n",
            "\n",
            "\n",
            "Input\t\"sir, I forgot -- about fire -- they were coming at me and I panicked --\" \"Quite understandable,\" mu\n",
            "GT\tsir, I forgot -- about fire -- they were coming at me and I panicked --\" \"Quite understandable,\" mur\n",
            "pred\tIat, a wou ittt- tnout tone a- \"he  ware soupng tn ta tnd s dustsh d t   \"Iuide opder tand yle   sat\n",
            "\n",
            "\n"
          ],
          "name": "stdout"
        },
        {
          "output_type": "stream",
          "text": [
            "\r  0%|          | 0/196 [00:00<?, ?it/s]"
          ],
          "name": "stderr"
        },
        {
          "output_type": "stream",
          "text": [
            "\n",
            "Test set: Average loss: 1.4892, Accuracy: 701864/1254400 (56%)\n",
            "\n",
            "Saved /gdrive/My Drive/CSE415/language/checkpoints/language_002.pt\n",
            "\n",
            "generated sentence\t\t Harry Potter, Voldemort, and Dumbledore walk into a bar. \"What was stairing the stairs was stairing the stairs was stairing the stairs was stairing the stairs was stairing the stairs was stairing the stairs was stairing the stairs was stairing the stairs wa\n",
            "\n"
          ],
          "name": "stdout"
        },
        {
          "output_type": "stream",
          "text": [
            "  1%|          | 2/196 [00:00<00:31,  6.17it/s]"
          ],
          "name": "stderr"
        },
        {
          "output_type": "stream",
          "text": [
            "Train Epoch: 3 [0/50176 (0%)]\tLoss: 1.479086\n"
          ],
          "name": "stdout"
        },
        {
          "output_type": "stream",
          "text": [
            "  6%|▌         | 12/196 [00:01<00:21,  8.65it/s]"
          ],
          "name": "stderr"
        },
        {
          "output_type": "stream",
          "text": [
            "Train Epoch: 3 [2560/50176 (5%)]\tLoss: 1.448979\n"
          ],
          "name": "stdout"
        },
        {
          "output_type": "stream",
          "text": [
            " 11%|█         | 22/196 [00:02<00:20,  8.67it/s]"
          ],
          "name": "stderr"
        },
        {
          "output_type": "stream",
          "text": [
            "Train Epoch: 3 [5120/50176 (10%)]\tLoss: 1.480578\n"
          ],
          "name": "stdout"
        },
        {
          "output_type": "stream",
          "text": [
            " 16%|█▋        | 32/196 [00:03<00:18,  8.92it/s]"
          ],
          "name": "stderr"
        },
        {
          "output_type": "stream",
          "text": [
            "Train Epoch: 3 [7680/50176 (15%)]\tLoss: 1.460422\n"
          ],
          "name": "stdout"
        },
        {
          "output_type": "stream",
          "text": [
            " 21%|██▏       | 42/196 [00:04<00:17,  8.98it/s]"
          ],
          "name": "stderr"
        },
        {
          "output_type": "stream",
          "text": [
            "Train Epoch: 3 [10240/50176 (20%)]\tLoss: 1.452574\n"
          ],
          "name": "stdout"
        },
        {
          "output_type": "stream",
          "text": [
            " 27%|██▋       | 52/196 [00:05<00:16,  8.89it/s]"
          ],
          "name": "stderr"
        },
        {
          "output_type": "stream",
          "text": [
            "Train Epoch: 3 [12800/50176 (26%)]\tLoss: 1.446352\n"
          ],
          "name": "stdout"
        },
        {
          "output_type": "stream",
          "text": [
            " 32%|███▏      | 62/196 [00:07<00:15,  8.70it/s]"
          ],
          "name": "stderr"
        },
        {
          "output_type": "stream",
          "text": [
            "Train Epoch: 3 [15360/50176 (31%)]\tLoss: 1.455649\n"
          ],
          "name": "stdout"
        },
        {
          "output_type": "stream",
          "text": [
            " 37%|███▋      | 72/196 [00:08<00:14,  8.84it/s]"
          ],
          "name": "stderr"
        },
        {
          "output_type": "stream",
          "text": [
            "Train Epoch: 3 [17920/50176 (36%)]\tLoss: 1.458231\n"
          ],
          "name": "stdout"
        },
        {
          "output_type": "stream",
          "text": [
            " 42%|████▏     | 82/196 [00:09<00:13,  8.75it/s]"
          ],
          "name": "stderr"
        },
        {
          "output_type": "stream",
          "text": [
            "Train Epoch: 3 [20480/50176 (41%)]\tLoss: 1.460987\n"
          ],
          "name": "stdout"
        },
        {
          "output_type": "stream",
          "text": [
            " 47%|████▋     | 92/196 [00:10<00:11,  8.88it/s]"
          ],
          "name": "stderr"
        },
        {
          "output_type": "stream",
          "text": [
            "Train Epoch: 3 [23040/50176 (46%)]\tLoss: 1.434572\n"
          ],
          "name": "stdout"
        },
        {
          "output_type": "stream",
          "text": [
            " 52%|█████▏    | 102/196 [00:11<00:10,  8.73it/s]"
          ],
          "name": "stderr"
        },
        {
          "output_type": "stream",
          "text": [
            "Train Epoch: 3 [25600/50176 (51%)]\tLoss: 1.446262\n"
          ],
          "name": "stdout"
        },
        {
          "output_type": "stream",
          "text": [
            " 57%|█████▋    | 112/196 [00:12<00:09,  8.90it/s]"
          ],
          "name": "stderr"
        },
        {
          "output_type": "stream",
          "text": [
            "Train Epoch: 3 [28160/50176 (56%)]\tLoss: 1.450411\n"
          ],
          "name": "stdout"
        },
        {
          "output_type": "stream",
          "text": [
            " 62%|██████▏   | 122/196 [00:13<00:08,  8.78it/s]"
          ],
          "name": "stderr"
        },
        {
          "output_type": "stream",
          "text": [
            "Train Epoch: 3 [30720/50176 (61%)]\tLoss: 1.436728\n"
          ],
          "name": "stdout"
        },
        {
          "output_type": "stream",
          "text": [
            " 67%|██████▋   | 132/196 [00:15<00:07,  8.73it/s]"
          ],
          "name": "stderr"
        },
        {
          "output_type": "stream",
          "text": [
            "Train Epoch: 3 [33280/50176 (66%)]\tLoss: 1.418528\n"
          ],
          "name": "stdout"
        },
        {
          "output_type": "stream",
          "text": [
            " 72%|███████▏  | 142/196 [00:16<00:06,  8.61it/s]"
          ],
          "name": "stderr"
        },
        {
          "output_type": "stream",
          "text": [
            "Train Epoch: 3 [35840/50176 (71%)]\tLoss: 1.436072\n"
          ],
          "name": "stdout"
        },
        {
          "output_type": "stream",
          "text": [
            " 78%|███████▊  | 152/196 [00:17<00:05,  8.56it/s]"
          ],
          "name": "stderr"
        },
        {
          "output_type": "stream",
          "text": [
            "Train Epoch: 3 [38400/50176 (77%)]\tLoss: 1.431704\n"
          ],
          "name": "stdout"
        },
        {
          "output_type": "stream",
          "text": [
            " 83%|████████▎ | 162/196 [00:18<00:03,  8.57it/s]"
          ],
          "name": "stderr"
        },
        {
          "output_type": "stream",
          "text": [
            "Train Epoch: 3 [40960/50176 (82%)]\tLoss: 1.449882\n"
          ],
          "name": "stdout"
        },
        {
          "output_type": "stream",
          "text": [
            " 88%|████████▊ | 172/196 [00:19<00:02,  8.80it/s]"
          ],
          "name": "stderr"
        },
        {
          "output_type": "stream",
          "text": [
            "Train Epoch: 3 [43520/50176 (87%)]\tLoss: 1.428072\n"
          ],
          "name": "stdout"
        },
        {
          "output_type": "stream",
          "text": [
            " 93%|█████████▎| 182/196 [00:20<00:01,  8.78it/s]"
          ],
          "name": "stderr"
        },
        {
          "output_type": "stream",
          "text": [
            "Train Epoch: 3 [46080/50176 (92%)]\tLoss: 1.450243\n"
          ],
          "name": "stdout"
        },
        {
          "output_type": "stream",
          "text": [
            " 98%|█████████▊| 192/196 [00:21<00:00,  8.67it/s]"
          ],
          "name": "stderr"
        },
        {
          "output_type": "stream",
          "text": [
            "Train Epoch: 3 [48640/50176 (97%)]\tLoss: 1.453643\n"
          ],
          "name": "stdout"
        },
        {
          "output_type": "stream",
          "text": [
            "100%|██████████| 196/196 [00:22<00:00,  8.75it/s]\n"
          ],
          "name": "stderr"
        },
        {
          "output_type": "stream",
          "text": [
            "Input\tonly way left to get water, because Voldemort had planned it so ... He flung himself over to the edg\n",
            "GT\tnly way left to get water, because Voldemort had planned it so ... He flung himself over to the edge\n",
            "pred\tn y tas toat th tet tascri tucause heldemort wad tuanted tn wemt . \"e woong oem elf aner th the snge\n",
            "\n",
            "\n",
            "Input\ts that had his arm. It released him, falling backward into the water with a splash; he scrambled to \n",
            "GT\t that had his arm. It released him, falling backward into the water with a splash; he scrambled to h\n",
            "pred\t what hed bes hnm  \"t wealased tim  aocleng aeck ard tn o the dalcr aath anlheach  he waheweled ao t\n",
            "\n",
            "\n",
            "Input\tath, and his feet left the ground as they lifted him and began to carry him, slowly and surely, back\n",
            "GT\tth, and his feet left the ground as they lifted him and began to carry him, slowly and surely, back \n",
            "pred\tdhe and tes haet aift the dround an the  wekted tim and teean to toneyitim  ahiwly and ttre y  auck \n",
            "\n",
            "\n",
            "Input\t . . . Dumbledore scooped the locket from the bottom of the stone basin and stowed it inside his rob\n",
            "GT\t. . . Dumbledore scooped the locket from the bottom of the stone basin and stowed it inside his robe\n",
            "pred\t\" . . .umbledore haanlld ahe ciok d arom the dattlm of the ctane oecingand thaoad tn wn ide tim hobe\n",
            "\n",
            "\n",
            "Input\t\"sir, I forgot -- about fire -- they were coming at me and I panicked --\" \"Quite understandable,\" mu\n",
            "GT\tsir, I forgot -- about fire -- they were coming at me and I panicked --\" \"Quite understandable,\" mur\n",
            "pred\twati a wau ettt- tnout tone y- ahe  were saueng tn te ond t dustsh d t   \"Iuide ipderstand yle   sut\n",
            "\n",
            "\n"
          ],
          "name": "stdout"
        },
        {
          "output_type": "stream",
          "text": [
            "\r  0%|          | 0/196 [00:00<?, ?it/s]"
          ],
          "name": "stderr"
        },
        {
          "output_type": "stream",
          "text": [
            "\n",
            "Test set: Average loss: 1.4519, Accuracy: 712925/1254400 (57%)\n",
            "\n",
            "Saved /gdrive/My Drive/CSE415/language/checkpoints/language_003.pt\n",
            "\n",
            "generated sentence\t\t Harry Potter, Voldemort, and Dumbledore walk into a bar. \"Well, I don't the one of the one of the one of the one of the one of the could have to the one of the could have been the door wand the fire of the could have been the door wand the door wand the doo\n",
            "\n"
          ],
          "name": "stdout"
        },
        {
          "output_type": "stream",
          "text": [
            "  1%|          | 2/196 [00:00<00:31,  6.18it/s]"
          ],
          "name": "stderr"
        },
        {
          "output_type": "stream",
          "text": [
            "Train Epoch: 4 [0/50176 (0%)]\tLoss: 1.445940\n"
          ],
          "name": "stdout"
        },
        {
          "output_type": "stream",
          "text": [
            "  6%|▌         | 12/196 [00:01<00:20,  8.76it/s]"
          ],
          "name": "stderr"
        },
        {
          "output_type": "stream",
          "text": [
            "Train Epoch: 4 [2560/50176 (5%)]\tLoss: 1.408586\n"
          ],
          "name": "stdout"
        },
        {
          "output_type": "stream",
          "text": [
            " 11%|█         | 22/196 [00:02<00:19,  8.75it/s]"
          ],
          "name": "stderr"
        },
        {
          "output_type": "stream",
          "text": [
            "Train Epoch: 4 [5120/50176 (10%)]\tLoss: 1.438908\n"
          ],
          "name": "stdout"
        },
        {
          "output_type": "stream",
          "text": [
            " 16%|█▋        | 32/196 [00:03<00:18,  8.64it/s]"
          ],
          "name": "stderr"
        },
        {
          "output_type": "stream",
          "text": [
            "Train Epoch: 4 [7680/50176 (15%)]\tLoss: 1.421141\n"
          ],
          "name": "stdout"
        },
        {
          "output_type": "stream",
          "text": [
            " 21%|██▏       | 42/196 [00:04<00:17,  8.85it/s]"
          ],
          "name": "stderr"
        },
        {
          "output_type": "stream",
          "text": [
            "Train Epoch: 4 [10240/50176 (20%)]\tLoss: 1.409000\n"
          ],
          "name": "stdout"
        },
        {
          "output_type": "stream",
          "text": [
            " 27%|██▋       | 52/196 [00:05<00:16,  8.81it/s]"
          ],
          "name": "stderr"
        },
        {
          "output_type": "stream",
          "text": [
            "Train Epoch: 4 [12800/50176 (26%)]\tLoss: 1.404960\n"
          ],
          "name": "stdout"
        },
        {
          "output_type": "stream",
          "text": [
            " 32%|███▏      | 62/196 [00:07<00:15,  8.78it/s]"
          ],
          "name": "stderr"
        },
        {
          "output_type": "stream",
          "text": [
            "Train Epoch: 4 [15360/50176 (31%)]\tLoss: 1.417644\n"
          ],
          "name": "stdout"
        },
        {
          "output_type": "stream",
          "text": [
            " 37%|███▋      | 72/196 [00:08<00:14,  8.71it/s]"
          ],
          "name": "stderr"
        },
        {
          "output_type": "stream",
          "text": [
            "Train Epoch: 4 [17920/50176 (36%)]\tLoss: 1.428081\n"
          ],
          "name": "stdout"
        },
        {
          "output_type": "stream",
          "text": [
            " 42%|████▏     | 82/196 [00:09<00:13,  8.63it/s]"
          ],
          "name": "stderr"
        },
        {
          "output_type": "stream",
          "text": [
            "Train Epoch: 4 [20480/50176 (41%)]\tLoss: 1.436176\n"
          ],
          "name": "stdout"
        },
        {
          "output_type": "stream",
          "text": [
            " 47%|████▋     | 92/196 [00:10<00:11,  8.85it/s]"
          ],
          "name": "stderr"
        },
        {
          "output_type": "stream",
          "text": [
            "Train Epoch: 4 [23040/50176 (46%)]\tLoss: 1.410242\n"
          ],
          "name": "stdout"
        },
        {
          "output_type": "stream",
          "text": [
            " 52%|█████▏    | 102/196 [00:11<00:10,  8.84it/s]"
          ],
          "name": "stderr"
        },
        {
          "output_type": "stream",
          "text": [
            "Train Epoch: 4 [25600/50176 (51%)]\tLoss: 1.416730\n"
          ],
          "name": "stdout"
        },
        {
          "output_type": "stream",
          "text": [
            " 57%|█████▋    | 112/196 [00:12<00:09,  8.72it/s]"
          ],
          "name": "stderr"
        },
        {
          "output_type": "stream",
          "text": [
            "Train Epoch: 4 [28160/50176 (56%)]\tLoss: 1.420062\n"
          ],
          "name": "stdout"
        },
        {
          "output_type": "stream",
          "text": [
            " 62%|██████▏   | 122/196 [00:13<00:08,  8.63it/s]"
          ],
          "name": "stderr"
        },
        {
          "output_type": "stream",
          "text": [
            "Train Epoch: 4 [30720/50176 (61%)]\tLoss: 1.408130\n"
          ],
          "name": "stdout"
        },
        {
          "output_type": "stream",
          "text": [
            " 67%|██████▋   | 132/196 [00:15<00:07,  8.65it/s]"
          ],
          "name": "stderr"
        },
        {
          "output_type": "stream",
          "text": [
            "Train Epoch: 4 [33280/50176 (66%)]\tLoss: 1.404964\n"
          ],
          "name": "stdout"
        },
        {
          "output_type": "stream",
          "text": [
            " 72%|███████▏  | 142/196 [00:16<00:06,  8.81it/s]"
          ],
          "name": "stderr"
        },
        {
          "output_type": "stream",
          "text": [
            "Train Epoch: 4 [35840/50176 (71%)]\tLoss: 1.407282\n"
          ],
          "name": "stdout"
        },
        {
          "output_type": "stream",
          "text": [
            " 78%|███████▊  | 152/196 [00:17<00:05,  8.53it/s]"
          ],
          "name": "stderr"
        },
        {
          "output_type": "stream",
          "text": [
            "Train Epoch: 4 [38400/50176 (77%)]\tLoss: 1.430684\n"
          ],
          "name": "stdout"
        },
        {
          "output_type": "stream",
          "text": [
            " 83%|████████▎ | 162/196 [00:18<00:03,  8.51it/s]"
          ],
          "name": "stderr"
        },
        {
          "output_type": "stream",
          "text": [
            "Train Epoch: 4 [40960/50176 (82%)]\tLoss: 1.426234\n"
          ],
          "name": "stdout"
        },
        {
          "output_type": "stream",
          "text": [
            " 88%|████████▊ | 172/196 [00:19<00:02,  8.65it/s]"
          ],
          "name": "stderr"
        },
        {
          "output_type": "stream",
          "text": [
            "Train Epoch: 4 [43520/50176 (87%)]\tLoss: 1.403573\n"
          ],
          "name": "stdout"
        },
        {
          "output_type": "stream",
          "text": [
            " 93%|█████████▎| 182/196 [00:20<00:01,  8.73it/s]"
          ],
          "name": "stderr"
        },
        {
          "output_type": "stream",
          "text": [
            "Train Epoch: 4 [46080/50176 (92%)]\tLoss: 1.429787\n"
          ],
          "name": "stdout"
        },
        {
          "output_type": "stream",
          "text": [
            " 98%|█████████▊| 192/196 [00:21<00:00,  8.58it/s]"
          ],
          "name": "stderr"
        },
        {
          "output_type": "stream",
          "text": [
            "Train Epoch: 4 [48640/50176 (97%)]\tLoss: 1.428099\n"
          ],
          "name": "stdout"
        },
        {
          "output_type": "stream",
          "text": [
            "100%|██████████| 196/196 [00:22<00:00,  8.75it/s]\n"
          ],
          "name": "stderr"
        },
        {
          "output_type": "stream",
          "text": [
            "Input\tonly way left to get water, because Voldemort had planned it so ... He flung himself over to the edg\n",
            "GT\tnly way left to get water, because Voldemort had planned it so ... He flung himself over to the edge\n",
            "pred\tney tas toat th tet thscri aucause holdemort wad tuaceed tn womt . \"e woung oem elf aner th the fnge\n",
            "\n",
            "\n",
            "Input\ts that had his arm. It released him, falling backward into the water with a splash; he scrambled to \n",
            "GT\t that had his arm. It released him, falling backward into the water with a splash; he scrambled to h\n",
            "pred\thhhat hed tes hnm  \"t weaease  tim  aocleng aack ard tn o the calcr aath anlhiach  he wahemeled ao t\n",
            "\n",
            "\n",
            "Input\tath, and his feet left the ground as they lifted him and began to carry him, slowly and surely, back\n",
            "GT\tth, and his feet left the ground as they lifted him and began to carry him, slowly and surely, back \n",
            "pred\tdh  and tes haet aoft the cround an the  wokted tim and tefan to toley aim  ahiwly,and ttrp y  auck \n",
            "\n",
            "\n",
            "Input\t . . . Dumbledore scooped the locket from the bottom of the stone basin and stowed it inside his rob\n",
            "GT\t. . . Dumbledore scooped the locket from the bottom of the stone basin and stowed it inside his robe\n",
            "pred\t\" . . .umbledore haaoped aoe fook t arom the cattlm of the ctane oacineand thapad tn wntide tim hobe\n",
            "\n",
            "\n",
            "Input\t\"sir, I forgot -- about fire -- they were coming at me and I panicked --\" \"Quite understandable,\" mu\n",
            "GT\tsir, I forgot -- about fire -- they were coming at me and I panicked --\" \"Quite understandable,\" mur\n",
            "pred\twat, a weugettt- tnout tons y- ahe 'were taming tn te ond t dustseed t-  \"Iuide isderstand yle   sut\n",
            "\n",
            "\n"
          ],
          "name": "stdout"
        },
        {
          "output_type": "stream",
          "text": [
            "\r  0%|          | 0/196 [00:00<?, ?it/s]"
          ],
          "name": "stderr"
        },
        {
          "output_type": "stream",
          "text": [
            "\n",
            "Test set: Average loss: 1.4241, Accuracy: 723516/1254400 (58%)\n",
            "\n",
            "Saved /gdrive/My Drive/CSE415/language/checkpoints/language_004.pt\n",
            "\n",
            "generated sentence\t\t Harry Potter, Voldemort, and Dumbledore walk into a bar. \"What do you think you were the one of the one of the one of the one of the course of the count of the count of the count of the counter of the counter of the counter of the counter of the counter of \n",
            "\n"
          ],
          "name": "stdout"
        },
        {
          "output_type": "stream",
          "text": [
            "  1%|          | 2/196 [00:00<00:32,  5.88it/s]"
          ],
          "name": "stderr"
        },
        {
          "output_type": "stream",
          "text": [
            "Train Epoch: 5 [0/50176 (0%)]\tLoss: 1.419884\n"
          ],
          "name": "stdout"
        },
        {
          "output_type": "stream",
          "text": [
            "  6%|▌         | 12/196 [00:01<00:21,  8.71it/s]"
          ],
          "name": "stderr"
        },
        {
          "output_type": "stream",
          "text": [
            "Train Epoch: 5 [2560/50176 (5%)]\tLoss: 1.389593\n"
          ],
          "name": "stdout"
        },
        {
          "output_type": "stream",
          "text": [
            " 11%|█         | 22/196 [00:02<00:20,  8.52it/s]"
          ],
          "name": "stderr"
        },
        {
          "output_type": "stream",
          "text": [
            "Train Epoch: 5 [5120/50176 (10%)]\tLoss: 1.419757\n"
          ],
          "name": "stdout"
        },
        {
          "output_type": "stream",
          "text": [
            " 16%|█▋        | 32/196 [00:03<00:19,  8.62it/s]"
          ],
          "name": "stderr"
        },
        {
          "output_type": "stream",
          "text": [
            "Train Epoch: 5 [7680/50176 (15%)]\tLoss: 1.399120\n"
          ],
          "name": "stdout"
        },
        {
          "output_type": "stream",
          "text": [
            " 21%|██▏       | 42/196 [00:04<00:18,  8.42it/s]"
          ],
          "name": "stderr"
        },
        {
          "output_type": "stream",
          "text": [
            "Train Epoch: 5 [10240/50176 (20%)]\tLoss: 1.396391\n"
          ],
          "name": "stdout"
        },
        {
          "output_type": "stream",
          "text": [
            " 27%|██▋       | 52/196 [00:06<00:16,  8.67it/s]"
          ],
          "name": "stderr"
        },
        {
          "output_type": "stream",
          "text": [
            "Train Epoch: 5 [12800/50176 (26%)]\tLoss: 1.407671\n"
          ],
          "name": "stdout"
        },
        {
          "output_type": "stream",
          "text": [
            " 32%|███▏      | 62/196 [00:07<00:15,  8.46it/s]"
          ],
          "name": "stderr"
        },
        {
          "output_type": "stream",
          "text": [
            "Train Epoch: 5 [15360/50176 (31%)]\tLoss: 1.442981\n"
          ],
          "name": "stdout"
        },
        {
          "output_type": "stream",
          "text": [
            " 37%|███▋      | 72/196 [00:08<00:14,  8.72it/s]"
          ],
          "name": "stderr"
        },
        {
          "output_type": "stream",
          "text": [
            "Train Epoch: 5 [17920/50176 (36%)]\tLoss: 1.418251\n"
          ],
          "name": "stdout"
        },
        {
          "output_type": "stream",
          "text": [
            " 42%|████▏     | 82/196 [00:09<00:13,  8.54it/s]"
          ],
          "name": "stderr"
        },
        {
          "output_type": "stream",
          "text": [
            "Train Epoch: 5 [20480/50176 (41%)]\tLoss: 1.387214\n"
          ],
          "name": "stdout"
        },
        {
          "output_type": "stream",
          "text": [
            " 47%|████▋     | 92/196 [00:10<00:11,  8.74it/s]"
          ],
          "name": "stderr"
        },
        {
          "output_type": "stream",
          "text": [
            "Train Epoch: 5 [23040/50176 (46%)]\tLoss: 1.383053\n"
          ],
          "name": "stdout"
        },
        {
          "output_type": "stream",
          "text": [
            " 52%|█████▏    | 102/196 [00:11<00:11,  8.48it/s]"
          ],
          "name": "stderr"
        },
        {
          "output_type": "stream",
          "text": [
            "Train Epoch: 5 [25600/50176 (51%)]\tLoss: 1.401050\n"
          ],
          "name": "stdout"
        },
        {
          "output_type": "stream",
          "text": [
            " 57%|█████▋    | 112/196 [00:13<00:09,  8.77it/s]"
          ],
          "name": "stderr"
        },
        {
          "output_type": "stream",
          "text": [
            "Train Epoch: 5 [28160/50176 (56%)]\tLoss: 1.406093\n"
          ],
          "name": "stdout"
        },
        {
          "output_type": "stream",
          "text": [
            " 62%|██████▏   | 122/196 [00:14<00:08,  8.51it/s]"
          ],
          "name": "stderr"
        },
        {
          "output_type": "stream",
          "text": [
            "Train Epoch: 5 [30720/50176 (61%)]\tLoss: 1.398174\n"
          ],
          "name": "stdout"
        },
        {
          "output_type": "stream",
          "text": [
            " 67%|██████▋   | 132/196 [00:15<00:07,  8.65it/s]"
          ],
          "name": "stderr"
        },
        {
          "output_type": "stream",
          "text": [
            "Train Epoch: 5 [33280/50176 (66%)]\tLoss: 1.404257\n"
          ],
          "name": "stdout"
        },
        {
          "output_type": "stream",
          "text": [
            " 72%|███████▏  | 142/196 [00:16<00:06,  8.66it/s]"
          ],
          "name": "stderr"
        },
        {
          "output_type": "stream",
          "text": [
            "Train Epoch: 5 [35840/50176 (71%)]\tLoss: 1.403095\n"
          ],
          "name": "stdout"
        },
        {
          "output_type": "stream",
          "text": [
            " 78%|███████▊  | 152/196 [00:17<00:05,  8.60it/s]"
          ],
          "name": "stderr"
        },
        {
          "output_type": "stream",
          "text": [
            "Train Epoch: 5 [38400/50176 (77%)]\tLoss: 1.385004\n"
          ],
          "name": "stdout"
        },
        {
          "output_type": "stream",
          "text": [
            " 83%|████████▎ | 162/196 [00:18<00:03,  8.78it/s]"
          ],
          "name": "stderr"
        },
        {
          "output_type": "stream",
          "text": [
            "Train Epoch: 5 [40960/50176 (82%)]\tLoss: 1.409423\n"
          ],
          "name": "stdout"
        },
        {
          "output_type": "stream",
          "text": [
            " 88%|████████▊ | 172/196 [00:19<00:02,  8.66it/s]"
          ],
          "name": "stderr"
        },
        {
          "output_type": "stream",
          "text": [
            "Train Epoch: 5 [43520/50176 (87%)]\tLoss: 1.382563\n"
          ],
          "name": "stdout"
        },
        {
          "output_type": "stream",
          "text": [
            " 93%|█████████▎| 182/196 [00:21<00:01,  8.54it/s]"
          ],
          "name": "stderr"
        },
        {
          "output_type": "stream",
          "text": [
            "Train Epoch: 5 [46080/50176 (92%)]\tLoss: 1.412262\n"
          ],
          "name": "stdout"
        },
        {
          "output_type": "stream",
          "text": [
            " 98%|█████████▊| 192/196 [00:22<00:00,  8.72it/s]"
          ],
          "name": "stderr"
        },
        {
          "output_type": "stream",
          "text": [
            "Train Epoch: 5 [48640/50176 (97%)]\tLoss: 1.416346\n"
          ],
          "name": "stdout"
        },
        {
          "output_type": "stream",
          "text": [
            "100%|██████████| 196/196 [00:22<00:00,  8.66it/s]\n"
          ],
          "name": "stderr"
        },
        {
          "output_type": "stream",
          "text": [
            "Input\tonly way left to get water, because Voldemort had planned it so ... He flung himself over to the edg\n",
            "GT\tnly way left to get water, because Voldemort had planned it so ... He flung himself over to the edge\n",
            "pred\tney tas aoat th tot tiscri aucause toldemort wad tuaceed tn womt . \"e woung oim elf aner th the fnge\n",
            "\n",
            "\n",
            "Input\ts that had his arm. It released him, falling backward into the water with a splash; he scrambled to \n",
            "GT\t that had his arm. It released him, falling backward into the water with a splash; he scrambled to h\n",
            "pred\t hhat hed tes hnms \"t weaeased tim  aocling aeck ard tn o the cileriaith anltianh  te waoenbled ao t\n",
            "\n",
            "\n",
            "Input\tath, and his feet left the ground as they lifted him and began to carry him, slowly and surely, back\n",
            "GT\tth, and his feet left the ground as they lifted him and began to carry him, slowly and surely, back \n",
            "pred\tdhe and tes haet aott toe doound an the  wokted tim and tecan to toney aim  aoiwly and ttrp y  tuck \n",
            "\n",
            "\n",
            "Input\t . . . Dumbledore scooped the locket from the bottom of the stone basin and stowed it inside his rob\n",
            "GT\t. . . Dumbledore scooped the locket from the bottom of the stone basin and stowed it inside his robe\n",
            "pred\t\" . . .umbledore haroped aoe fiok t ooom the dootlm of the ctane oecingand ttapad tn wntide tim fobe\n",
            "\n",
            "\n",
            "Input\t\"sir, I forgot -- about fire -- they were coming at me and I panicked --\" \"Quite understandable,\" mu\n",
            "GT\tsir, I forgot -- about fire -- they were coming at me and I panicked --\" \"Quite understandable,\" mur\n",
            "pred\tIar, a deugettt-\"\"nout tons a- \"he 'were aoming tn te tnd t dustseed t\"  \"Iutde isderstand yle \" sus\n",
            "\n",
            "\n"
          ],
          "name": "stdout"
        },
        {
          "output_type": "stream",
          "text": [
            "\r  0%|          | 0/196 [00:00<?, ?it/s]"
          ],
          "name": "stderr"
        },
        {
          "output_type": "stream",
          "text": [
            "\n",
            "Test set: Average loss: 1.4144, Accuracy: 725852/1254400 (58%)\n",
            "\n",
            "Saved /gdrive/My Drive/CSE415/language/checkpoints/language_005.pt\n",
            "\n",
            "generated sentence\t\t Harry Potter, Voldemort, and Dumbledore walk into a bar. I don't think you were the one of the one of the one of the one of the counters, and the one of the way on the one of the counters of the counters of the counters of the counters of the counters of th\n",
            "\n"
          ],
          "name": "stdout"
        },
        {
          "output_type": "stream",
          "text": [
            "  1%|          | 2/196 [00:00<00:33,  5.71it/s]"
          ],
          "name": "stderr"
        },
        {
          "output_type": "stream",
          "text": [
            "Train Epoch: 6 [0/50176 (0%)]\tLoss: 1.409932\n"
          ],
          "name": "stdout"
        },
        {
          "output_type": "stream",
          "text": [
            "  6%|▌         | 12/196 [00:01<00:21,  8.39it/s]"
          ],
          "name": "stderr"
        },
        {
          "output_type": "stream",
          "text": [
            "Train Epoch: 6 [2560/50176 (5%)]\tLoss: 1.403347\n"
          ],
          "name": "stdout"
        },
        {
          "output_type": "stream",
          "text": [
            " 11%|█         | 22/196 [00:02<00:20,  8.48it/s]"
          ],
          "name": "stderr"
        },
        {
          "output_type": "stream",
          "text": [
            "Train Epoch: 6 [5120/50176 (10%)]\tLoss: 1.417690\n"
          ],
          "name": "stdout"
        },
        {
          "output_type": "stream",
          "text": [
            " 16%|█▋        | 32/196 [00:03<00:18,  8.64it/s]"
          ],
          "name": "stderr"
        },
        {
          "output_type": "stream",
          "text": [
            "Train Epoch: 6 [7680/50176 (15%)]\tLoss: 1.393447\n"
          ],
          "name": "stdout"
        },
        {
          "output_type": "stream",
          "text": [
            " 21%|██▏       | 42/196 [00:04<00:17,  8.59it/s]"
          ],
          "name": "stderr"
        },
        {
          "output_type": "stream",
          "text": [
            "Train Epoch: 6 [10240/50176 (20%)]\tLoss: 1.378677\n"
          ],
          "name": "stdout"
        },
        {
          "output_type": "stream",
          "text": [
            " 27%|██▋       | 52/196 [00:06<00:16,  8.70it/s]"
          ],
          "name": "stderr"
        },
        {
          "output_type": "stream",
          "text": [
            "Train Epoch: 6 [12800/50176 (26%)]\tLoss: 1.377688\n"
          ],
          "name": "stdout"
        },
        {
          "output_type": "stream",
          "text": [
            " 32%|███▏      | 62/196 [00:07<00:15,  8.78it/s]"
          ],
          "name": "stderr"
        },
        {
          "output_type": "stream",
          "text": [
            "Train Epoch: 6 [15360/50176 (31%)]\tLoss: 1.389426\n"
          ],
          "name": "stdout"
        },
        {
          "output_type": "stream",
          "text": [
            " 37%|███▋      | 72/196 [00:08<00:14,  8.80it/s]"
          ],
          "name": "stderr"
        },
        {
          "output_type": "stream",
          "text": [
            "Train Epoch: 6 [17920/50176 (36%)]\tLoss: 1.398753\n"
          ],
          "name": "stdout"
        },
        {
          "output_type": "stream",
          "text": [
            " 42%|████▏     | 82/196 [00:09<00:13,  8.71it/s]"
          ],
          "name": "stderr"
        },
        {
          "output_type": "stream",
          "text": [
            "Train Epoch: 6 [20480/50176 (41%)]\tLoss: 1.373703\n"
          ],
          "name": "stdout"
        },
        {
          "output_type": "stream",
          "text": [
            " 47%|████▋     | 92/196 [00:10<00:12,  8.47it/s]"
          ],
          "name": "stderr"
        },
        {
          "output_type": "stream",
          "text": [
            "Train Epoch: 6 [23040/50176 (46%)]\tLoss: 1.375880\n"
          ],
          "name": "stdout"
        },
        {
          "output_type": "stream",
          "text": [
            " 52%|█████▏    | 102/196 [00:11<00:10,  8.83it/s]"
          ],
          "name": "stderr"
        },
        {
          "output_type": "stream",
          "text": [
            "Train Epoch: 6 [25600/50176 (51%)]\tLoss: 1.399425\n"
          ],
          "name": "stdout"
        },
        {
          "output_type": "stream",
          "text": [
            " 57%|█████▋    | 112/196 [00:13<00:09,  8.56it/s]"
          ],
          "name": "stderr"
        },
        {
          "output_type": "stream",
          "text": [
            "Train Epoch: 6 [28160/50176 (56%)]\tLoss: 1.389806\n"
          ],
          "name": "stdout"
        },
        {
          "output_type": "stream",
          "text": [
            " 62%|██████▏   | 122/196 [00:14<00:08,  8.64it/s]"
          ],
          "name": "stderr"
        },
        {
          "output_type": "stream",
          "text": [
            "Train Epoch: 6 [30720/50176 (61%)]\tLoss: 1.393589\n"
          ],
          "name": "stdout"
        },
        {
          "output_type": "stream",
          "text": [
            " 67%|██████▋   | 132/196 [00:15<00:07,  8.46it/s]"
          ],
          "name": "stderr"
        },
        {
          "output_type": "stream",
          "text": [
            "Train Epoch: 6 [33280/50176 (66%)]\tLoss: 1.379125\n"
          ],
          "name": "stdout"
        },
        {
          "output_type": "stream",
          "text": [
            " 72%|███████▏  | 142/196 [00:16<00:06,  8.67it/s]"
          ],
          "name": "stderr"
        },
        {
          "output_type": "stream",
          "text": [
            "Train Epoch: 6 [35840/50176 (71%)]\tLoss: 1.388516\n"
          ],
          "name": "stdout"
        },
        {
          "output_type": "stream",
          "text": [
            " 78%|███████▊  | 152/196 [00:17<00:05,  8.56it/s]"
          ],
          "name": "stderr"
        },
        {
          "output_type": "stream",
          "text": [
            "Train Epoch: 6 [38400/50176 (77%)]\tLoss: 1.379994\n"
          ],
          "name": "stdout"
        },
        {
          "output_type": "stream",
          "text": [
            " 83%|████████▎ | 162/196 [00:18<00:03,  8.55it/s]"
          ],
          "name": "stderr"
        },
        {
          "output_type": "stream",
          "text": [
            "Train Epoch: 6 [40960/50176 (82%)]\tLoss: 1.408426\n"
          ],
          "name": "stdout"
        },
        {
          "output_type": "stream",
          "text": [
            " 88%|████████▊ | 172/196 [00:19<00:02,  8.71it/s]"
          ],
          "name": "stderr"
        },
        {
          "output_type": "stream",
          "text": [
            "Train Epoch: 6 [43520/50176 (87%)]\tLoss: 1.393335\n"
          ],
          "name": "stdout"
        },
        {
          "output_type": "stream",
          "text": [
            " 93%|█████████▎| 182/196 [00:21<00:01,  8.62it/s]"
          ],
          "name": "stderr"
        },
        {
          "output_type": "stream",
          "text": [
            "Train Epoch: 6 [46080/50176 (92%)]\tLoss: 1.405074\n"
          ],
          "name": "stdout"
        },
        {
          "output_type": "stream",
          "text": [
            " 98%|█████████▊| 192/196 [00:22<00:00,  8.37it/s]"
          ],
          "name": "stderr"
        },
        {
          "output_type": "stream",
          "text": [
            "Train Epoch: 6 [48640/50176 (97%)]\tLoss: 1.400369\n"
          ],
          "name": "stdout"
        },
        {
          "output_type": "stream",
          "text": [
            "100%|██████████| 196/196 [00:22<00:00,  8.62it/s]\n"
          ],
          "name": "stderr"
        },
        {
          "output_type": "stream",
          "text": [
            "Input\tonly way left to get water, because Voldemort had planned it so ... He flung himself over to the edg\n",
            "GT\tnly way left to get water, because Voldemort had planned it so ... He flung himself over to the edge\n",
            "pred\tney tas toat th tet tiscr  aucause toldemort wad tuaceed tn womt . te weutg oim elf tner th the fnge\n",
            "\n",
            "\n",
            "Input\ts that had his arm. It released him, falling backward into the water with a splash; he scrambled to \n",
            "GT\t that had his arm. It released him, falling backward into the water with a splash; he scrambled to h\n",
            "pred\t that hed tes hnms \"t weaiase  tim  aocling aack ard anto the coler aith anstiath  te htoemeeed ao t\n",
            "\n",
            "\n",
            "Input\tath, and his feet left the ground as they lifted him and began to carry him, slowly and surely, back\n",
            "GT\tth, and his feet left the ground as they lifted him and began to carry him, slowly and surely, back \n",
            "pred\tdh  and tes haet aott the sround an the  wokted tim and secan to toley ais  atiwly atd stre y  tuck \n",
            "\n",
            "\n",
            "Input\t . . . Dumbledore scooped the locket from the bottom of the stone basin and stowed it inside his rob\n",
            "GT\t. . . Dumbledore scooped the locket from the bottom of the stone basin and stowed it inside his robe\n",
            "pred\t\" . . .umbledore saroped aoe sook t arom the sottlm of the ctane oecingand ttapad tn wntide tis hobe\n",
            "\n",
            "\n",
            "Input\t\"sir, I forgot -- about fire -- they were coming at me and I panicked --\" \"Quite understandable,\" mu\n",
            "GT\tsir, I forgot -- about fire -- they were coming at me and I panicked --\" \"Quite understandable,\" mur\n",
            "pred\twhr, a deugottt-\"\"nout tons t- the 'were toning tn te tnd t dustseed t\"  \"Iutde tnderstand yle \" sus\n",
            "\n",
            "\n"
          ],
          "name": "stdout"
        },
        {
          "output_type": "stream",
          "text": [
            "\r  0%|          | 0/196 [00:00<?, ?it/s]"
          ],
          "name": "stderr"
        },
        {
          "output_type": "stream",
          "text": [
            "\n",
            "Test set: Average loss: 1.3964, Accuracy: 733226/1254400 (58%)\n",
            "\n",
            "Saved /gdrive/My Drive/CSE415/language/checkpoints/language_006.pt\n",
            "\n",
            "generated sentence\t\t Harry Potter, Voldemort, and Dumbledore walk into a bar. I don't think that we could tell the one of the counterstand of the counters of the counters of the counters of the counters of the counters of the counters of the counter of the counter of the counte\n",
            "\n"
          ],
          "name": "stdout"
        },
        {
          "output_type": "stream",
          "text": [
            "  1%|          | 2/196 [00:00<00:32,  6.03it/s]"
          ],
          "name": "stderr"
        },
        {
          "output_type": "stream",
          "text": [
            "Train Epoch: 7 [0/50176 (0%)]\tLoss: 1.393655\n"
          ],
          "name": "stdout"
        },
        {
          "output_type": "stream",
          "text": [
            "  6%|▌         | 12/196 [00:01<00:21,  8.53it/s]"
          ],
          "name": "stderr"
        },
        {
          "output_type": "stream",
          "text": [
            "Train Epoch: 7 [2560/50176 (5%)]\tLoss: 1.368676\n"
          ],
          "name": "stdout"
        },
        {
          "output_type": "stream",
          "text": [
            " 11%|█         | 22/196 [00:02<00:20,  8.54it/s]"
          ],
          "name": "stderr"
        },
        {
          "output_type": "stream",
          "text": [
            "Train Epoch: 7 [5120/50176 (10%)]\tLoss: 1.401858\n"
          ],
          "name": "stdout"
        },
        {
          "output_type": "stream",
          "text": [
            " 16%|█▋        | 32/196 [00:03<00:18,  8.73it/s]"
          ],
          "name": "stderr"
        },
        {
          "output_type": "stream",
          "text": [
            "Train Epoch: 7 [7680/50176 (15%)]\tLoss: 1.380078\n"
          ],
          "name": "stdout"
        },
        {
          "output_type": "stream",
          "text": [
            " 21%|██▏       | 42/196 [00:04<00:17,  8.78it/s]"
          ],
          "name": "stderr"
        },
        {
          "output_type": "stream",
          "text": [
            "Train Epoch: 7 [10240/50176 (20%)]\tLoss: 1.381308\n"
          ],
          "name": "stdout"
        },
        {
          "output_type": "stream",
          "text": [
            " 27%|██▋       | 52/196 [00:06<00:16,  8.70it/s]"
          ],
          "name": "stderr"
        },
        {
          "output_type": "stream",
          "text": [
            "Train Epoch: 7 [12800/50176 (26%)]\tLoss: 1.388494\n"
          ],
          "name": "stdout"
        },
        {
          "output_type": "stream",
          "text": [
            " 32%|███▏      | 62/196 [00:07<00:15,  8.66it/s]"
          ],
          "name": "stderr"
        },
        {
          "output_type": "stream",
          "text": [
            "Train Epoch: 7 [15360/50176 (31%)]\tLoss: 1.398974\n"
          ],
          "name": "stdout"
        },
        {
          "output_type": "stream",
          "text": [
            " 37%|███▋      | 72/196 [00:08<00:14,  8.67it/s]"
          ],
          "name": "stderr"
        },
        {
          "output_type": "stream",
          "text": [
            "Train Epoch: 7 [17920/50176 (36%)]\tLoss: 1.399122\n"
          ],
          "name": "stdout"
        },
        {
          "output_type": "stream",
          "text": [
            " 42%|████▏     | 82/196 [00:09<00:12,  8.86it/s]"
          ],
          "name": "stderr"
        },
        {
          "output_type": "stream",
          "text": [
            "Train Epoch: 7 [20480/50176 (41%)]\tLoss: 1.374663\n"
          ],
          "name": "stdout"
        },
        {
          "output_type": "stream",
          "text": [
            " 47%|████▋     | 92/196 [00:10<00:12,  8.53it/s]"
          ],
          "name": "stderr"
        },
        {
          "output_type": "stream",
          "text": [
            "Train Epoch: 7 [23040/50176 (46%)]\tLoss: 1.368826\n"
          ],
          "name": "stdout"
        },
        {
          "output_type": "stream",
          "text": [
            " 52%|█████▏    | 102/196 [00:11<00:11,  8.43it/s]"
          ],
          "name": "stderr"
        },
        {
          "output_type": "stream",
          "text": [
            "Train Epoch: 7 [25600/50176 (51%)]\tLoss: 1.392501\n"
          ],
          "name": "stdout"
        },
        {
          "output_type": "stream",
          "text": [
            " 57%|█████▋    | 112/196 [00:13<00:09,  8.57it/s]"
          ],
          "name": "stderr"
        },
        {
          "output_type": "stream",
          "text": [
            "Train Epoch: 7 [28160/50176 (56%)]\tLoss: 1.428276\n"
          ],
          "name": "stdout"
        },
        {
          "output_type": "stream",
          "text": [
            " 62%|██████▏   | 122/196 [00:14<00:08,  8.56it/s]"
          ],
          "name": "stderr"
        },
        {
          "output_type": "stream",
          "text": [
            "Train Epoch: 7 [30720/50176 (61%)]\tLoss: 1.387170\n"
          ],
          "name": "stdout"
        },
        {
          "output_type": "stream",
          "text": [
            " 67%|██████▋   | 132/196 [00:15<00:07,  8.59it/s]"
          ],
          "name": "stderr"
        },
        {
          "output_type": "stream",
          "text": [
            "Train Epoch: 7 [33280/50176 (66%)]\tLoss: 1.364097\n"
          ],
          "name": "stdout"
        },
        {
          "output_type": "stream",
          "text": [
            " 72%|███████▏  | 142/196 [00:16<00:06,  8.62it/s]"
          ],
          "name": "stderr"
        },
        {
          "output_type": "stream",
          "text": [
            "Train Epoch: 7 [35840/50176 (71%)]\tLoss: 1.382258\n"
          ],
          "name": "stdout"
        },
        {
          "output_type": "stream",
          "text": [
            " 78%|███████▊  | 152/196 [00:17<00:05,  8.51it/s]"
          ],
          "name": "stderr"
        },
        {
          "output_type": "stream",
          "text": [
            "Train Epoch: 7 [38400/50176 (77%)]\tLoss: 1.368745\n"
          ],
          "name": "stdout"
        },
        {
          "output_type": "stream",
          "text": [
            " 83%|████████▎ | 162/196 [00:18<00:03,  8.55it/s]"
          ],
          "name": "stderr"
        },
        {
          "output_type": "stream",
          "text": [
            "Train Epoch: 7 [40960/50176 (82%)]\tLoss: 1.393826\n"
          ],
          "name": "stdout"
        },
        {
          "output_type": "stream",
          "text": [
            " 88%|████████▊ | 172/196 [00:20<00:02,  8.61it/s]"
          ],
          "name": "stderr"
        },
        {
          "output_type": "stream",
          "text": [
            "Train Epoch: 7 [43520/50176 (87%)]\tLoss: 1.370844\n"
          ],
          "name": "stdout"
        },
        {
          "output_type": "stream",
          "text": [
            " 93%|█████████▎| 182/196 [00:21<00:01,  8.75it/s]"
          ],
          "name": "stderr"
        },
        {
          "output_type": "stream",
          "text": [
            "Train Epoch: 7 [46080/50176 (92%)]\tLoss: 1.395312\n"
          ],
          "name": "stdout"
        },
        {
          "output_type": "stream",
          "text": [
            " 98%|█████████▊| 192/196 [00:22<00:00,  8.71it/s]"
          ],
          "name": "stderr"
        },
        {
          "output_type": "stream",
          "text": [
            "Train Epoch: 7 [48640/50176 (97%)]\tLoss: 1.404297\n"
          ],
          "name": "stdout"
        },
        {
          "output_type": "stream",
          "text": [
            "100%|██████████| 196/196 [00:22<00:00,  8.63it/s]\n"
          ],
          "name": "stderr"
        },
        {
          "output_type": "stream",
          "text": [
            "Input\tonly way left to get water, because Voldemort had planned it so ... He flung himself over to the edg\n",
            "GT\tnly way left to get water, because Voldemort had planned it so ... He flung himself over to the edge\n",
            "pred\tn y tis tott th tet tiscr  aucause toldemort wad tuaceed tn.iomt.. te weutg oim elf tner th the fnge\n",
            "\n",
            "\n",
            "Input\ts that had his arm. It released him, falling backward into the water with a splash; he scrambled to \n",
            "GT\t that had his arm. It released him, falling backward into the water with a splash; he scrambled to h\n",
            "pred\t hhat hed tes hnms \"t weaiase  tim  aocling teck ard tnto the coler.aith h stiath  te harenbeed ao t\n",
            "\n",
            "\n",
            "Input\tath, and his feet left the ground as they lifted him and began to carry him, slowly and surely, back\n",
            "GT\tth, and his feet left the ground as they lifted him and began to carry him, slowly and surely, back \n",
            "pred\tdh  and tes hoet aott the soound an the  wokted tim and secan to toney ais  atiwly atd stre y  tucki\n",
            "\n",
            "\n",
            "Input\t . . . Dumbledore scooped the locket from the bottom of the stone basin and stowed it inside his rob\n",
            "GT\t. . . Dumbledore scooped the locket from the bottom of the stone basin and stowed it inside his robe\n",
            "pred\t\" . . .umbledore harnped aoe sioket ooom the sootlm of the ctane oecingand ttapad tt wntide tis hobe\n",
            "\n",
            "\n",
            "Input\t\"sir, I forgot -- about fire -- they were coming at me and I panicked --\" \"Quite understandable,\" mu\n",
            "GT\tsir, I forgot -- about fire -- they were coming at me and I panicked --\" \"Quite understandable,\" mur\n",
            "pred\tIhr,\"I seugottt-\"\"nout tons t- the 'were toning tn te tnd t dustseed t\"  \"Iutde ipderstand yle \" sus\n",
            "\n",
            "\n"
          ],
          "name": "stdout"
        },
        {
          "output_type": "stream",
          "text": [
            "\r  0%|          | 0/196 [00:00<?, ?it/s]"
          ],
          "name": "stderr"
        },
        {
          "output_type": "stream",
          "text": [
            "\n",
            "Test set: Average loss: 1.3999, Accuracy: 731734/1254400 (58%)\n",
            "\n",
            "generated sentence\t\t Harry Potter, Voldemort, and Dumbledore walk into a bar. I don't think you were the one of the one of the word the one of the word the one of the word the one of the word the one of the word the one of the word the one of the word the one of the word the on\n",
            "\n"
          ],
          "name": "stdout"
        },
        {
          "output_type": "stream",
          "text": [
            "  1%|          | 2/196 [00:00<00:32,  5.96it/s]"
          ],
          "name": "stderr"
        },
        {
          "output_type": "stream",
          "text": [
            "Train Epoch: 8 [0/50176 (0%)]\tLoss: 1.396909\n"
          ],
          "name": "stdout"
        },
        {
          "output_type": "stream",
          "text": [
            "  6%|▌         | 12/196 [00:01<00:21,  8.60it/s]"
          ],
          "name": "stderr"
        },
        {
          "output_type": "stream",
          "text": [
            "Train Epoch: 8 [2560/50176 (5%)]\tLoss: 1.373308\n"
          ],
          "name": "stdout"
        },
        {
          "output_type": "stream",
          "text": [
            " 11%|█         | 22/196 [00:02<00:20,  8.42it/s]"
          ],
          "name": "stderr"
        },
        {
          "output_type": "stream",
          "text": [
            "Train Epoch: 8 [5120/50176 (10%)]\tLoss: 1.396550\n"
          ],
          "name": "stdout"
        },
        {
          "output_type": "stream",
          "text": [
            " 16%|█▋        | 32/196 [00:03<00:19,  8.63it/s]"
          ],
          "name": "stderr"
        },
        {
          "output_type": "stream",
          "text": [
            "Train Epoch: 8 [7680/50176 (15%)]\tLoss: 1.378518\n"
          ],
          "name": "stdout"
        },
        {
          "output_type": "stream",
          "text": [
            " 21%|██▏       | 42/196 [00:04<00:18,  8.45it/s]"
          ],
          "name": "stderr"
        },
        {
          "output_type": "stream",
          "text": [
            "Train Epoch: 8 [10240/50176 (20%)]\tLoss: 1.365107\n"
          ],
          "name": "stdout"
        },
        {
          "output_type": "stream",
          "text": [
            " 27%|██▋       | 52/196 [00:06<00:16,  8.47it/s]"
          ],
          "name": "stderr"
        },
        {
          "output_type": "stream",
          "text": [
            "Train Epoch: 8 [12800/50176 (26%)]\tLoss: 1.368860\n"
          ],
          "name": "stdout"
        },
        {
          "output_type": "stream",
          "text": [
            " 32%|███▏      | 62/196 [00:07<00:15,  8.53it/s]"
          ],
          "name": "stderr"
        },
        {
          "output_type": "stream",
          "text": [
            "Train Epoch: 8 [15360/50176 (31%)]\tLoss: 1.392283\n"
          ],
          "name": "stdout"
        },
        {
          "output_type": "stream",
          "text": [
            " 37%|███▋      | 72/196 [00:08<00:14,  8.63it/s]"
          ],
          "name": "stderr"
        },
        {
          "output_type": "stream",
          "text": [
            "Train Epoch: 8 [17920/50176 (36%)]\tLoss: 1.391477\n"
          ],
          "name": "stdout"
        },
        {
          "output_type": "stream",
          "text": [
            " 42%|████▏     | 82/196 [00:09<00:13,  8.63it/s]"
          ],
          "name": "stderr"
        },
        {
          "output_type": "stream",
          "text": [
            "Train Epoch: 8 [20480/50176 (41%)]\tLoss: 1.371496\n"
          ],
          "name": "stdout"
        },
        {
          "output_type": "stream",
          "text": [
            " 47%|████▋     | 92/196 [00:10<00:11,  8.72it/s]"
          ],
          "name": "stderr"
        },
        {
          "output_type": "stream",
          "text": [
            "Train Epoch: 8 [23040/50176 (46%)]\tLoss: 1.364642\n"
          ],
          "name": "stdout"
        },
        {
          "output_type": "stream",
          "text": [
            " 52%|█████▏    | 102/196 [00:11<00:10,  8.62it/s]"
          ],
          "name": "stderr"
        },
        {
          "output_type": "stream",
          "text": [
            "Train Epoch: 8 [25600/50176 (51%)]\tLoss: 1.407237\n"
          ],
          "name": "stdout"
        },
        {
          "output_type": "stream",
          "text": [
            " 57%|█████▋    | 112/196 [00:13<00:09,  8.56it/s]"
          ],
          "name": "stderr"
        },
        {
          "output_type": "stream",
          "text": [
            "Train Epoch: 8 [28160/50176 (56%)]\tLoss: 1.399238\n"
          ],
          "name": "stdout"
        },
        {
          "output_type": "stream",
          "text": [
            " 62%|██████▏   | 122/196 [00:14<00:08,  8.51it/s]"
          ],
          "name": "stderr"
        },
        {
          "output_type": "stream",
          "text": [
            "Train Epoch: 8 [30720/50176 (61%)]\tLoss: 1.375148\n"
          ],
          "name": "stdout"
        },
        {
          "output_type": "stream",
          "text": [
            " 67%|██████▋   | 132/196 [00:15<00:07,  8.61it/s]"
          ],
          "name": "stderr"
        },
        {
          "output_type": "stream",
          "text": [
            "Train Epoch: 8 [33280/50176 (66%)]\tLoss: 1.361387\n"
          ],
          "name": "stdout"
        },
        {
          "output_type": "stream",
          "text": [
            " 72%|███████▏  | 142/196 [00:16<00:06,  8.59it/s]"
          ],
          "name": "stderr"
        },
        {
          "output_type": "stream",
          "text": [
            "Train Epoch: 8 [35840/50176 (71%)]\tLoss: 1.374313\n"
          ],
          "name": "stdout"
        },
        {
          "output_type": "stream",
          "text": [
            " 78%|███████▊  | 152/196 [00:17<00:05,  8.51it/s]"
          ],
          "name": "stderr"
        },
        {
          "output_type": "stream",
          "text": [
            "Train Epoch: 8 [38400/50176 (77%)]\tLoss: 1.373809\n"
          ],
          "name": "stdout"
        },
        {
          "output_type": "stream",
          "text": [
            " 83%|████████▎ | 162/196 [00:18<00:03,  8.63it/s]"
          ],
          "name": "stderr"
        },
        {
          "output_type": "stream",
          "text": [
            "Train Epoch: 8 [40960/50176 (82%)]\tLoss: 1.389262\n"
          ],
          "name": "stdout"
        },
        {
          "output_type": "stream",
          "text": [
            " 88%|████████▊ | 172/196 [00:20<00:02,  8.38it/s]"
          ],
          "name": "stderr"
        },
        {
          "output_type": "stream",
          "text": [
            "Train Epoch: 8 [43520/50176 (87%)]\tLoss: 1.364658\n"
          ],
          "name": "stdout"
        },
        {
          "output_type": "stream",
          "text": [
            " 93%|█████████▎| 182/196 [00:21<00:01,  8.64it/s]"
          ],
          "name": "stderr"
        },
        {
          "output_type": "stream",
          "text": [
            "Train Epoch: 8 [46080/50176 (92%)]\tLoss: 1.385522\n"
          ],
          "name": "stdout"
        },
        {
          "output_type": "stream",
          "text": [
            " 98%|█████████▊| 192/196 [00:22<00:00,  8.80it/s]"
          ],
          "name": "stderr"
        },
        {
          "output_type": "stream",
          "text": [
            "Train Epoch: 8 [48640/50176 (97%)]\tLoss: 1.406642\n"
          ],
          "name": "stdout"
        },
        {
          "output_type": "stream",
          "text": [
            "100%|██████████| 196/196 [00:22<00:00,  8.60it/s]\n"
          ],
          "name": "stderr"
        },
        {
          "output_type": "stream",
          "text": [
            "Input\tonly way left to get water, because Voldemort had planned it so ... He flung himself over to the edg\n",
            "GT\tnly way left to get water, because Voldemort had planned it so ... He flung himself over to the edge\n",
            "pred\tn y tas tott th tot tiscr  aucause toldemort wad tuaceed tn.iomt.. te woutg oim elf tner th the fnge\n",
            "\n",
            "\n",
            "Input\ts that had his arm. It released him, falling backward into the water with a splash; he scrambled to \n",
            "GT\t that had his arm. It released him, falling backward into the water with a splash; he scrambled to h\n",
            "pred\t hhat wed aes fnms \"t weaease  tim  aocling tack ard anto the coler ahth a stiath  te waoemeeed ao t\n",
            "\n",
            "\n",
            "Input\tath, and his feet left the ground as they lifted him and began to carry him, slowly and surely, back\n",
            "GT\tth, and his feet left the ground as they lifted him and began to carry him, slowly and surely, back \n",
            "pred\tdh  and tes eoet aott the soound an thoy wokted tim and sucan to soney aim  aoiwly atd stre y  tucki\n",
            "\n",
            "\n",
            "Input\t . . . Dumbledore scooped the locket from the bottom of the stone basin and stowed it inside his rob\n",
            "GT\t. . . Dumbledore scooped the locket from the bottom of the stone basin and stowed it inside his robe\n",
            "pred\t\" . . .umbledore warnped aoe dooket ooom the cottlm of the ctane oecingand staoed tt,wntide tis fobe\n",
            "\n",
            "\n",
            "Input\t\"sir, I forgot -- about fire -- they were coming at me and I panicked --\" \"Quite understandable,\" mu\n",
            "GT\tsir, I forgot -- about fire -- they were coming at me and I panicked --\" \"Quite understandable,\" mur\n",
            "pred\tIhr,\"I sougot t-\"inout tons t- they'were aouing tn to tnd s dustseed t\"\" \"Iutde asderstand yle \" sus\n",
            "\n",
            "\n"
          ],
          "name": "stdout"
        },
        {
          "output_type": "stream",
          "text": [
            "\r  0%|          | 0/196 [00:00<?, ?it/s]"
          ],
          "name": "stderr"
        },
        {
          "output_type": "stream",
          "text": [
            "\n",
            "Test set: Average loss: 1.4020, Accuracy: 731693/1254400 (58%)\n",
            "\n",
            "generated sentence\t\t Harry Potter, Voldemort, and Dumbledore walk into a bar. I don't think you will be any of the one of the one of the one of the one of the one of the word of the word of the word of the word of the word of the word of the word of the word of the word of the \n",
            "\n"
          ],
          "name": "stdout"
        },
        {
          "output_type": "stream",
          "text": [
            "  1%|          | 2/196 [00:00<00:32,  5.94it/s]"
          ],
          "name": "stderr"
        },
        {
          "output_type": "stream",
          "text": [
            "Train Epoch: 9 [0/50176 (0%)]\tLoss: 1.398287\n"
          ],
          "name": "stdout"
        },
        {
          "output_type": "stream",
          "text": [
            "  6%|▌         | 12/196 [00:01<00:21,  8.52it/s]"
          ],
          "name": "stderr"
        },
        {
          "output_type": "stream",
          "text": [
            "Train Epoch: 9 [2560/50176 (5%)]\tLoss: 1.364216\n"
          ],
          "name": "stdout"
        },
        {
          "output_type": "stream",
          "text": [
            " 11%|█         | 22/196 [00:02<00:20,  8.67it/s]"
          ],
          "name": "stderr"
        },
        {
          "output_type": "stream",
          "text": [
            "Train Epoch: 9 [5120/50176 (10%)]\tLoss: 1.389499\n"
          ],
          "name": "stdout"
        },
        {
          "output_type": "stream",
          "text": [
            " 16%|█▋        | 32/196 [00:03<00:19,  8.57it/s]"
          ],
          "name": "stderr"
        },
        {
          "output_type": "stream",
          "text": [
            "Train Epoch: 9 [7680/50176 (15%)]\tLoss: 1.376266\n"
          ],
          "name": "stdout"
        },
        {
          "output_type": "stream",
          "text": [
            " 21%|██▏       | 42/196 [00:04<00:17,  8.81it/s]"
          ],
          "name": "stderr"
        },
        {
          "output_type": "stream",
          "text": [
            "Train Epoch: 9 [10240/50176 (20%)]\tLoss: 1.358652\n"
          ],
          "name": "stdout"
        },
        {
          "output_type": "stream",
          "text": [
            " 27%|██▋       | 52/196 [00:06<00:16,  8.79it/s]"
          ],
          "name": "stderr"
        },
        {
          "output_type": "stream",
          "text": [
            "Train Epoch: 9 [12800/50176 (26%)]\tLoss: 1.360315\n"
          ],
          "name": "stdout"
        },
        {
          "output_type": "stream",
          "text": [
            " 32%|███▏      | 62/196 [00:07<00:15,  8.72it/s]"
          ],
          "name": "stderr"
        },
        {
          "output_type": "stream",
          "text": [
            "Train Epoch: 9 [15360/50176 (31%)]\tLoss: 1.373798\n"
          ],
          "name": "stdout"
        },
        {
          "output_type": "stream",
          "text": [
            " 37%|███▋      | 72/196 [00:08<00:14,  8.76it/s]"
          ],
          "name": "stderr"
        },
        {
          "output_type": "stream",
          "text": [
            "Train Epoch: 9 [17920/50176 (36%)]\tLoss: 1.378449\n"
          ],
          "name": "stdout"
        },
        {
          "output_type": "stream",
          "text": [
            " 42%|████▏     | 82/196 [00:09<00:13,  8.57it/s]"
          ],
          "name": "stderr"
        },
        {
          "output_type": "stream",
          "text": [
            "Train Epoch: 9 [20480/50176 (41%)]\tLoss: 1.363906\n"
          ],
          "name": "stdout"
        },
        {
          "output_type": "stream",
          "text": [
            " 47%|████▋     | 92/196 [00:10<00:12,  8.51it/s]"
          ],
          "name": "stderr"
        },
        {
          "output_type": "stream",
          "text": [
            "Train Epoch: 9 [23040/50176 (46%)]\tLoss: 1.358013\n"
          ],
          "name": "stdout"
        },
        {
          "output_type": "stream",
          "text": [
            " 52%|█████▏    | 102/196 [00:11<00:10,  8.78it/s]"
          ],
          "name": "stderr"
        },
        {
          "output_type": "stream",
          "text": [
            "Train Epoch: 9 [25600/50176 (51%)]\tLoss: 1.372145\n"
          ],
          "name": "stdout"
        },
        {
          "output_type": "stream",
          "text": [
            " 57%|█████▋    | 112/196 [00:12<00:09,  8.72it/s]"
          ],
          "name": "stderr"
        },
        {
          "output_type": "stream",
          "text": [
            "Train Epoch: 9 [28160/50176 (56%)]\tLoss: 1.383355\n"
          ],
          "name": "stdout"
        },
        {
          "output_type": "stream",
          "text": [
            " 62%|██████▏   | 122/196 [00:14<00:08,  8.81it/s]"
          ],
          "name": "stderr"
        },
        {
          "output_type": "stream",
          "text": [
            "Train Epoch: 9 [30720/50176 (61%)]\tLoss: 1.402174\n"
          ],
          "name": "stdout"
        },
        {
          "output_type": "stream",
          "text": [
            " 67%|██████▋   | 132/196 [00:15<00:07,  8.71it/s]"
          ],
          "name": "stderr"
        },
        {
          "output_type": "stream",
          "text": [
            "Train Epoch: 9 [33280/50176 (66%)]\tLoss: 1.374111\n"
          ],
          "name": "stdout"
        },
        {
          "output_type": "stream",
          "text": [
            " 72%|███████▏  | 142/196 [00:16<00:06,  8.76it/s]"
          ],
          "name": "stderr"
        },
        {
          "output_type": "stream",
          "text": [
            "Train Epoch: 9 [35840/50176 (71%)]\tLoss: 1.378939\n"
          ],
          "name": "stdout"
        },
        {
          "output_type": "stream",
          "text": [
            " 78%|███████▊  | 152/196 [00:17<00:05,  8.74it/s]"
          ],
          "name": "stderr"
        },
        {
          "output_type": "stream",
          "text": [
            "Train Epoch: 9 [38400/50176 (77%)]\tLoss: 1.364606\n"
          ],
          "name": "stdout"
        },
        {
          "output_type": "stream",
          "text": [
            " 83%|████████▎ | 162/196 [00:18<00:03,  8.69it/s]"
          ],
          "name": "stderr"
        },
        {
          "output_type": "stream",
          "text": [
            "Train Epoch: 9 [40960/50176 (82%)]\tLoss: 1.382320\n"
          ],
          "name": "stdout"
        },
        {
          "output_type": "stream",
          "text": [
            " 88%|████████▊ | 172/196 [00:19<00:02,  8.84it/s]"
          ],
          "name": "stderr"
        },
        {
          "output_type": "stream",
          "text": [
            "Train Epoch: 9 [43520/50176 (87%)]\tLoss: 1.357905\n"
          ],
          "name": "stdout"
        },
        {
          "output_type": "stream",
          "text": [
            " 93%|█████████▎| 182/196 [00:20<00:01,  8.86it/s]"
          ],
          "name": "stderr"
        },
        {
          "output_type": "stream",
          "text": [
            "Train Epoch: 9 [46080/50176 (92%)]\tLoss: 1.379509\n"
          ],
          "name": "stdout"
        },
        {
          "output_type": "stream",
          "text": [
            " 98%|█████████▊| 192/196 [00:22<00:00,  8.78it/s]"
          ],
          "name": "stderr"
        },
        {
          "output_type": "stream",
          "text": [
            "Train Epoch: 9 [48640/50176 (97%)]\tLoss: 1.383208\n"
          ],
          "name": "stdout"
        },
        {
          "output_type": "stream",
          "text": [
            "100%|██████████| 196/196 [00:22<00:00,  8.74it/s]\n"
          ],
          "name": "stderr"
        },
        {
          "output_type": "stream",
          "text": [
            "Input\tonly way left to get water, because Voldemort had planned it so ... He flung himself over to the edg\n",
            "GT\tnly way left to get water, because Voldemort had planned it so ... He flung himself over to the edge\n",
            "pred\tn y tas tott th tot tiscr  aucause toldemort wad tuayeed tn.iomt.. te woutg oim elf tner th the onge\n",
            "\n",
            "\n",
            "Input\ts that had his arm. It released him, falling backward into the water with a splash; he scrambled to \n",
            "GT\t that had his arm. It released him, falling backward into the water with a splash; he scrambled to h\n",
            "pred\t that wed tas fnm  \"t weaease  tim  aocling oack ard anto the coler.oith a ltiith  te wtremeled ao t\n",
            "\n",
            "\n",
            "Input\tath, and his feet left the ground as they lifted him and began to carry him, slowly and surely, back\n",
            "GT\tth, and his feet left the ground as they lifted him and began to carry him, slowly and surely, back \n",
            "pred\tdh  tnd tes eaet aott the ooound on tho  wokted tim ond sucan to totey aim  atiwly atd stre y  tucki\n",
            "\n",
            "\n",
            "Input\t . . . Dumbledore scooped the locket from the bottom of the stone basin and stowed it inside his rob\n",
            "GT\t. . . Dumbledore scooped the locket from the bottom of the stone basin and stowed it inside his robe\n",
            "pred\t\" . . .umbledore wtroped ooe dooket ooom the sottlm of the wtane oecingand staoed tt wntide tis fobe\n",
            "\n",
            "\n",
            "Input\t\"sir, I forgot -- about fire -- they were coming at me and I panicked --\" \"Quite understandable,\" mu\n",
            "GT\tsir, I forgot -- about fire -- they were coming at me and I panicked --\" \"Quite understandable,\" mur\n",
            "pred\tIot, I sougottt-\"tnout tons t- they'were toming tn to tnd t dustteed t\"\" \"Iuite ipderstand nle \" sus\n",
            "\n",
            "\n"
          ],
          "name": "stdout"
        },
        {
          "output_type": "stream",
          "text": [
            "\r  0%|          | 0/196 [00:00<?, ?it/s]"
          ],
          "name": "stderr"
        },
        {
          "output_type": "stream",
          "text": [
            "\n",
            "Test set: Average loss: 1.3874, Accuracy: 736388/1254400 (59%)\n",
            "\n",
            "Saved /gdrive/My Drive/CSE415/language/checkpoints/language_009.pt\n",
            "\n",
            "generated sentence\t\t Harry Potter, Voldemort, and Dumbledore walk into a bar. I don't think you will be to go to the one of the one of the one of the one of the one of the one of the one of the one of the one of the one of the one of the word of the one of the word of the word \n",
            "\n"
          ],
          "name": "stdout"
        },
        {
          "output_type": "stream",
          "text": [
            "  1%|          | 2/196 [00:00<00:32,  6.05it/s]"
          ],
          "name": "stderr"
        },
        {
          "output_type": "stream",
          "text": [
            "Train Epoch: 10 [0/50176 (0%)]\tLoss: 1.386383\n"
          ],
          "name": "stdout"
        },
        {
          "output_type": "stream",
          "text": [
            "  6%|▌         | 12/196 [00:01<00:21,  8.39it/s]"
          ],
          "name": "stderr"
        },
        {
          "output_type": "stream",
          "text": [
            "Train Epoch: 10 [2560/50176 (5%)]\tLoss: 1.364625\n"
          ],
          "name": "stdout"
        },
        {
          "output_type": "stream",
          "text": [
            " 11%|█         | 22/196 [00:02<00:20,  8.57it/s]"
          ],
          "name": "stderr"
        },
        {
          "output_type": "stream",
          "text": [
            "Train Epoch: 10 [5120/50176 (10%)]\tLoss: 1.386148\n"
          ],
          "name": "stdout"
        },
        {
          "output_type": "stream",
          "text": [
            " 16%|█▋        | 32/196 [00:03<00:18,  8.68it/s]"
          ],
          "name": "stderr"
        },
        {
          "output_type": "stream",
          "text": [
            "Train Epoch: 10 [7680/50176 (15%)]\tLoss: 1.371984\n"
          ],
          "name": "stdout"
        },
        {
          "output_type": "stream",
          "text": [
            " 21%|██▏       | 42/196 [00:04<00:17,  8.63it/s]"
          ],
          "name": "stderr"
        },
        {
          "output_type": "stream",
          "text": [
            "Train Epoch: 10 [10240/50176 (20%)]\tLoss: 1.359644\n"
          ],
          "name": "stdout"
        },
        {
          "output_type": "stream",
          "text": [
            " 27%|██▋       | 52/196 [00:06<00:16,  8.51it/s]"
          ],
          "name": "stderr"
        },
        {
          "output_type": "stream",
          "text": [
            "Train Epoch: 10 [12800/50176 (26%)]\tLoss: 1.367008\n"
          ],
          "name": "stdout"
        },
        {
          "output_type": "stream",
          "text": [
            " 32%|███▏      | 62/196 [00:07<00:15,  8.56it/s]"
          ],
          "name": "stderr"
        },
        {
          "output_type": "stream",
          "text": [
            "Train Epoch: 10 [15360/50176 (31%)]\tLoss: 1.370501\n"
          ],
          "name": "stdout"
        },
        {
          "output_type": "stream",
          "text": [
            " 37%|███▋      | 72/196 [00:08<00:14,  8.65it/s]"
          ],
          "name": "stderr"
        },
        {
          "output_type": "stream",
          "text": [
            "Train Epoch: 10 [17920/50176 (36%)]\tLoss: 1.379174\n"
          ],
          "name": "stdout"
        },
        {
          "output_type": "stream",
          "text": [
            " 42%|████▏     | 82/196 [00:09<00:13,  8.49it/s]"
          ],
          "name": "stderr"
        },
        {
          "output_type": "stream",
          "text": [
            "Train Epoch: 10 [20480/50176 (41%)]\tLoss: 1.361883\n"
          ],
          "name": "stdout"
        },
        {
          "output_type": "stream",
          "text": [
            " 47%|████▋     | 92/196 [00:10<00:12,  8.48it/s]"
          ],
          "name": "stderr"
        },
        {
          "output_type": "stream",
          "text": [
            "Train Epoch: 10 [23040/50176 (46%)]\tLoss: 1.352349\n"
          ],
          "name": "stdout"
        },
        {
          "output_type": "stream",
          "text": [
            " 52%|█████▏    | 102/196 [00:11<00:10,  8.76it/s]"
          ],
          "name": "stderr"
        },
        {
          "output_type": "stream",
          "text": [
            "Train Epoch: 10 [25600/50176 (51%)]\tLoss: 1.370045\n"
          ],
          "name": "stdout"
        },
        {
          "output_type": "stream",
          "text": [
            " 57%|█████▋    | 112/196 [00:13<00:09,  8.76it/s]"
          ],
          "name": "stderr"
        },
        {
          "output_type": "stream",
          "text": [
            "Train Epoch: 10 [28160/50176 (56%)]\tLoss: 1.382750\n"
          ],
          "name": "stdout"
        },
        {
          "output_type": "stream",
          "text": [
            " 62%|██████▏   | 122/196 [00:14<00:08,  8.57it/s]"
          ],
          "name": "stderr"
        },
        {
          "output_type": "stream",
          "text": [
            "Train Epoch: 10 [30720/50176 (61%)]\tLoss: 1.374352\n"
          ],
          "name": "stdout"
        },
        {
          "output_type": "stream",
          "text": [
            " 67%|██████▋   | 132/196 [00:15<00:07,  8.50it/s]"
          ],
          "name": "stderr"
        },
        {
          "output_type": "stream",
          "text": [
            "Train Epoch: 10 [33280/50176 (66%)]\tLoss: 1.362766\n"
          ],
          "name": "stdout"
        },
        {
          "output_type": "stream",
          "text": [
            " 72%|███████▏  | 142/196 [00:16<00:06,  8.66it/s]"
          ],
          "name": "stderr"
        },
        {
          "output_type": "stream",
          "text": [
            "Train Epoch: 10 [35840/50176 (71%)]\tLoss: 1.367835\n"
          ],
          "name": "stdout"
        },
        {
          "output_type": "stream",
          "text": [
            " 78%|███████▊  | 152/196 [00:17<00:05,  8.61it/s]"
          ],
          "name": "stderr"
        },
        {
          "output_type": "stream",
          "text": [
            "Train Epoch: 10 [38400/50176 (77%)]\tLoss: 1.356396\n"
          ],
          "name": "stdout"
        },
        {
          "output_type": "stream",
          "text": [
            " 83%|████████▎ | 162/196 [00:18<00:03,  8.73it/s]"
          ],
          "name": "stderr"
        },
        {
          "output_type": "stream",
          "text": [
            "Train Epoch: 10 [40960/50176 (82%)]\tLoss: 1.377654\n"
          ],
          "name": "stdout"
        },
        {
          "output_type": "stream",
          "text": [
            " 88%|████████▊ | 172/196 [00:19<00:02,  8.67it/s]"
          ],
          "name": "stderr"
        },
        {
          "output_type": "stream",
          "text": [
            "Train Epoch: 10 [43520/50176 (87%)]\tLoss: 1.353572\n"
          ],
          "name": "stdout"
        },
        {
          "output_type": "stream",
          "text": [
            " 93%|█████████▎| 182/196 [00:21<00:01,  8.50it/s]"
          ],
          "name": "stderr"
        },
        {
          "output_type": "stream",
          "text": [
            "Train Epoch: 10 [46080/50176 (92%)]\tLoss: 1.385160\n"
          ],
          "name": "stdout"
        },
        {
          "output_type": "stream",
          "text": [
            " 98%|█████████▊| 192/196 [00:22<00:00,  8.64it/s]"
          ],
          "name": "stderr"
        },
        {
          "output_type": "stream",
          "text": [
            "Train Epoch: 10 [48640/50176 (97%)]\tLoss: 1.378814\n"
          ],
          "name": "stdout"
        },
        {
          "output_type": "stream",
          "text": [
            "100%|██████████| 196/196 [00:22<00:00,  8.65it/s]\n"
          ],
          "name": "stderr"
        },
        {
          "output_type": "stream",
          "text": [
            "Input\tonly way left to get water, because Voldemort had planned it so ... He flung himself over to the edg\n",
            "GT\tnly way left to get water, because Voldemort had planned it so ... He flung himself over to the edge\n",
            "pred\tn y tas tott th sot tiscr  aucause toldemort wad tuayeed tn.iomt.. te woutg oim elf tner th the fnge\n",
            "\n",
            "\n",
            "Input\ts that had his arm. It released him, falling backward into the water with a splash; he scrambled to \n",
            "GT\t that had his arm. It released him, falling backward into the water with a splash; he scrambled to h\n",
            "pred\t that hed tas fnm  Ht weaiase  tim  aocling oack ard anto the caler.aith a stiith  te waremeled ao t\n",
            "\n",
            "\n",
            "Input\tath, and his feet left the ground as they lifted him and began to carry him, slowly and surely, back\n",
            "GT\tth, and his feet left the ground as they lifted him and began to carry him, slowly and surely, back \n",
            "pred\tdh  tnd tes eaet aott the soound on they wokted tim ond sucan to totey aim  atiwly atd stre y  sucki\n",
            "\n",
            "\n",
            "Input\t . . . Dumbledore scooped the locket from the bottom of the stone basin and stowed it inside his rob\n",
            "GT\t. . . Dumbledore scooped the locket from the bottom of the stone basin and stowed it inside his robe\n",
            "pred\t\" . . .umbledore waroled aoe sooket ooom the sootlm of the stane oecingand ttaoed tt wntide tis fobe\n",
            "\n",
            "\n",
            "Input\t\"sir, I forgot -- about fire -- they were coming at me and I panicked --\" \"Quite understandable,\" mu\n",
            "GT\tsir, I forgot -- about fire -- they were coming at me and I panicked --\" \"Quite understandable,\" mur\n",
            "pred\tIht, I seugot t-\"tnout tone t- thay were aoning tn to tnd t dustteed t\"\" \"Iuide tpder tand nle \" sus\n",
            "\n",
            "\n"
          ],
          "name": "stdout"
        },
        {
          "output_type": "stream",
          "text": [
            "\r  0%|          | 0/196 [00:00<?, ?it/s]"
          ],
          "name": "stderr"
        },
        {
          "output_type": "stream",
          "text": [
            "\n",
            "Test set: Average loss: 1.3802, Accuracy: 739502/1254400 (59%)\n",
            "\n",
            "Saved /gdrive/My Drive/CSE415/language/checkpoints/language_010.pt\n",
            "\n",
            "generated sentence\t\t Harry Potter, Voldemort, and Dumbledore walk into a bar. I don't think you will be the one of the one of the one of the one of the one of the one of the one of the one of the one of the one of the one of the one of the one of the way of the one of the way o\n",
            "\n"
          ],
          "name": "stdout"
        },
        {
          "output_type": "stream",
          "text": [
            "  1%|          | 2/196 [00:00<00:30,  6.28it/s]"
          ],
          "name": "stderr"
        },
        {
          "output_type": "stream",
          "text": [
            "Train Epoch: 11 [0/50176 (0%)]\tLoss: 1.380185\n"
          ],
          "name": "stdout"
        },
        {
          "output_type": "stream",
          "text": [
            "  6%|▌         | 12/196 [00:01<00:21,  8.63it/s]"
          ],
          "name": "stderr"
        },
        {
          "output_type": "stream",
          "text": [
            "Train Epoch: 11 [2560/50176 (5%)]\tLoss: 1.351659\n"
          ],
          "name": "stdout"
        },
        {
          "output_type": "stream",
          "text": [
            " 11%|█         | 22/196 [00:02<00:19,  8.92it/s]"
          ],
          "name": "stderr"
        },
        {
          "output_type": "stream",
          "text": [
            "Train Epoch: 11 [5120/50176 (10%)]\tLoss: 1.377628\n"
          ],
          "name": "stdout"
        },
        {
          "output_type": "stream",
          "text": [
            " 16%|█▋        | 32/196 [00:03<00:19,  8.48it/s]"
          ],
          "name": "stderr"
        },
        {
          "output_type": "stream",
          "text": [
            "Train Epoch: 11 [7680/50176 (15%)]\tLoss: 1.362503\n"
          ],
          "name": "stdout"
        },
        {
          "output_type": "stream",
          "text": [
            " 21%|██▏       | 42/196 [00:04<00:18,  8.48it/s]"
          ],
          "name": "stderr"
        },
        {
          "output_type": "stream",
          "text": [
            "Train Epoch: 11 [10240/50176 (20%)]\tLoss: 1.355379\n"
          ],
          "name": "stdout"
        },
        {
          "output_type": "stream",
          "text": [
            " 27%|██▋       | 52/196 [00:06<00:16,  8.58it/s]"
          ],
          "name": "stderr"
        },
        {
          "output_type": "stream",
          "text": [
            "Train Epoch: 11 [12800/50176 (26%)]\tLoss: 1.365544\n"
          ],
          "name": "stdout"
        },
        {
          "output_type": "stream",
          "text": [
            " 32%|███▏      | 62/196 [00:07<00:15,  8.81it/s]"
          ],
          "name": "stderr"
        },
        {
          "output_type": "stream",
          "text": [
            "Train Epoch: 11 [15360/50176 (31%)]\tLoss: 1.386136\n"
          ],
          "name": "stdout"
        },
        {
          "output_type": "stream",
          "text": [
            " 37%|███▋      | 72/196 [00:08<00:14,  8.57it/s]"
          ],
          "name": "stderr"
        },
        {
          "output_type": "stream",
          "text": [
            "Train Epoch: 11 [17920/50176 (36%)]\tLoss: 1.375619\n"
          ],
          "name": "stdout"
        },
        {
          "output_type": "stream",
          "text": [
            " 42%|████▏     | 82/196 [00:09<00:12,  8.80it/s]"
          ],
          "name": "stderr"
        },
        {
          "output_type": "stream",
          "text": [
            "Train Epoch: 11 [20480/50176 (41%)]\tLoss: 1.350458\n"
          ],
          "name": "stdout"
        },
        {
          "output_type": "stream",
          "text": [
            " 47%|████▋     | 92/196 [00:10<00:11,  8.72it/s]"
          ],
          "name": "stderr"
        },
        {
          "output_type": "stream",
          "text": [
            "Train Epoch: 11 [23040/50176 (46%)]\tLoss: 1.353855\n"
          ],
          "name": "stdout"
        },
        {
          "output_type": "stream",
          "text": [
            " 52%|█████▏    | 102/196 [00:11<00:10,  8.57it/s]"
          ],
          "name": "stderr"
        },
        {
          "output_type": "stream",
          "text": [
            "Train Epoch: 11 [25600/50176 (51%)]\tLoss: 1.363513\n"
          ],
          "name": "stdout"
        },
        {
          "output_type": "stream",
          "text": [
            " 57%|█████▋    | 112/196 [00:12<00:09,  8.60it/s]"
          ],
          "name": "stderr"
        },
        {
          "output_type": "stream",
          "text": [
            "Train Epoch: 11 [28160/50176 (56%)]\tLoss: 1.364748\n"
          ],
          "name": "stdout"
        },
        {
          "output_type": "stream",
          "text": [
            " 62%|██████▏   | 122/196 [00:14<00:08,  8.72it/s]"
          ],
          "name": "stderr"
        },
        {
          "output_type": "stream",
          "text": [
            "Train Epoch: 11 [30720/50176 (61%)]\tLoss: 1.371350\n"
          ],
          "name": "stdout"
        },
        {
          "output_type": "stream",
          "text": [
            " 67%|██████▋   | 132/196 [00:15<00:07,  8.75it/s]"
          ],
          "name": "stderr"
        },
        {
          "output_type": "stream",
          "text": [
            "Train Epoch: 11 [33280/50176 (66%)]\tLoss: 1.360559\n"
          ],
          "name": "stdout"
        },
        {
          "output_type": "stream",
          "text": [
            " 72%|███████▏  | 142/196 [00:16<00:06,  8.83it/s]"
          ],
          "name": "stderr"
        },
        {
          "output_type": "stream",
          "text": [
            "Train Epoch: 11 [35840/50176 (71%)]\tLoss: 1.367139\n"
          ],
          "name": "stdout"
        },
        {
          "output_type": "stream",
          "text": [
            " 78%|███████▊  | 152/196 [00:17<00:05,  8.77it/s]"
          ],
          "name": "stderr"
        },
        {
          "output_type": "stream",
          "text": [
            "Train Epoch: 11 [38400/50176 (77%)]\tLoss: 1.344958\n"
          ],
          "name": "stdout"
        },
        {
          "output_type": "stream",
          "text": [
            " 83%|████████▎ | 162/196 [00:18<00:03,  8.65it/s]"
          ],
          "name": "stderr"
        },
        {
          "output_type": "stream",
          "text": [
            "Train Epoch: 11 [40960/50176 (82%)]\tLoss: 1.370268\n"
          ],
          "name": "stdout"
        },
        {
          "output_type": "stream",
          "text": [
            " 88%|████████▊ | 172/196 [00:19<00:02,  8.58it/s]"
          ],
          "name": "stderr"
        },
        {
          "output_type": "stream",
          "text": [
            "Train Epoch: 11 [43520/50176 (87%)]\tLoss: 1.348911\n"
          ],
          "name": "stdout"
        },
        {
          "output_type": "stream",
          "text": [
            " 93%|█████████▎| 182/196 [00:20<00:01,  8.47it/s]"
          ],
          "name": "stderr"
        },
        {
          "output_type": "stream",
          "text": [
            "Train Epoch: 11 [46080/50176 (92%)]\tLoss: 1.374100\n"
          ],
          "name": "stdout"
        },
        {
          "output_type": "stream",
          "text": [
            " 98%|█████████▊| 192/196 [00:22<00:00,  8.54it/s]"
          ],
          "name": "stderr"
        },
        {
          "output_type": "stream",
          "text": [
            "Train Epoch: 11 [48640/50176 (97%)]\tLoss: 1.375486\n"
          ],
          "name": "stdout"
        },
        {
          "output_type": "stream",
          "text": [
            "100%|██████████| 196/196 [00:22<00:00,  8.70it/s]\n"
          ],
          "name": "stderr"
        },
        {
          "output_type": "stream",
          "text": [
            "Input\tonly way left to get water, because Voldemort had planned it so ... He flung himself over to the edg\n",
            "GT\tnly way left to get water, because Voldemort had planned it so ... He flung himself over to the edge\n",
            "pred\tn y tas toat th sot tiscr  aucause toldemort wad tuayeed tn.iomt.. te weung oim elf tner th the onge\n",
            "\n",
            "\n",
            "Input\ts that had his arm. It released him, falling backward into the water with a splash; he scrambled to \n",
            "GT\t that had his arm. It released him, falling backward into the water with a splash; he scrambled to h\n",
            "pred\t that hed tas fnm  \"t weaeabe  tim  aocling aack ard anto the cilcr.aith a stiith  te wtremeled oh t\n",
            "\n",
            "\n",
            "Input\tath, and his feet left the ground as they lifted him and began to carry him, slowly and surely, back\n",
            "GT\tth, and his feet left the ground as they lifted him and began to carry him, slowly and surely, back \n",
            "pred\tdh  tnd tes eaet aott the soound on they wokted tim ond sucan to sotey aim  ttiwly atd stre y  sucki\n",
            "\n",
            "\n",
            "Input\t . . . Dumbledore scooped the locket from the bottom of the stone basin and stowed it inside his rob\n",
            "GT\t. . . Dumbledore scooped the locket from the bottom of the stone basin and stowed it inside his robe\n",
            "pred\t\" . . .umbledore waroled aoe sooket ooom the sootlm of the stane oecingand staoed tn intide tis fobe\n",
            "\n",
            "\n",
            "Input\t\"sir, I forgot -- about fire -- they were coming at me and I panicked --\" \"Quite understandable,\" mu\n",
            "GT\tsir, I forgot -- about fire -- they were coming at me and I panicked --\" \"Quite understandable,\" mur\n",
            "pred\tIot, y seugot t \"tnout tone t-\"thay were toming tn te,tnd t dusteeed t\"\" \"Iuide tpder tand nle \" sus\n",
            "\n",
            "\n"
          ],
          "name": "stdout"
        },
        {
          "output_type": "stream",
          "text": [
            "\r  0%|          | 0/196 [00:00<?, ?it/s]"
          ],
          "name": "stderr"
        },
        {
          "output_type": "stream",
          "text": [
            "\n",
            "Test set: Average loss: 1.3745, Accuracy: 742106/1254400 (59%)\n",
            "\n",
            "Saved /gdrive/My Drive/CSE415/language/checkpoints/language_011.pt\n",
            "\n",
            "generated sentence\t\t Harry Potter, Voldemort, and Dumbledore walk into a bar. I'm sure you think you will be the one of the one of the one of the one of the one of the one of the one of the one of the one of the one of the one of the way of the stairs were still still still sta\n",
            "\n"
          ],
          "name": "stdout"
        },
        {
          "output_type": "stream",
          "text": [
            "  1%|          | 2/196 [00:00<00:33,  5.82it/s]"
          ],
          "name": "stderr"
        },
        {
          "output_type": "stream",
          "text": [
            "Train Epoch: 12 [0/50176 (0%)]\tLoss: 1.376270\n"
          ],
          "name": "stdout"
        },
        {
          "output_type": "stream",
          "text": [
            "  6%|▌         | 12/196 [00:01<00:21,  8.40it/s]"
          ],
          "name": "stderr"
        },
        {
          "output_type": "stream",
          "text": [
            "Train Epoch: 12 [2560/50176 (5%)]\tLoss: 1.346447\n"
          ],
          "name": "stdout"
        },
        {
          "output_type": "stream",
          "text": [
            " 11%|█         | 22/196 [00:02<00:20,  8.38it/s]"
          ],
          "name": "stderr"
        },
        {
          "output_type": "stream",
          "text": [
            "Train Epoch: 12 [5120/50176 (10%)]\tLoss: 1.374896\n"
          ],
          "name": "stdout"
        },
        {
          "output_type": "stream",
          "text": [
            " 16%|█▋        | 32/196 [00:03<00:19,  8.57it/s]"
          ],
          "name": "stderr"
        },
        {
          "output_type": "stream",
          "text": [
            "Train Epoch: 12 [7680/50176 (15%)]\tLoss: 1.359621\n"
          ],
          "name": "stdout"
        },
        {
          "output_type": "stream",
          "text": [
            " 21%|██▏       | 42/196 [00:04<00:18,  8.54it/s]"
          ],
          "name": "stderr"
        },
        {
          "output_type": "stream",
          "text": [
            "Train Epoch: 12 [10240/50176 (20%)]\tLoss: 1.355651\n"
          ],
          "name": "stdout"
        },
        {
          "output_type": "stream",
          "text": [
            " 27%|██▋       | 52/196 [00:06<00:16,  8.49it/s]"
          ],
          "name": "stderr"
        },
        {
          "output_type": "stream",
          "text": [
            "Train Epoch: 12 [12800/50176 (26%)]\tLoss: 1.358247\n"
          ],
          "name": "stdout"
        },
        {
          "output_type": "stream",
          "text": [
            " 32%|███▏      | 62/196 [00:07<00:15,  8.51it/s]"
          ],
          "name": "stderr"
        },
        {
          "output_type": "stream",
          "text": [
            "Train Epoch: 12 [15360/50176 (31%)]\tLoss: 1.362746\n"
          ],
          "name": "stdout"
        },
        {
          "output_type": "stream",
          "text": [
            " 37%|███▋      | 72/196 [00:08<00:14,  8.60it/s]"
          ],
          "name": "stderr"
        },
        {
          "output_type": "stream",
          "text": [
            "Train Epoch: 12 [17920/50176 (36%)]\tLoss: 1.365930\n"
          ],
          "name": "stdout"
        },
        {
          "output_type": "stream",
          "text": [
            " 42%|████▏     | 82/196 [00:09<00:13,  8.52it/s]"
          ],
          "name": "stderr"
        },
        {
          "output_type": "stream",
          "text": [
            "Train Epoch: 12 [20480/50176 (41%)]\tLoss: 1.345179\n"
          ],
          "name": "stdout"
        },
        {
          "output_type": "stream",
          "text": [
            " 47%|████▋     | 92/196 [00:10<00:12,  8.40it/s]"
          ],
          "name": "stderr"
        },
        {
          "output_type": "stream",
          "text": [
            "Train Epoch: 12 [23040/50176 (46%)]\tLoss: 1.347768\n"
          ],
          "name": "stdout"
        },
        {
          "output_type": "stream",
          "text": [
            " 52%|█████▏    | 102/196 [00:11<00:11,  8.51it/s]"
          ],
          "name": "stderr"
        },
        {
          "output_type": "stream",
          "text": [
            "Train Epoch: 12 [25600/50176 (51%)]\tLoss: 1.360841\n"
          ],
          "name": "stdout"
        },
        {
          "output_type": "stream",
          "text": [
            " 57%|█████▋    | 112/196 [00:13<00:09,  8.45it/s]"
          ],
          "name": "stderr"
        },
        {
          "output_type": "stream",
          "text": [
            "Train Epoch: 12 [28160/50176 (56%)]\tLoss: 1.374386\n"
          ],
          "name": "stdout"
        },
        {
          "output_type": "stream",
          "text": [
            " 62%|██████▏   | 122/196 [00:14<00:08,  8.48it/s]"
          ],
          "name": "stderr"
        },
        {
          "output_type": "stream",
          "text": [
            "Train Epoch: 12 [30720/50176 (61%)]\tLoss: 1.362604\n"
          ],
          "name": "stdout"
        },
        {
          "output_type": "stream",
          "text": [
            " 67%|██████▋   | 132/196 [00:15<00:07,  8.69it/s]"
          ],
          "name": "stderr"
        },
        {
          "output_type": "stream",
          "text": [
            "Train Epoch: 12 [33280/50176 (66%)]\tLoss: 1.351325\n"
          ],
          "name": "stdout"
        },
        {
          "output_type": "stream",
          "text": [
            " 72%|███████▏  | 142/196 [00:16<00:06,  8.58it/s]"
          ],
          "name": "stderr"
        },
        {
          "output_type": "stream",
          "text": [
            "Train Epoch: 12 [35840/50176 (71%)]\tLoss: 1.360870\n"
          ],
          "name": "stdout"
        },
        {
          "output_type": "stream",
          "text": [
            " 78%|███████▊  | 152/196 [00:17<00:05,  8.45it/s]"
          ],
          "name": "stderr"
        },
        {
          "output_type": "stream",
          "text": [
            "Train Epoch: 12 [38400/50176 (77%)]\tLoss: 1.342400\n"
          ],
          "name": "stdout"
        },
        {
          "output_type": "stream",
          "text": [
            " 83%|████████▎ | 162/196 [00:18<00:03,  8.62it/s]"
          ],
          "name": "stderr"
        },
        {
          "output_type": "stream",
          "text": [
            "Train Epoch: 12 [40960/50176 (82%)]\tLoss: 1.369158\n"
          ],
          "name": "stdout"
        },
        {
          "output_type": "stream",
          "text": [
            " 88%|████████▊ | 172/196 [00:20<00:02,  8.68it/s]"
          ],
          "name": "stderr"
        },
        {
          "output_type": "stream",
          "text": [
            "Train Epoch: 12 [43520/50176 (87%)]\tLoss: 1.344117\n"
          ],
          "name": "stdout"
        },
        {
          "output_type": "stream",
          "text": [
            " 93%|█████████▎| 182/196 [00:21<00:01,  8.67it/s]"
          ],
          "name": "stderr"
        },
        {
          "output_type": "stream",
          "text": [
            "Train Epoch: 12 [46080/50176 (92%)]\tLoss: 1.372813\n"
          ],
          "name": "stdout"
        },
        {
          "output_type": "stream",
          "text": [
            " 98%|█████████▊| 192/196 [00:22<00:00,  8.63it/s]"
          ],
          "name": "stderr"
        },
        {
          "output_type": "stream",
          "text": [
            "Train Epoch: 12 [48640/50176 (97%)]\tLoss: 1.374621\n"
          ],
          "name": "stdout"
        },
        {
          "output_type": "stream",
          "text": [
            "100%|██████████| 196/196 [00:22<00:00,  8.56it/s]\n"
          ],
          "name": "stderr"
        },
        {
          "output_type": "stream",
          "text": [
            "Input\tonly way left to get water, because Voldemort had planned it so ... He flung himself over to the edg\n",
            "GT\tnly way left to get water, because Voldemort had planned it so ... He flung himself over to the edge\n",
            "pred\tn y tas tott th sot tiscr  aucause toldemort wad nuayeed tn.iomt.. te weung oim elf tner th the fnge\n",
            "\n",
            "\n",
            "Input\ts that had his arm. It released him, falling backward into the water with a splash; he scrambled to \n",
            "GT\t that had his arm. It released him, falling backward into the water with a splash; he scrambled to h\n",
            "pred\t that hed aas fnm  \"t weaeabe  tim  aocling aack ard anto the cilcr.aith a stiith  te wtremeled oo t\n",
            "\n",
            "\n",
            "Input\tath, and his feet left the ground as they lifted him and began to carry him, slowly and surely, back\n",
            "GT\tth, and his feet left the ground as they lifted him and began to carry him, slowly and surely, back \n",
            "pred\tdh  tnd tes eaet aott the sround on thoy wokted tim ond sucan to sotey aim  atiwly atd stre y  sucki\n",
            "\n",
            "\n",
            "Input\t . . . Dumbledore scooped the locket from the bottom of the stone basin and stowed it inside his rob\n",
            "GT\t. . . Dumbledore scooped the locket from the bottom of the stone basin and stowed it inside his robe\n",
            "pred\t\" . . .umbledore waroled ooe sooket ooom the sootlm of hhe stane olcingand ttaoed tn intide tis fobe\n",
            "\n",
            "\n",
            "Input\t\"sir, I forgot -- about fire -- they were coming at me and I panicked --\" \"Quite understandable,\" mu\n",
            "GT\tsir, I forgot -- about fire -- they were coming at me and I panicked --\" \"Quite understandable,\" mur\n",
            "pred\tIot, y seuget t \"tnout tone t  thay were toming tn ty,tnd t dusteeed t\"\" \"Iuide tpder tand nle \" sus\n",
            "\n",
            "\n"
          ],
          "name": "stdout"
        },
        {
          "output_type": "stream",
          "text": [
            "\r  0%|          | 0/196 [00:00<?, ?it/s]"
          ],
          "name": "stderr"
        },
        {
          "output_type": "stream",
          "text": [
            "\n",
            "Test set: Average loss: 1.3701, Accuracy: 743666/1254400 (59%)\n",
            "\n",
            "Saved /gdrive/My Drive/CSE415/language/checkpoints/language_012.pt\n",
            "\n",
            "generated sentence\t\t Harry Potter, Voldemort, and Dumbledore walk into a bar. I'm sure you think you will be the one of the one of the one of the one of the one of the one of the one of the one of the one of the one of the stone of the one of the stone of the one of the way of \n",
            "\n"
          ],
          "name": "stdout"
        },
        {
          "output_type": "stream",
          "text": [
            "  1%|          | 2/196 [00:00<00:32,  5.93it/s]"
          ],
          "name": "stderr"
        },
        {
          "output_type": "stream",
          "text": [
            "Train Epoch: 13 [0/50176 (0%)]\tLoss: 1.372180\n"
          ],
          "name": "stdout"
        },
        {
          "output_type": "stream",
          "text": [
            "  6%|▌         | 12/196 [00:01<00:21,  8.43it/s]"
          ],
          "name": "stderr"
        },
        {
          "output_type": "stream",
          "text": [
            "Train Epoch: 13 [2560/50176 (5%)]\tLoss: 1.344141\n"
          ],
          "name": "stdout"
        },
        {
          "output_type": "stream",
          "text": [
            " 11%|█         | 22/196 [00:02<00:20,  8.68it/s]"
          ],
          "name": "stderr"
        },
        {
          "output_type": "stream",
          "text": [
            "Train Epoch: 13 [5120/50176 (10%)]\tLoss: 1.372720\n"
          ],
          "name": "stdout"
        },
        {
          "output_type": "stream",
          "text": [
            " 16%|█▋        | 32/196 [00:03<00:19,  8.50it/s]"
          ],
          "name": "stderr"
        },
        {
          "output_type": "stream",
          "text": [
            "Train Epoch: 13 [7680/50176 (15%)]\tLoss: 1.358187\n"
          ],
          "name": "stdout"
        },
        {
          "output_type": "stream",
          "text": [
            " 21%|██▏       | 42/196 [00:04<00:18,  8.55it/s]"
          ],
          "name": "stderr"
        },
        {
          "output_type": "stream",
          "text": [
            "Train Epoch: 13 [10240/50176 (20%)]\tLoss: 1.351585\n"
          ],
          "name": "stdout"
        },
        {
          "output_type": "stream",
          "text": [
            " 27%|██▋       | 52/196 [00:06<00:17,  8.42it/s]"
          ],
          "name": "stderr"
        },
        {
          "output_type": "stream",
          "text": [
            "Train Epoch: 13 [12800/50176 (26%)]\tLoss: 1.348409\n"
          ],
          "name": "stdout"
        },
        {
          "output_type": "stream",
          "text": [
            " 32%|███▏      | 62/196 [00:07<00:15,  8.50it/s]"
          ],
          "name": "stderr"
        },
        {
          "output_type": "stream",
          "text": [
            "Train Epoch: 13 [15360/50176 (31%)]\tLoss: 1.361898\n"
          ],
          "name": "stdout"
        },
        {
          "output_type": "stream",
          "text": [
            " 37%|███▋      | 72/196 [00:08<00:14,  8.65it/s]"
          ],
          "name": "stderr"
        },
        {
          "output_type": "stream",
          "text": [
            "Train Epoch: 13 [17920/50176 (36%)]\tLoss: 1.362496\n"
          ],
          "name": "stdout"
        },
        {
          "output_type": "stream",
          "text": [
            " 42%|████▏     | 82/196 [00:09<00:13,  8.67it/s]"
          ],
          "name": "stderr"
        },
        {
          "output_type": "stream",
          "text": [
            "Train Epoch: 13 [20480/50176 (41%)]\tLoss: 1.345673\n"
          ],
          "name": "stdout"
        },
        {
          "output_type": "stream",
          "text": [
            " 47%|████▋     | 92/196 [00:10<00:11,  8.68it/s]"
          ],
          "name": "stderr"
        },
        {
          "output_type": "stream",
          "text": [
            "Train Epoch: 13 [23040/50176 (46%)]\tLoss: 1.340966\n"
          ],
          "name": "stdout"
        },
        {
          "output_type": "stream",
          "text": [
            " 52%|█████▏    | 102/196 [00:11<00:10,  8.57it/s]"
          ],
          "name": "stderr"
        },
        {
          "output_type": "stream",
          "text": [
            "Train Epoch: 13 [25600/50176 (51%)]\tLoss: 1.356305\n"
          ],
          "name": "stdout"
        },
        {
          "output_type": "stream",
          "text": [
            " 57%|█████▋    | 112/196 [00:13<00:09,  8.50it/s]"
          ],
          "name": "stderr"
        },
        {
          "output_type": "stream",
          "text": [
            "Train Epoch: 13 [28160/50176 (56%)]\tLoss: 1.371397\n"
          ],
          "name": "stdout"
        },
        {
          "output_type": "stream",
          "text": [
            " 62%|██████▏   | 122/196 [00:14<00:08,  8.60it/s]"
          ],
          "name": "stderr"
        },
        {
          "output_type": "stream",
          "text": [
            "Train Epoch: 13 [30720/50176 (61%)]\tLoss: 1.364310\n"
          ],
          "name": "stdout"
        },
        {
          "output_type": "stream",
          "text": [
            " 67%|██████▋   | 132/196 [00:15<00:07,  8.69it/s]"
          ],
          "name": "stderr"
        },
        {
          "output_type": "stream",
          "text": [
            "Train Epoch: 13 [33280/50176 (66%)]\tLoss: 1.340878\n"
          ],
          "name": "stdout"
        },
        {
          "output_type": "stream",
          "text": [
            " 72%|███████▏  | 142/196 [00:16<00:06,  8.60it/s]"
          ],
          "name": "stderr"
        },
        {
          "output_type": "stream",
          "text": [
            "Train Epoch: 13 [35840/50176 (71%)]\tLoss: 1.355089\n"
          ],
          "name": "stdout"
        },
        {
          "output_type": "stream",
          "text": [
            " 78%|███████▊  | 152/196 [00:17<00:05,  8.75it/s]"
          ],
          "name": "stderr"
        },
        {
          "output_type": "stream",
          "text": [
            "Train Epoch: 13 [38400/50176 (77%)]\tLoss: 1.340360\n"
          ],
          "name": "stdout"
        },
        {
          "output_type": "stream",
          "text": [
            " 83%|████████▎ | 162/196 [00:18<00:03,  8.57it/s]"
          ],
          "name": "stderr"
        },
        {
          "output_type": "stream",
          "text": [
            "Train Epoch: 13 [40960/50176 (82%)]\tLoss: 1.365506\n"
          ],
          "name": "stdout"
        },
        {
          "output_type": "stream",
          "text": [
            " 88%|████████▊ | 172/196 [00:20<00:02,  8.59it/s]"
          ],
          "name": "stderr"
        },
        {
          "output_type": "stream",
          "text": [
            "Train Epoch: 13 [43520/50176 (87%)]\tLoss: 1.344435\n"
          ],
          "name": "stdout"
        },
        {
          "output_type": "stream",
          "text": [
            " 93%|█████████▎| 182/196 [00:21<00:01,  8.79it/s]"
          ],
          "name": "stderr"
        },
        {
          "output_type": "stream",
          "text": [
            "Train Epoch: 13 [46080/50176 (92%)]\tLoss: 1.365756\n"
          ],
          "name": "stdout"
        },
        {
          "output_type": "stream",
          "text": [
            " 98%|█████████▊| 192/196 [00:22<00:00,  8.67it/s]"
          ],
          "name": "stderr"
        },
        {
          "output_type": "stream",
          "text": [
            "Train Epoch: 13 [48640/50176 (97%)]\tLoss: 1.373808\n"
          ],
          "name": "stdout"
        },
        {
          "output_type": "stream",
          "text": [
            "100%|██████████| 196/196 [00:22<00:00,  8.62it/s]\n"
          ],
          "name": "stderr"
        },
        {
          "output_type": "stream",
          "text": [
            "Input\tonly way left to get water, because Voldemort had planned it so ... He flung himself over to the edg\n",
            "GT\tnly way left to get water, because Voldemort had planned it so ... He flung himself over to the edge\n",
            "pred\tn y tas toat th tot tiscr  aucause toldemort wad nuayeed tn.iomt.. te weong oim elf tner th the fnge\n",
            "\n",
            "\n",
            "Input\ts that had his arm. It released him, falling backward into the water with a splash; he scrambled to \n",
            "GT\t that had his arm. It released him, falling backward into the water with a splash; he scrambled to h\n",
            "pred\t ahat hed tas fnm  \"t weaeabe  tim  tocling aack ard anto the cilcr.aith a stiith  te wtremeled oo t\n",
            "\n",
            "\n",
            "Input\tath, and his feet left the ground as they lifted him and began to carry him, slowly and surely, back\n",
            "GT\tth, and his feet left the ground as they lifted him and began to carry him, slowly and surely, back \n",
            "pred\tdh  tnd tes eaet aott the soound on the  wokted tim ond tecan to totey aim  atiwly atd stre y  suck \n",
            "\n",
            "\n",
            "Input\t . . . Dumbledore scooped the locket from the bottom of the stone basin and stowed it inside his rob\n",
            "GT\t. . . Dumbledore scooped the locket from the bottom of the stone basin and stowed it inside his robe\n",
            "pred\t\" . . .umbledore waroled aoe sooket ooom the sootlm of the stane olcineand ttaoed tn ontide tis fobe\n",
            "\n",
            "\n",
            "Input\t\"sir, I forgot -- about fire -- they were coming at me and I panicked --\" \"Quite understandable,\" mu\n",
            "GT\tsir, I forgot -- about fire -- they were coming at me and I panicked --\" \"Quite understandable,\" mur\n",
            "pred\tIot, y sougot t-\"tnout tone t  thay were toming tn te,tnd t tusteeed t-\" \"Iutte tpder tand nle \" sus\n",
            "\n",
            "\n"
          ],
          "name": "stdout"
        },
        {
          "output_type": "stream",
          "text": [
            "\r  0%|          | 0/196 [00:00<?, ?it/s]"
          ],
          "name": "stderr"
        },
        {
          "output_type": "stream",
          "text": [
            "\n",
            "Test set: Average loss: 1.3679, Accuracy: 743800/1254400 (59%)\n",
            "\n",
            "Saved /gdrive/My Drive/CSE415/language/checkpoints/language_013.pt\n",
            "\n",
            "generated sentence\t\t Harry Potter, Voldemort, and Dumbledore walk into a bar. I'm not that the one of the one of the one of the one of the one of the one of the stairs were still still still standing to the fire of the stairs and the only thing that he was still standing to the\n",
            "\n"
          ],
          "name": "stdout"
        },
        {
          "output_type": "stream",
          "text": [
            "  1%|          | 2/196 [00:00<00:31,  6.19it/s]"
          ],
          "name": "stderr"
        },
        {
          "output_type": "stream",
          "text": [
            "Train Epoch: 14 [0/50176 (0%)]\tLoss: 1.369997\n"
          ],
          "name": "stdout"
        },
        {
          "output_type": "stream",
          "text": [
            "  6%|▌         | 12/196 [00:01<00:22,  8.30it/s]"
          ],
          "name": "stderr"
        },
        {
          "output_type": "stream",
          "text": [
            "Train Epoch: 14 [2560/50176 (5%)]\tLoss: 1.343430\n"
          ],
          "name": "stdout"
        },
        {
          "output_type": "stream",
          "text": [
            " 11%|█         | 22/196 [00:02<00:20,  8.57it/s]"
          ],
          "name": "stderr"
        },
        {
          "output_type": "stream",
          "text": [
            "Train Epoch: 14 [5120/50176 (10%)]\tLoss: 1.366638\n"
          ],
          "name": "stdout"
        },
        {
          "output_type": "stream",
          "text": [
            " 16%|█▋        | 32/196 [00:03<00:18,  8.64it/s]"
          ],
          "name": "stderr"
        },
        {
          "output_type": "stream",
          "text": [
            "Train Epoch: 14 [7680/50176 (15%)]\tLoss: 1.351425\n"
          ],
          "name": "stdout"
        },
        {
          "output_type": "stream",
          "text": [
            " 21%|██▏       | 42/196 [00:04<00:18,  8.43it/s]"
          ],
          "name": "stderr"
        },
        {
          "output_type": "stream",
          "text": [
            "Train Epoch: 14 [10240/50176 (20%)]\tLoss: 1.345155\n"
          ],
          "name": "stdout"
        },
        {
          "output_type": "stream",
          "text": [
            " 27%|██▋       | 52/196 [00:06<00:17,  8.46it/s]"
          ],
          "name": "stderr"
        },
        {
          "output_type": "stream",
          "text": [
            "Train Epoch: 14 [12800/50176 (26%)]\tLoss: 1.345742\n"
          ],
          "name": "stdout"
        },
        {
          "output_type": "stream",
          "text": [
            " 32%|███▏      | 62/196 [00:07<00:15,  8.65it/s]"
          ],
          "name": "stderr"
        },
        {
          "output_type": "stream",
          "text": [
            "Train Epoch: 14 [15360/50176 (31%)]\tLoss: 1.350173\n"
          ],
          "name": "stdout"
        },
        {
          "output_type": "stream",
          "text": [
            " 37%|███▋      | 72/196 [00:08<00:13,  8.88it/s]"
          ],
          "name": "stderr"
        },
        {
          "output_type": "stream",
          "text": [
            "Train Epoch: 14 [17920/50176 (36%)]\tLoss: 1.353715\n"
          ],
          "name": "stdout"
        },
        {
          "output_type": "stream",
          "text": [
            " 42%|████▏     | 82/196 [00:09<00:13,  8.49it/s]"
          ],
          "name": "stderr"
        },
        {
          "output_type": "stream",
          "text": [
            "Train Epoch: 14 [20480/50176 (41%)]\tLoss: 1.337809\n"
          ],
          "name": "stdout"
        },
        {
          "output_type": "stream",
          "text": [
            " 47%|████▋     | 92/196 [00:10<00:12,  8.59it/s]"
          ],
          "name": "stderr"
        },
        {
          "output_type": "stream",
          "text": [
            "Train Epoch: 14 [23040/50176 (46%)]\tLoss: 1.339314\n"
          ],
          "name": "stdout"
        },
        {
          "output_type": "stream",
          "text": [
            " 52%|█████▏    | 102/196 [00:11<00:11,  8.52it/s]"
          ],
          "name": "stderr"
        },
        {
          "output_type": "stream",
          "text": [
            "Train Epoch: 14 [25600/50176 (51%)]\tLoss: 1.356535\n"
          ],
          "name": "stdout"
        },
        {
          "output_type": "stream",
          "text": [
            " 57%|█████▋    | 112/196 [00:13<00:09,  8.61it/s]"
          ],
          "name": "stderr"
        },
        {
          "output_type": "stream",
          "text": [
            "Train Epoch: 14 [28160/50176 (56%)]\tLoss: 1.369900\n"
          ],
          "name": "stdout"
        },
        {
          "output_type": "stream",
          "text": [
            " 62%|██████▏   | 122/196 [00:14<00:08,  8.41it/s]"
          ],
          "name": "stderr"
        },
        {
          "output_type": "stream",
          "text": [
            "Train Epoch: 14 [30720/50176 (61%)]\tLoss: 1.359254\n"
          ],
          "name": "stdout"
        },
        {
          "output_type": "stream",
          "text": [
            " 67%|██████▋   | 132/196 [00:15<00:07,  8.63it/s]"
          ],
          "name": "stderr"
        },
        {
          "output_type": "stream",
          "text": [
            "Train Epoch: 14 [33280/50176 (66%)]\tLoss: 1.337577\n"
          ],
          "name": "stdout"
        },
        {
          "output_type": "stream",
          "text": [
            " 72%|███████▏  | 142/196 [00:16<00:06,  8.43it/s]"
          ],
          "name": "stderr"
        },
        {
          "output_type": "stream",
          "text": [
            "Train Epoch: 14 [35840/50176 (71%)]\tLoss: 1.350447\n"
          ],
          "name": "stdout"
        },
        {
          "output_type": "stream",
          "text": [
            " 78%|███████▊  | 152/196 [00:17<00:05,  8.67it/s]"
          ],
          "name": "stderr"
        },
        {
          "output_type": "stream",
          "text": [
            "Train Epoch: 14 [38400/50176 (77%)]\tLoss: 1.338019\n"
          ],
          "name": "stdout"
        },
        {
          "output_type": "stream",
          "text": [
            " 83%|████████▎ | 162/196 [00:18<00:03,  8.61it/s]"
          ],
          "name": "stderr"
        },
        {
          "output_type": "stream",
          "text": [
            "Train Epoch: 14 [40960/50176 (82%)]\tLoss: 1.360968\n"
          ],
          "name": "stdout"
        },
        {
          "output_type": "stream",
          "text": [
            " 88%|████████▊ | 172/196 [00:20<00:02,  8.62it/s]"
          ],
          "name": "stderr"
        },
        {
          "output_type": "stream",
          "text": [
            "Train Epoch: 14 [43520/50176 (87%)]\tLoss: 1.337459\n"
          ],
          "name": "stdout"
        },
        {
          "output_type": "stream",
          "text": [
            " 93%|█████████▎| 182/196 [00:21<00:01,  8.63it/s]"
          ],
          "name": "stderr"
        },
        {
          "output_type": "stream",
          "text": [
            "Train Epoch: 14 [46080/50176 (92%)]\tLoss: 1.362423\n"
          ],
          "name": "stdout"
        },
        {
          "output_type": "stream",
          "text": [
            " 98%|█████████▊| 192/196 [00:22<00:00,  8.47it/s]"
          ],
          "name": "stderr"
        },
        {
          "output_type": "stream",
          "text": [
            "Train Epoch: 14 [48640/50176 (97%)]\tLoss: 1.367765\n"
          ],
          "name": "stdout"
        },
        {
          "output_type": "stream",
          "text": [
            "100%|██████████| 196/196 [00:22<00:00,  8.60it/s]\n"
          ],
          "name": "stderr"
        },
        {
          "output_type": "stream",
          "text": [
            "Input\tonly way left to get water, because Voldemort had planned it so ... He flung himself over to the edg\n",
            "GT\tnly way left to get water, because Voldemort had planned it so ... He flung himself over to the edge\n",
            "pred\tn y tas toat th sot tiscr  aucause toldemort wad nuaneed tn.iomt.. te weung oim elf tner th the fnge\n",
            "\n",
            "\n",
            "Input\ts that had his arm. It released him, falling backward into the water with a splash; he scrambled to \n",
            "GT\t that had his arm. It released him, falling backward into the water with a splash; he scrambled to h\n",
            "pred\t ahat hed aas fnm  \"t weaeabe  tim  aocling oack ard anto the cilcr.aith a stiith  te waremeled oo t\n",
            "\n",
            "\n",
            "Input\tath, and his feet left the ground as they lifted him and began to carry him, slowly and surely, back\n",
            "GT\tth, and his feet left the ground as they lifted him and began to carry him, slowly and surely, back \n",
            "pred\tdh  wnd tes eaet aoat the sround on thoy wokted tim ond sucan to soley ais  atiwly atd stre y  suck \n",
            "\n",
            "\n",
            "Input\t . . . Dumbledore scooped the locket from the bottom of the stone basin and stowed it inside his rob\n",
            "GT\t. . . Dumbledore scooped the locket from the bottom of the stone basin and stowed it inside his robe\n",
            "pred\t\" . . .umbledore saroled ooe sioket ooom the sootlm of the stane olcineand ttaoed tn intide tis fobe\n",
            "\n",
            "\n",
            "Input\t\"sir, I forgot -- about fire -- they were coming at me and I panicked --\" \"Quite understandable,\" mu\n",
            "GT\tsir, I forgot -- about fire -- they were coming at me and I panicked --\" \"Quite understandable,\" mur\n",
            "pred\tIot, w souget t-\"tnout tone a  thay were toning tn te,tnd t tusteeed t-\" \"Iuite tnder tand nle   sus\n",
            "\n",
            "\n"
          ],
          "name": "stdout"
        },
        {
          "output_type": "stream",
          "text": [
            "\r  0%|          | 0/196 [00:00<?, ?it/s]"
          ],
          "name": "stderr"
        },
        {
          "output_type": "stream",
          "text": [
            "\n",
            "Test set: Average loss: 1.3689, Accuracy: 742831/1254400 (59%)\n",
            "\n",
            "generated sentence\t\t Harry Potter, Voldemort, and Dumbledore walk into a bar. I'm sure that we were that the one of the one of the one of the one of the one of the stairs were still still still standing to the fire of the stairs and the stairs were standing to the fire of the s\n",
            "\n"
          ],
          "name": "stdout"
        },
        {
          "output_type": "stream",
          "text": [
            "  1%|          | 2/196 [00:00<00:31,  6.12it/s]"
          ],
          "name": "stderr"
        },
        {
          "output_type": "stream",
          "text": [
            "Train Epoch: 15 [0/50176 (0%)]\tLoss: 1.370825\n"
          ],
          "name": "stdout"
        },
        {
          "output_type": "stream",
          "text": [
            "  6%|▌         | 12/196 [00:01<00:21,  8.58it/s]"
          ],
          "name": "stderr"
        },
        {
          "output_type": "stream",
          "text": [
            "Train Epoch: 15 [2560/50176 (5%)]\tLoss: 1.340871\n"
          ],
          "name": "stdout"
        },
        {
          "output_type": "stream",
          "text": [
            " 11%|█         | 22/196 [00:02<00:20,  8.59it/s]"
          ],
          "name": "stderr"
        },
        {
          "output_type": "stream",
          "text": [
            "Train Epoch: 15 [5120/50176 (10%)]\tLoss: 1.363714\n"
          ],
          "name": "stdout"
        },
        {
          "output_type": "stream",
          "text": [
            " 16%|█▋        | 32/196 [00:03<00:18,  8.64it/s]"
          ],
          "name": "stderr"
        },
        {
          "output_type": "stream",
          "text": [
            "Train Epoch: 15 [7680/50176 (15%)]\tLoss: 1.347795\n"
          ],
          "name": "stdout"
        },
        {
          "output_type": "stream",
          "text": [
            " 21%|██▏       | 42/196 [00:04<00:18,  8.48it/s]"
          ],
          "name": "stderr"
        },
        {
          "output_type": "stream",
          "text": [
            "Train Epoch: 15 [10240/50176 (20%)]\tLoss: 1.341824\n"
          ],
          "name": "stdout"
        },
        {
          "output_type": "stream",
          "text": [
            " 27%|██▋       | 52/196 [00:06<00:16,  8.49it/s]"
          ],
          "name": "stderr"
        },
        {
          "output_type": "stream",
          "text": [
            "Train Epoch: 15 [12800/50176 (26%)]\tLoss: 1.342687\n"
          ],
          "name": "stdout"
        },
        {
          "output_type": "stream",
          "text": [
            " 32%|███▏      | 62/196 [00:07<00:15,  8.82it/s]"
          ],
          "name": "stderr"
        },
        {
          "output_type": "stream",
          "text": [
            "Train Epoch: 15 [15360/50176 (31%)]\tLoss: 1.349123\n"
          ],
          "name": "stdout"
        },
        {
          "output_type": "stream",
          "text": [
            " 37%|███▋      | 72/196 [00:08<00:14,  8.83it/s]"
          ],
          "name": "stderr"
        },
        {
          "output_type": "stream",
          "text": [
            "Train Epoch: 15 [17920/50176 (36%)]\tLoss: 1.361145\n"
          ],
          "name": "stdout"
        },
        {
          "output_type": "stream",
          "text": [
            " 42%|████▏     | 82/196 [00:09<00:13,  8.56it/s]"
          ],
          "name": "stderr"
        },
        {
          "output_type": "stream",
          "text": [
            "Train Epoch: 15 [20480/50176 (41%)]\tLoss: 1.336660\n"
          ],
          "name": "stdout"
        },
        {
          "output_type": "stream",
          "text": [
            " 47%|████▋     | 92/196 [00:10<00:12,  8.61it/s]"
          ],
          "name": "stderr"
        },
        {
          "output_type": "stream",
          "text": [
            "Train Epoch: 15 [23040/50176 (46%)]\tLoss: 1.338435\n"
          ],
          "name": "stdout"
        },
        {
          "output_type": "stream",
          "text": [
            " 52%|█████▏    | 102/196 [00:11<00:10,  8.65it/s]"
          ],
          "name": "stderr"
        },
        {
          "output_type": "stream",
          "text": [
            "Train Epoch: 15 [25600/50176 (51%)]\tLoss: 1.352963\n"
          ],
          "name": "stdout"
        },
        {
          "output_type": "stream",
          "text": [
            " 57%|█████▋    | 112/196 [00:13<00:09,  8.62it/s]"
          ],
          "name": "stderr"
        },
        {
          "output_type": "stream",
          "text": [
            "Train Epoch: 15 [28160/50176 (56%)]\tLoss: 1.353693\n"
          ],
          "name": "stdout"
        },
        {
          "output_type": "stream",
          "text": [
            " 62%|██████▏   | 122/196 [00:14<00:08,  8.71it/s]"
          ],
          "name": "stderr"
        },
        {
          "output_type": "stream",
          "text": [
            "Train Epoch: 15 [30720/50176 (61%)]\tLoss: 1.361105\n"
          ],
          "name": "stdout"
        },
        {
          "output_type": "stream",
          "text": [
            " 67%|██████▋   | 132/196 [00:15<00:07,  8.65it/s]"
          ],
          "name": "stderr"
        },
        {
          "output_type": "stream",
          "text": [
            "Train Epoch: 15 [33280/50176 (66%)]\tLoss: 1.338482\n"
          ],
          "name": "stdout"
        },
        {
          "output_type": "stream",
          "text": [
            " 72%|███████▏  | 142/196 [00:16<00:06,  8.54it/s]"
          ],
          "name": "stderr"
        },
        {
          "output_type": "stream",
          "text": [
            "Train Epoch: 15 [35840/50176 (71%)]\tLoss: 1.346903\n"
          ],
          "name": "stdout"
        },
        {
          "output_type": "stream",
          "text": [
            " 78%|███████▊  | 152/196 [00:17<00:05,  8.61it/s]"
          ],
          "name": "stderr"
        },
        {
          "output_type": "stream",
          "text": [
            "Train Epoch: 15 [38400/50176 (77%)]\tLoss: 1.332859\n"
          ],
          "name": "stdout"
        },
        {
          "output_type": "stream",
          "text": [
            " 83%|████████▎ | 162/196 [00:18<00:03,  8.51it/s]"
          ],
          "name": "stderr"
        },
        {
          "output_type": "stream",
          "text": [
            "Train Epoch: 15 [40960/50176 (82%)]\tLoss: 1.358960\n"
          ],
          "name": "stdout"
        },
        {
          "output_type": "stream",
          "text": [
            " 88%|████████▊ | 172/196 [00:19<00:02,  8.63it/s]"
          ],
          "name": "stderr"
        },
        {
          "output_type": "stream",
          "text": [
            "Train Epoch: 15 [43520/50176 (87%)]\tLoss: 1.335467\n"
          ],
          "name": "stdout"
        },
        {
          "output_type": "stream",
          "text": [
            " 93%|█████████▎| 182/196 [00:21<00:01,  8.71it/s]"
          ],
          "name": "stderr"
        },
        {
          "output_type": "stream",
          "text": [
            "Train Epoch: 15 [46080/50176 (92%)]\tLoss: 1.357044\n"
          ],
          "name": "stdout"
        },
        {
          "output_type": "stream",
          "text": [
            " 98%|█████████▊| 192/196 [00:22<00:00,  8.35it/s]"
          ],
          "name": "stderr"
        },
        {
          "output_type": "stream",
          "text": [
            "Train Epoch: 15 [48640/50176 (97%)]\tLoss: 1.361421\n"
          ],
          "name": "stdout"
        },
        {
          "output_type": "stream",
          "text": [
            "100%|██████████| 196/196 [00:22<00:00,  8.64it/s]\n"
          ],
          "name": "stderr"
        },
        {
          "output_type": "stream",
          "text": [
            "Input\tonly way left to get water, because Voldemort had planned it so ... He flung himself over to the edg\n",
            "GT\tnly way left to get water, because Voldemort had planned it so ... He flung himself over to the edge\n",
            "pred\tn y tas toat th sot tiscr  aucause toldemort had nuaceed tn iomt.. ta woong oim elf aner th the fnge\n",
            "\n",
            "\n",
            "Input\ts that had his arm. It released him, falling backward into the water with a splash; he scrambled to \n",
            "GT\t that had his arm. It released him, falling backward into the water with a splash; he scrambled to h\n",
            "pred\t ahat hed aas fnm  \"t weaeabe  tim  aocling aack ard anto the cilcr.aith a stiith  oe saremeled oo t\n",
            "\n",
            "\n",
            "Input\tath, and his feet left the ground as they lifted him and began to carry him, slowly and surely, back\n",
            "GT\tth, and his feet left the ground as they lifted him and began to carry him, slowly and surely, back \n",
            "pred\tdh  and tes eaet aoat the sround on the  wokted aim and sucan to sotey aiss aoiwly atd stre y  suck \n",
            "\n",
            "\n",
            "Input\t . . . Dumbledore scooped the locket from the bottom of the stone basin and stowed it inside his rob\n",
            "GT\t. . . Dumbledore scooped the locket from the bottom of the stone basin and stowed it inside his robe\n",
            "pred\t\" . . .umbledore saroled aoe sooket ooom the sottlm of the stane slcineand ttaoed an intide tis hobe\n",
            "\n",
            "\n",
            "Input\t\"sir, I forgot -- about fire -- they were coming at me and I panicked --\" \"Quite understandable,\" mu\n",
            "GT\tsir, I forgot -- about fire -- they were coming at me and I panicked --\" \"Quite understandable,\" mur\n",
            "pred\tIot, a souget t-\"tnout tone a  tha  were soning tn to,tnd t tustteed t \" \"Iuite tpder tand nle \" sus\n",
            "\n",
            "\n"
          ],
          "name": "stdout"
        },
        {
          "output_type": "stream",
          "text": [
            "\r  0%|          | 0/196 [00:00<?, ?it/s]"
          ],
          "name": "stderr"
        },
        {
          "output_type": "stream",
          "text": [
            "\n",
            "Test set: Average loss: 1.3668, Accuracy: 745182/1254400 (59%)\n",
            "\n",
            "Saved /gdrive/My Drive/CSE415/language/checkpoints/language_015.pt\n",
            "\n",
            "generated sentence\t\t Harry Potter, Voldemort, and Dumbledore walk into a bar. I'm sure you said it, and I think you don't know what the one of the one of the one of the one of the stone of the one of the stone stairs and the one of the stone staired and stared at the stairs and\n",
            "\n"
          ],
          "name": "stdout"
        },
        {
          "output_type": "stream",
          "text": [
            "  1%|          | 2/196 [00:00<00:33,  5.80it/s]"
          ],
          "name": "stderr"
        },
        {
          "output_type": "stream",
          "text": [
            "Train Epoch: 16 [0/50176 (0%)]\tLoss: 1.367978\n"
          ],
          "name": "stdout"
        },
        {
          "output_type": "stream",
          "text": [
            "  6%|▌         | 12/196 [00:01<00:21,  8.44it/s]"
          ],
          "name": "stderr"
        },
        {
          "output_type": "stream",
          "text": [
            "Train Epoch: 16 [2560/50176 (5%)]\tLoss: 1.338086\n"
          ],
          "name": "stdout"
        },
        {
          "output_type": "stream",
          "text": [
            " 11%|█         | 22/196 [00:02<00:20,  8.58it/s]"
          ],
          "name": "stderr"
        },
        {
          "output_type": "stream",
          "text": [
            "Train Epoch: 16 [5120/50176 (10%)]\tLoss: 1.358185\n"
          ],
          "name": "stdout"
        },
        {
          "output_type": "stream",
          "text": [
            " 16%|█▋        | 32/196 [00:03<00:19,  8.48it/s]"
          ],
          "name": "stderr"
        },
        {
          "output_type": "stream",
          "text": [
            "Train Epoch: 16 [7680/50176 (15%)]\tLoss: 1.344049\n"
          ],
          "name": "stdout"
        },
        {
          "output_type": "stream",
          "text": [
            " 21%|██▏       | 42/196 [00:04<00:18,  8.39it/s]"
          ],
          "name": "stderr"
        },
        {
          "output_type": "stream",
          "text": [
            "Train Epoch: 16 [10240/50176 (20%)]\tLoss: 1.343026\n"
          ],
          "name": "stdout"
        },
        {
          "output_type": "stream",
          "text": [
            " 27%|██▋       | 52/196 [00:06<00:16,  8.76it/s]"
          ],
          "name": "stderr"
        },
        {
          "output_type": "stream",
          "text": [
            "Train Epoch: 16 [12800/50176 (26%)]\tLoss: 1.336333\n"
          ],
          "name": "stdout"
        },
        {
          "output_type": "stream",
          "text": [
            " 32%|███▏      | 62/196 [00:07<00:15,  8.75it/s]"
          ],
          "name": "stderr"
        },
        {
          "output_type": "stream",
          "text": [
            "Train Epoch: 16 [15360/50176 (31%)]\tLoss: 1.346787\n"
          ],
          "name": "stdout"
        },
        {
          "output_type": "stream",
          "text": [
            " 37%|███▋      | 72/196 [00:08<00:14,  8.71it/s]"
          ],
          "name": "stderr"
        },
        {
          "output_type": "stream",
          "text": [
            "Train Epoch: 16 [17920/50176 (36%)]\tLoss: 1.353156\n"
          ],
          "name": "stdout"
        },
        {
          "output_type": "stream",
          "text": [
            " 42%|████▏     | 82/196 [00:09<00:13,  8.69it/s]"
          ],
          "name": "stderr"
        },
        {
          "output_type": "stream",
          "text": [
            "Train Epoch: 16 [20480/50176 (41%)]\tLoss: 1.338770\n"
          ],
          "name": "stdout"
        },
        {
          "output_type": "stream",
          "text": [
            " 47%|████▋     | 92/196 [00:10<00:11,  8.83it/s]"
          ],
          "name": "stderr"
        },
        {
          "output_type": "stream",
          "text": [
            "Train Epoch: 16 [23040/50176 (46%)]\tLoss: 1.334664\n"
          ],
          "name": "stdout"
        },
        {
          "output_type": "stream",
          "text": [
            " 52%|█████▏    | 102/196 [00:11<00:10,  8.79it/s]"
          ],
          "name": "stderr"
        },
        {
          "output_type": "stream",
          "text": [
            "Train Epoch: 16 [25600/50176 (51%)]\tLoss: 1.348409\n"
          ],
          "name": "stdout"
        },
        {
          "output_type": "stream",
          "text": [
            " 57%|█████▋    | 112/196 [00:12<00:09,  8.78it/s]"
          ],
          "name": "stderr"
        },
        {
          "output_type": "stream",
          "text": [
            "Train Epoch: 16 [28160/50176 (56%)]\tLoss: 1.349872\n"
          ],
          "name": "stdout"
        },
        {
          "output_type": "stream",
          "text": [
            " 62%|██████▏   | 122/196 [00:14<00:08,  8.74it/s]"
          ],
          "name": "stderr"
        },
        {
          "output_type": "stream",
          "text": [
            "Train Epoch: 16 [30720/50176 (61%)]\tLoss: 1.358551\n"
          ],
          "name": "stdout"
        },
        {
          "output_type": "stream",
          "text": [
            " 67%|██████▋   | 132/196 [00:15<00:07,  8.61it/s]"
          ],
          "name": "stderr"
        },
        {
          "output_type": "stream",
          "text": [
            "Train Epoch: 16 [33280/50176 (66%)]\tLoss: 1.338631\n"
          ],
          "name": "stdout"
        },
        {
          "output_type": "stream",
          "text": [
            " 72%|███████▏  | 142/196 [00:16<00:06,  8.84it/s]"
          ],
          "name": "stderr"
        },
        {
          "output_type": "stream",
          "text": [
            "Train Epoch: 16 [35840/50176 (71%)]\tLoss: 1.344350\n"
          ],
          "name": "stdout"
        },
        {
          "output_type": "stream",
          "text": [
            " 78%|███████▊  | 152/196 [00:17<00:05,  8.55it/s]"
          ],
          "name": "stderr"
        },
        {
          "output_type": "stream",
          "text": [
            "Train Epoch: 16 [38400/50176 (77%)]\tLoss: 1.329057\n"
          ],
          "name": "stdout"
        },
        {
          "output_type": "stream",
          "text": [
            " 83%|████████▎ | 162/196 [00:18<00:03,  8.74it/s]"
          ],
          "name": "stderr"
        },
        {
          "output_type": "stream",
          "text": [
            "Train Epoch: 16 [40960/50176 (82%)]\tLoss: 1.360912\n"
          ],
          "name": "stdout"
        },
        {
          "output_type": "stream",
          "text": [
            " 88%|████████▊ | 172/196 [00:19<00:02,  8.56it/s]"
          ],
          "name": "stderr"
        },
        {
          "output_type": "stream",
          "text": [
            "Train Epoch: 16 [43520/50176 (87%)]\tLoss: 1.333104\n"
          ],
          "name": "stdout"
        },
        {
          "output_type": "stream",
          "text": [
            " 93%|█████████▎| 182/196 [00:20<00:01,  8.85it/s]"
          ],
          "name": "stderr"
        },
        {
          "output_type": "stream",
          "text": [
            "Train Epoch: 16 [46080/50176 (92%)]\tLoss: 1.353635\n"
          ],
          "name": "stdout"
        },
        {
          "output_type": "stream",
          "text": [
            " 98%|█████████▊| 192/196 [00:22<00:00,  8.71it/s]"
          ],
          "name": "stderr"
        },
        {
          "output_type": "stream",
          "text": [
            "Train Epoch: 16 [48640/50176 (97%)]\tLoss: 1.359718\n"
          ],
          "name": "stdout"
        },
        {
          "output_type": "stream",
          "text": [
            "100%|██████████| 196/196 [00:22<00:00,  8.69it/s]\n"
          ],
          "name": "stderr"
        },
        {
          "output_type": "stream",
          "text": [
            "Input\tonly way left to get water, because Voldemort had planned it so ... He flung himself over to the edg\n",
            "GT\tnly way left to get water, because Voldemort had planned it so ... He flung himself over to the edge\n",
            "pred\tn y tas aoat th sot tiscr  aucause holdemort had nuaceed tn iomt . aa woung oim elf aner th the fnge\n",
            "\n",
            "\n",
            "Input\ts that had his arm. It released him, falling backward into the water with a splash; he scrambled to \n",
            "GT\t that had his arm. It released him, falling backward into the water with a splash; he scrambled to h\n",
            "pred\t ahat hed aas fnms Ht weaeabe  tim  aocling aack ard anto the calcr.aith a stiith  oe harembled ah t\n",
            "\n",
            "\n",
            "Input\tath, and his feet left the ground as they lifted him and began to carry him, slowly and surely, back\n",
            "GT\tth, and his feet left the ground as they lifted him and began to carry him, slowly and surely, back \n",
            "pred\tdh  and tes eaet aoat the sround on tho  wokted tim and sucan to sorey ais  atiwly atd ttre y  suck \n",
            "\n",
            "\n",
            "Input\t . . . Dumbledore scooped the locket from the bottom of the stone basin and stowed it inside his rob\n",
            "GT\t. . . Dumbledore scooped the locket from the bottom of the stone basin and stowed it inside his robe\n",
            "pred\t\" . . .umbledore waroled aoe saoket ooom the cottlm of the stane sacineand htaoed an anttde tis hobe\n",
            "\n",
            "\n",
            "Input\t\"sir, I forgot -- about fire -- they were coming at me and I panicked --\" \"Quite understandable,\" mu\n",
            "GT\tsir, I forgot -- about fire -- they were coming at me and I panicked --\" \"Quite understandable,\" mur\n",
            "pred\tIot, a sougot t \"tnout tone a  tha  were aoning tn to tnd t wustteed t   \"Iutte onder tand nle   sut\n",
            "\n",
            "\n"
          ],
          "name": "stdout"
        },
        {
          "output_type": "stream",
          "text": [
            "\r  0%|          | 0/196 [00:00<?, ?it/s]"
          ],
          "name": "stderr"
        },
        {
          "output_type": "stream",
          "text": [
            "\n",
            "Test set: Average loss: 1.3611, Accuracy: 747459/1254400 (60%)\n",
            "\n",
            "Saved /gdrive/My Drive/CSE415/language/checkpoints/language_016.pt\n",
            "\n",
            "generated sentence\t\t Harry Potter, Voldemort, and Dumbledore walk into a bar. I don't know what it was a surprise of the stairs and the only one of the stairs was standing at the stairs and the stairs was standing at the stairs and the stairs was standing at the stairs and the \n",
            "\n"
          ],
          "name": "stdout"
        },
        {
          "output_type": "stream",
          "text": [
            "  1%|          | 2/196 [00:00<00:31,  6.11it/s]"
          ],
          "name": "stderr"
        },
        {
          "output_type": "stream",
          "text": [
            "Train Epoch: 17 [0/50176 (0%)]\tLoss: 1.360727\n"
          ],
          "name": "stdout"
        },
        {
          "output_type": "stream",
          "text": [
            "  6%|▌         | 12/196 [00:01<00:21,  8.48it/s]"
          ],
          "name": "stderr"
        },
        {
          "output_type": "stream",
          "text": [
            "Train Epoch: 17 [2560/50176 (5%)]\tLoss: 1.333743\n"
          ],
          "name": "stdout"
        },
        {
          "output_type": "stream",
          "text": [
            " 11%|█         | 22/196 [00:02<00:20,  8.60it/s]"
          ],
          "name": "stderr"
        },
        {
          "output_type": "stream",
          "text": [
            "Train Epoch: 17 [5120/50176 (10%)]\tLoss: 1.358894\n"
          ],
          "name": "stdout"
        },
        {
          "output_type": "stream",
          "text": [
            " 16%|█▋        | 32/196 [00:03<00:19,  8.47it/s]"
          ],
          "name": "stderr"
        },
        {
          "output_type": "stream",
          "text": [
            "Train Epoch: 17 [7680/50176 (15%)]\tLoss: 1.341755\n"
          ],
          "name": "stdout"
        },
        {
          "output_type": "stream",
          "text": [
            " 21%|██▏       | 42/196 [00:04<00:17,  8.64it/s]"
          ],
          "name": "stderr"
        },
        {
          "output_type": "stream",
          "text": [
            "Train Epoch: 17 [10240/50176 (20%)]\tLoss: 1.334515\n"
          ],
          "name": "stdout"
        },
        {
          "output_type": "stream",
          "text": [
            " 27%|██▋       | 52/196 [00:06<00:16,  8.51it/s]"
          ],
          "name": "stderr"
        },
        {
          "output_type": "stream",
          "text": [
            "Train Epoch: 17 [12800/50176 (26%)]\tLoss: 1.333692\n"
          ],
          "name": "stdout"
        },
        {
          "output_type": "stream",
          "text": [
            " 32%|███▏      | 62/196 [00:07<00:15,  8.47it/s]"
          ],
          "name": "stderr"
        },
        {
          "output_type": "stream",
          "text": [
            "Train Epoch: 17 [15360/50176 (31%)]\tLoss: 1.345013\n"
          ],
          "name": "stdout"
        },
        {
          "output_type": "stream",
          "text": [
            " 37%|███▋      | 72/196 [00:08<00:14,  8.47it/s]"
          ],
          "name": "stderr"
        },
        {
          "output_type": "stream",
          "text": [
            "Train Epoch: 17 [17920/50176 (36%)]\tLoss: 1.349367\n"
          ],
          "name": "stdout"
        },
        {
          "output_type": "stream",
          "text": [
            " 42%|████▏     | 82/196 [00:09<00:13,  8.75it/s]"
          ],
          "name": "stderr"
        },
        {
          "output_type": "stream",
          "text": [
            "Train Epoch: 17 [20480/50176 (41%)]\tLoss: 1.328935\n"
          ],
          "name": "stdout"
        },
        {
          "output_type": "stream",
          "text": [
            " 47%|████▋     | 92/196 [00:10<00:11,  8.70it/s]"
          ],
          "name": "stderr"
        },
        {
          "output_type": "stream",
          "text": [
            "Train Epoch: 17 [23040/50176 (46%)]\tLoss: 1.329282\n"
          ],
          "name": "stdout"
        },
        {
          "output_type": "stream",
          "text": [
            " 52%|█████▏    | 102/196 [00:11<00:10,  8.67it/s]"
          ],
          "name": "stderr"
        },
        {
          "output_type": "stream",
          "text": [
            "Train Epoch: 17 [25600/50176 (51%)]\tLoss: 1.351100\n"
          ],
          "name": "stdout"
        },
        {
          "output_type": "stream",
          "text": [
            " 57%|█████▋    | 112/196 [00:13<00:09,  8.52it/s]"
          ],
          "name": "stderr"
        },
        {
          "output_type": "stream",
          "text": [
            "Train Epoch: 17 [28160/50176 (56%)]\tLoss: 1.350500\n"
          ],
          "name": "stdout"
        },
        {
          "output_type": "stream",
          "text": [
            " 62%|██████▏   | 122/196 [00:14<00:08,  8.65it/s]"
          ],
          "name": "stderr"
        },
        {
          "output_type": "stream",
          "text": [
            "Train Epoch: 17 [30720/50176 (61%)]\tLoss: 1.341988\n"
          ],
          "name": "stdout"
        },
        {
          "output_type": "stream",
          "text": [
            " 67%|██████▋   | 132/196 [00:15<00:07,  8.52it/s]"
          ],
          "name": "stderr"
        },
        {
          "output_type": "stream",
          "text": [
            "Train Epoch: 17 [33280/50176 (66%)]\tLoss: 1.337811\n"
          ],
          "name": "stdout"
        },
        {
          "output_type": "stream",
          "text": [
            " 72%|███████▏  | 142/196 [00:16<00:06,  8.55it/s]"
          ],
          "name": "stderr"
        },
        {
          "output_type": "stream",
          "text": [
            "Train Epoch: 17 [35840/50176 (71%)]\tLoss: 1.344324\n"
          ],
          "name": "stdout"
        },
        {
          "output_type": "stream",
          "text": [
            " 78%|███████▊  | 152/196 [00:17<00:05,  8.35it/s]"
          ],
          "name": "stderr"
        },
        {
          "output_type": "stream",
          "text": [
            "Train Epoch: 17 [38400/50176 (77%)]\tLoss: 1.327606\n"
          ],
          "name": "stdout"
        },
        {
          "output_type": "stream",
          "text": [
            " 83%|████████▎ | 162/196 [00:18<00:03,  8.61it/s]"
          ],
          "name": "stderr"
        },
        {
          "output_type": "stream",
          "text": [
            "Train Epoch: 17 [40960/50176 (82%)]\tLoss: 1.356248\n"
          ],
          "name": "stdout"
        },
        {
          "output_type": "stream",
          "text": [
            " 88%|████████▊ | 172/196 [00:20<00:02,  8.66it/s]"
          ],
          "name": "stderr"
        },
        {
          "output_type": "stream",
          "text": [
            "Train Epoch: 17 [43520/50176 (87%)]\tLoss: 1.328235\n"
          ],
          "name": "stdout"
        },
        {
          "output_type": "stream",
          "text": [
            " 93%|█████████▎| 182/196 [00:21<00:01,  8.43it/s]"
          ],
          "name": "stderr"
        },
        {
          "output_type": "stream",
          "text": [
            "Train Epoch: 17 [46080/50176 (92%)]\tLoss: 1.357366\n"
          ],
          "name": "stdout"
        },
        {
          "output_type": "stream",
          "text": [
            " 98%|█████████▊| 192/196 [00:22<00:00,  8.65it/s]"
          ],
          "name": "stderr"
        },
        {
          "output_type": "stream",
          "text": [
            "Train Epoch: 17 [48640/50176 (97%)]\tLoss: 1.360414\n"
          ],
          "name": "stdout"
        },
        {
          "output_type": "stream",
          "text": [
            "100%|██████████| 196/196 [00:22<00:00,  8.59it/s]\n"
          ],
          "name": "stderr"
        },
        {
          "output_type": "stream",
          "text": [
            "Input\tonly way left to get water, because Voldemort had planned it so ... He flung himself over to the edg\n",
            "GT\tnly way left to get water, because Voldemort had planned it so ... He flung himself over to the edge\n",
            "pred\tn y tas aoat th sot tiscr  aucause toldemort had nuacned tn iomt . ta weutg oim elf tner th the fnge\n",
            "\n",
            "\n",
            "Input\ts that had his arm. It released him, falling backward into the water with a splash; he scrambled to \n",
            "GT\t that had his arm. It released him, falling backward into the water with a splash; he scrambled to h\n",
            "pred\t ahat hed aas fnm  \"t weaeabe  tim  aocling oack ard anto the cilcr.aith a stiith  oe htrembled oo t\n",
            "\n",
            "\n",
            "Input\tath, and his feet left the ground as they lifted him and began to carry him, slowly and surely, back\n",
            "GT\tth, and his feet left the ground as they lifted him and began to carry him, slowly and surely, back \n",
            "pred\tdh  and tes eaet aoat the cround on tho  wokted tim and tucan to sotey ais  atiwly atd ttre y  suck \n",
            "\n",
            "\n",
            "Input\t . . . Dumbledore scooped the locket from the bottom of the stone basin and stowed it inside his rob\n",
            "GT\t. . . Dumbledore scooped the locket from the bottom of the stone basin and stowed it inside his robe\n",
            "pred\t\" . . .umbledore waroled aoe sooket ooom the cottlm of the ctane olcineand ttaoed an intide tis hobe\n",
            "\n",
            "\n",
            "Input\t\"sir, I forgot -- about fire -- they were coming at me and I panicked --\" \"Quite understandable,\" mu\n",
            "GT\tsir, I forgot -- about fire -- they were coming at me and I panicked --\" \"Quite understandable,\" mur\n",
            "pred\tIot, a souget t \"tnout tone a  tha  were toming tn to,tnd t tustteed t \" \"Iuite opder tand nle   sut\n",
            "\n",
            "\n"
          ],
          "name": "stdout"
        },
        {
          "output_type": "stream",
          "text": [
            "\r  0%|          | 0/196 [00:00<?, ?it/s]"
          ],
          "name": "stderr"
        },
        {
          "output_type": "stream",
          "text": [
            "\n",
            "Test set: Average loss: 1.3647, Accuracy: 746499/1254400 (60%)\n",
            "\n",
            "generated sentence\t\t Harry Potter, Voldemort, and Dumbledore walk into a bar. I don't know what that was a moment of the one of the one of the stairs were standing into the corner of the counting of the stairs and the only thing that he had not to see the door of the stairs and\n",
            "\n"
          ],
          "name": "stdout"
        },
        {
          "output_type": "stream",
          "text": [
            "  1%|          | 2/196 [00:00<00:31,  6.11it/s]"
          ],
          "name": "stderr"
        },
        {
          "output_type": "stream",
          "text": [
            "Train Epoch: 18 [0/50176 (0%)]\tLoss: 1.364461\n"
          ],
          "name": "stdout"
        },
        {
          "output_type": "stream",
          "text": [
            "  6%|▌         | 12/196 [00:01<00:21,  8.57it/s]"
          ],
          "name": "stderr"
        },
        {
          "output_type": "stream",
          "text": [
            "Train Epoch: 18 [2560/50176 (5%)]\tLoss: 1.331047\n"
          ],
          "name": "stdout"
        },
        {
          "output_type": "stream",
          "text": [
            " 11%|█         | 22/196 [00:02<00:20,  8.57it/s]"
          ],
          "name": "stderr"
        },
        {
          "output_type": "stream",
          "text": [
            "Train Epoch: 18 [5120/50176 (10%)]\tLoss: 1.355487\n"
          ],
          "name": "stdout"
        },
        {
          "output_type": "stream",
          "text": [
            " 16%|█▋        | 32/196 [00:03<00:19,  8.39it/s]"
          ],
          "name": "stderr"
        },
        {
          "output_type": "stream",
          "text": [
            "Train Epoch: 18 [7680/50176 (15%)]\tLoss: 1.344021\n"
          ],
          "name": "stdout"
        },
        {
          "output_type": "stream",
          "text": [
            " 21%|██▏       | 42/196 [00:04<00:17,  8.67it/s]"
          ],
          "name": "stderr"
        },
        {
          "output_type": "stream",
          "text": [
            "Train Epoch: 18 [10240/50176 (20%)]\tLoss: 1.337409\n"
          ],
          "name": "stdout"
        },
        {
          "output_type": "stream",
          "text": [
            " 27%|██▋       | 52/196 [00:06<00:16,  8.81it/s]"
          ],
          "name": "stderr"
        },
        {
          "output_type": "stream",
          "text": [
            "Train Epoch: 18 [12800/50176 (26%)]\tLoss: 1.329266\n"
          ],
          "name": "stdout"
        },
        {
          "output_type": "stream",
          "text": [
            " 32%|███▏      | 62/196 [00:07<00:15,  8.51it/s]"
          ],
          "name": "stderr"
        },
        {
          "output_type": "stream",
          "text": [
            "Train Epoch: 18 [15360/50176 (31%)]\tLoss: 1.341244\n"
          ],
          "name": "stdout"
        },
        {
          "output_type": "stream",
          "text": [
            " 37%|███▋      | 72/196 [00:08<00:14,  8.57it/s]"
          ],
          "name": "stderr"
        },
        {
          "output_type": "stream",
          "text": [
            "Train Epoch: 18 [17920/50176 (36%)]\tLoss: 1.347630\n"
          ],
          "name": "stdout"
        },
        {
          "output_type": "stream",
          "text": [
            " 42%|████▏     | 82/196 [00:09<00:13,  8.61it/s]"
          ],
          "name": "stderr"
        },
        {
          "output_type": "stream",
          "text": [
            "Train Epoch: 18 [20480/50176 (41%)]\tLoss: 1.327981\n"
          ],
          "name": "stdout"
        },
        {
          "output_type": "stream",
          "text": [
            " 47%|████▋     | 92/196 [00:10<00:12,  8.66it/s]"
          ],
          "name": "stderr"
        },
        {
          "output_type": "stream",
          "text": [
            "Train Epoch: 18 [23040/50176 (46%)]\tLoss: 1.326025\n"
          ],
          "name": "stdout"
        },
        {
          "output_type": "stream",
          "text": [
            " 52%|█████▏    | 102/196 [00:11<00:10,  8.55it/s]"
          ],
          "name": "stderr"
        },
        {
          "output_type": "stream",
          "text": [
            "Train Epoch: 18 [25600/50176 (51%)]\tLoss: 1.344359\n"
          ],
          "name": "stdout"
        },
        {
          "output_type": "stream",
          "text": [
            " 57%|█████▋    | 112/196 [00:13<00:09,  8.71it/s]"
          ],
          "name": "stderr"
        },
        {
          "output_type": "stream",
          "text": [
            "Train Epoch: 18 [28160/50176 (56%)]\tLoss: 1.343497\n"
          ],
          "name": "stdout"
        },
        {
          "output_type": "stream",
          "text": [
            " 62%|██████▏   | 122/196 [00:14<00:08,  8.60it/s]"
          ],
          "name": "stderr"
        },
        {
          "output_type": "stream",
          "text": [
            "Train Epoch: 18 [30720/50176 (61%)]\tLoss: 1.340374\n"
          ],
          "name": "stdout"
        },
        {
          "output_type": "stream",
          "text": [
            " 67%|██████▋   | 132/196 [00:15<00:07,  8.56it/s]"
          ],
          "name": "stderr"
        },
        {
          "output_type": "stream",
          "text": [
            "Train Epoch: 18 [33280/50176 (66%)]\tLoss: 1.343153\n"
          ],
          "name": "stdout"
        },
        {
          "output_type": "stream",
          "text": [
            " 72%|███████▏  | 142/196 [00:16<00:06,  8.58it/s]"
          ],
          "name": "stderr"
        },
        {
          "output_type": "stream",
          "text": [
            "Train Epoch: 18 [35840/50176 (71%)]\tLoss: 1.341938\n"
          ],
          "name": "stdout"
        },
        {
          "output_type": "stream",
          "text": [
            " 78%|███████▊  | 152/196 [00:17<00:04,  8.83it/s]"
          ],
          "name": "stderr"
        },
        {
          "output_type": "stream",
          "text": [
            "Train Epoch: 18 [38400/50176 (77%)]\tLoss: 1.325988\n"
          ],
          "name": "stdout"
        },
        {
          "output_type": "stream",
          "text": [
            " 83%|████████▎ | 162/196 [00:18<00:03,  8.59it/s]"
          ],
          "name": "stderr"
        },
        {
          "output_type": "stream",
          "text": [
            "Train Epoch: 18 [40960/50176 (82%)]\tLoss: 1.353800\n"
          ],
          "name": "stdout"
        },
        {
          "output_type": "stream",
          "text": [
            " 88%|████████▊ | 172/196 [00:19<00:02,  8.70it/s]"
          ],
          "name": "stderr"
        },
        {
          "output_type": "stream",
          "text": [
            "Train Epoch: 18 [43520/50176 (87%)]\tLoss: 1.327777\n"
          ],
          "name": "stdout"
        },
        {
          "output_type": "stream",
          "text": [
            " 93%|█████████▎| 182/196 [00:21<00:01,  8.66it/s]"
          ],
          "name": "stderr"
        },
        {
          "output_type": "stream",
          "text": [
            "Train Epoch: 18 [46080/50176 (92%)]\tLoss: 1.353134\n"
          ],
          "name": "stdout"
        },
        {
          "output_type": "stream",
          "text": [
            " 98%|█████████▊| 192/196 [00:22<00:00,  8.51it/s]"
          ],
          "name": "stderr"
        },
        {
          "output_type": "stream",
          "text": [
            "Train Epoch: 18 [48640/50176 (97%)]\tLoss: 1.353699\n"
          ],
          "name": "stdout"
        },
        {
          "output_type": "stream",
          "text": [
            "100%|██████████| 196/196 [00:22<00:00,  8.64it/s]\n"
          ],
          "name": "stderr"
        },
        {
          "output_type": "stream",
          "text": [
            "Input\tonly way left to get water, because Voldemort had planned it so ... He flung himself over to the edg\n",
            "GT\tnly way left to get water, because Voldemort had planned it so ... He flung himself over to the edge\n",
            "pred\tn y tas aott th tot tiscr  aucause ooldemort had nuacned tn iomt . Ia wootg oim elf oner th the fnge\n",
            "\n",
            "\n",
            "Input\ts that had his arm. It released him, falling backward into the water with a splash; he scrambled to \n",
            "GT\t that had his arm. It released him, falling backward into the water with a splash; he scrambled to h\n",
            "pred\t aoat hed aas fnm   t weaeale  tim  aocleng oack ard anto the calcr oith a steith  oe htoemeled oo t\n",
            "\n",
            "\n",
            "Input\tath, and his feet left the ground as they lifted him and began to carry him, slowly and surely, back\n",
            "GT\tth, and his feet left the ground as they lifted him and began to carry him, slowly and surely, back \n",
            "pred\trh  and tes eaet aott the coound on the  wokted aim and sulan to totey ais  atiwly atd ttre y  auck \n",
            "\n",
            "\n",
            "Input\t . . . Dumbledore scooped the locket from the bottom of the stone basin and stowed it inside his rob\n",
            "GT\t. . . Dumbledore scooped the locket from the bottom of the stone basin and stowed it inside his robe\n",
            "pred\t\" . . .umbledore waroled aoe saoket ooom the cottlm of the ctane oacineand ttaoe  an onttde tis hooe\n",
            "\n",
            "\n",
            "Input\t\"sir, I forgot -- about fire -- they were coming at me and I panicked --\" \"Quite understandable,\" mu\n",
            "GT\tsir, I forgot -- about fire -- they were coming at me and I panicked --\" \"Quite understandable,\" mur\n",
            "pred\tIot, a sougot t \"tnout tone a  tha  were aoming tn to tnd t dustteed o \" \"Iutte opder tand nle   sut\n",
            "\n",
            "\n"
          ],
          "name": "stdout"
        },
        {
          "output_type": "stream",
          "text": [
            "\r  0%|          | 0/196 [00:00<?, ?it/s]"
          ],
          "name": "stderr"
        },
        {
          "output_type": "stream",
          "text": [
            "\n",
            "Test set: Average loss: 1.3634, Accuracy: 745423/1254400 (59%)\n",
            "\n",
            "generated sentence\t\t Harry Potter, Voldemort, and Dumbledore walk into a bar. I don't know what it was a good of the one of the one of the other some of the one of the other some of the only one of the other said and started to the fire of the stairs and the only one of the cou\n",
            "\n"
          ],
          "name": "stdout"
        },
        {
          "output_type": "stream",
          "text": [
            "  1%|          | 2/196 [00:00<00:31,  6.19it/s]"
          ],
          "name": "stderr"
        },
        {
          "output_type": "stream",
          "text": [
            "Train Epoch: 19 [0/50176 (0%)]\tLoss: 1.361975\n"
          ],
          "name": "stdout"
        },
        {
          "output_type": "stream",
          "text": [
            "  6%|▌         | 12/196 [00:01<00:21,  8.54it/s]"
          ],
          "name": "stderr"
        },
        {
          "output_type": "stream",
          "text": [
            "Train Epoch: 19 [2560/50176 (5%)]\tLoss: 1.334549\n"
          ],
          "name": "stdout"
        },
        {
          "output_type": "stream",
          "text": [
            " 11%|█         | 22/196 [00:02<00:20,  8.37it/s]"
          ],
          "name": "stderr"
        },
        {
          "output_type": "stream",
          "text": [
            "Train Epoch: 19 [5120/50176 (10%)]\tLoss: 1.352834\n"
          ],
          "name": "stdout"
        },
        {
          "output_type": "stream",
          "text": [
            " 16%|█▋        | 32/196 [00:03<00:19,  8.43it/s]"
          ],
          "name": "stderr"
        },
        {
          "output_type": "stream",
          "text": [
            "Train Epoch: 19 [7680/50176 (15%)]\tLoss: 1.338480\n"
          ],
          "name": "stdout"
        },
        {
          "output_type": "stream",
          "text": [
            " 21%|██▏       | 42/196 [00:05<00:18,  8.52it/s]"
          ],
          "name": "stderr"
        },
        {
          "output_type": "stream",
          "text": [
            "Train Epoch: 19 [10240/50176 (20%)]\tLoss: 1.333465\n"
          ],
          "name": "stdout"
        },
        {
          "output_type": "stream",
          "text": [
            " 27%|██▋       | 52/196 [00:06<00:16,  8.65it/s]"
          ],
          "name": "stderr"
        },
        {
          "output_type": "stream",
          "text": [
            "Train Epoch: 19 [12800/50176 (26%)]\tLoss: 1.329622\n"
          ],
          "name": "stdout"
        },
        {
          "output_type": "stream",
          "text": [
            " 32%|███▏      | 62/196 [00:07<00:15,  8.52it/s]"
          ],
          "name": "stderr"
        },
        {
          "output_type": "stream",
          "text": [
            "Train Epoch: 19 [15360/50176 (31%)]\tLoss: 1.340166\n"
          ],
          "name": "stdout"
        },
        {
          "output_type": "stream",
          "text": [
            " 37%|███▋      | 72/196 [00:08<00:14,  8.47it/s]"
          ],
          "name": "stderr"
        },
        {
          "output_type": "stream",
          "text": [
            "Train Epoch: 19 [17920/50176 (36%)]\tLoss: 1.345586\n"
          ],
          "name": "stdout"
        },
        {
          "output_type": "stream",
          "text": [
            " 42%|████▏     | 82/196 [00:09<00:13,  8.53it/s]"
          ],
          "name": "stderr"
        },
        {
          "output_type": "stream",
          "text": [
            "Train Epoch: 19 [20480/50176 (41%)]\tLoss: 1.327787\n"
          ],
          "name": "stdout"
        },
        {
          "output_type": "stream",
          "text": [
            " 47%|████▋     | 92/196 [00:10<00:12,  8.59it/s]"
          ],
          "name": "stderr"
        },
        {
          "output_type": "stream",
          "text": [
            "Train Epoch: 19 [23040/50176 (46%)]\tLoss: 1.323031\n"
          ],
          "name": "stdout"
        },
        {
          "output_type": "stream",
          "text": [
            " 52%|█████▏    | 102/196 [00:11<00:10,  8.64it/s]"
          ],
          "name": "stderr"
        },
        {
          "output_type": "stream",
          "text": [
            "Train Epoch: 19 [25600/50176 (51%)]\tLoss: 1.343152\n"
          ],
          "name": "stdout"
        },
        {
          "output_type": "stream",
          "text": [
            " 57%|█████▋    | 112/196 [00:13<00:09,  8.65it/s]"
          ],
          "name": "stderr"
        },
        {
          "output_type": "stream",
          "text": [
            "Train Epoch: 19 [28160/50176 (56%)]\tLoss: 1.342770\n"
          ],
          "name": "stdout"
        },
        {
          "output_type": "stream",
          "text": [
            " 62%|██████▏   | 122/196 [00:14<00:08,  8.58it/s]"
          ],
          "name": "stderr"
        },
        {
          "output_type": "stream",
          "text": [
            "Train Epoch: 19 [30720/50176 (61%)]\tLoss: 1.344283\n"
          ],
          "name": "stdout"
        },
        {
          "output_type": "stream",
          "text": [
            " 67%|██████▋   | 132/196 [00:15<00:07,  8.66it/s]"
          ],
          "name": "stderr"
        },
        {
          "output_type": "stream",
          "text": [
            "Train Epoch: 19 [33280/50176 (66%)]\tLoss: 1.329134\n"
          ],
          "name": "stdout"
        },
        {
          "output_type": "stream",
          "text": [
            " 72%|███████▏  | 142/196 [00:16<00:06,  8.56it/s]"
          ],
          "name": "stderr"
        },
        {
          "output_type": "stream",
          "text": [
            "Train Epoch: 19 [35840/50176 (71%)]\tLoss: 1.343253\n"
          ],
          "name": "stdout"
        },
        {
          "output_type": "stream",
          "text": [
            " 78%|███████▊  | 152/196 [00:17<00:05,  8.45it/s]"
          ],
          "name": "stderr"
        },
        {
          "output_type": "stream",
          "text": [
            "Train Epoch: 19 [38400/50176 (77%)]\tLoss: 1.319525\n"
          ],
          "name": "stdout"
        },
        {
          "output_type": "stream",
          "text": [
            " 83%|████████▎ | 162/196 [00:18<00:04,  8.48it/s]"
          ],
          "name": "stderr"
        },
        {
          "output_type": "stream",
          "text": [
            "Train Epoch: 19 [40960/50176 (82%)]\tLoss: 1.349694\n"
          ],
          "name": "stdout"
        },
        {
          "output_type": "stream",
          "text": [
            " 88%|████████▊ | 172/196 [00:20<00:02,  8.58it/s]"
          ],
          "name": "stderr"
        },
        {
          "output_type": "stream",
          "text": [
            "Train Epoch: 19 [43520/50176 (87%)]\tLoss: 1.324287\n"
          ],
          "name": "stdout"
        },
        {
          "output_type": "stream",
          "text": [
            " 93%|█████████▎| 182/196 [00:21<00:01,  8.55it/s]"
          ],
          "name": "stderr"
        },
        {
          "output_type": "stream",
          "text": [
            "Train Epoch: 19 [46080/50176 (92%)]\tLoss: 1.352365\n"
          ],
          "name": "stdout"
        },
        {
          "output_type": "stream",
          "text": [
            " 98%|█████████▊| 192/196 [00:22<00:00,  8.46it/s]"
          ],
          "name": "stderr"
        },
        {
          "output_type": "stream",
          "text": [
            "Train Epoch: 19 [48640/50176 (97%)]\tLoss: 1.353065\n"
          ],
          "name": "stdout"
        },
        {
          "output_type": "stream",
          "text": [
            "100%|██████████| 196/196 [00:22<00:00,  8.56it/s]\n"
          ],
          "name": "stderr"
        },
        {
          "output_type": "stream",
          "text": [
            "Input\tonly way left to get water, because Voldemort had planned it so ... He flung himself over to the edg\n",
            "GT\tnly way left to get water, because Voldemort had planned it so ... He flung himself over to the edge\n",
            "pred\tn y tas aott th tot tiscr  aucause ooldemort had nuaceed tn iomt . Ia woutg oim elf oner th the fnge\n",
            "\n",
            "\n",
            "Input\ts that had his arm. It released him, falling backward into the water with a splash; he scrambled to \n",
            "GT\t that had his arm. It released him, falling backward into the water with a splash; he scrambled to h\n",
            "pred\t aoat hed aam fnm  Ht weaeale  tim  aocling oack ard anto the caler.oith a lteith  oe htrembled oo t\n",
            "\n",
            "\n",
            "Input\tath, and his feet left the ground as they lifted him and began to carry him, slowly and surely, back\n",
            "GT\tth, and his feet left the ground as they lifted him and began to carry him, slowly and surely, back \n",
            "pred\trh  and tes eaet aott the cround on the  wokted tim and sufan to totey aim  atiwly atd stre y  auck \n",
            "\n",
            "\n",
            "Input\t . . . Dumbledore scooped the locket from the bottom of the stone basin and stowed it inside his rob\n",
            "GT\t. . . Dumbledore scooped the locket from the bottom of the stone basin and stowed it inside his robe\n",
            "pred\t\" . . .umbledore waroled aoe saoket ooom the cottlm of the ctane olcineand staoe  an ontide tis hobe\n",
            "\n",
            "\n",
            "Input\t\"sir, I forgot -- about fire -- they were coming at me and I panicked --\" \"Quite understandable,\" mu\n",
            "GT\tsir, I forgot -- about fire -- they were coming at me and I panicked --\" \"Quite understandable,\" mur\n",
            "pred\ttot, a sougot t  tnout tone a  tha  were aoming tn tu tnd t wustneed o   \"Iutte opder tand nle   sut\n",
            "\n",
            "\n"
          ],
          "name": "stdout"
        },
        {
          "output_type": "stream",
          "text": [
            "\r  0%|          | 0/196 [00:00<?, ?it/s]"
          ],
          "name": "stderr"
        },
        {
          "output_type": "stream",
          "text": [
            "\n",
            "Test set: Average loss: 1.3615, Accuracy: 747015/1254400 (60%)\n",
            "\n",
            "generated sentence\t\t Harry Potter, Voldemort, and Dumbledore walk into a bar. I don't know what it was a lot of the one of the one of the only one of the only one of the only one of the fire of the only one of the fire of the only one of the fire of the only one of the fire of \n",
            "\n"
          ],
          "name": "stdout"
        },
        {
          "output_type": "stream",
          "text": [
            "  1%|          | 2/196 [00:00<00:31,  6.18it/s]"
          ],
          "name": "stderr"
        },
        {
          "output_type": "stream",
          "text": [
            "Train Epoch: 20 [0/50176 (0%)]\tLoss: 1.360873\n"
          ],
          "name": "stdout"
        },
        {
          "output_type": "stream",
          "text": [
            "  6%|▌         | 12/196 [00:01<00:21,  8.51it/s]"
          ],
          "name": "stderr"
        },
        {
          "output_type": "stream",
          "text": [
            "Train Epoch: 20 [2560/50176 (5%)]\tLoss: 1.331208\n"
          ],
          "name": "stdout"
        },
        {
          "output_type": "stream",
          "text": [
            " 11%|█         | 22/196 [00:02<00:19,  8.71it/s]"
          ],
          "name": "stderr"
        },
        {
          "output_type": "stream",
          "text": [
            "Train Epoch: 20 [5120/50176 (10%)]\tLoss: 1.352064\n"
          ],
          "name": "stdout"
        },
        {
          "output_type": "stream",
          "text": [
            " 16%|█▋        | 32/196 [00:03<00:18,  8.74it/s]"
          ],
          "name": "stderr"
        },
        {
          "output_type": "stream",
          "text": [
            "Train Epoch: 20 [7680/50176 (15%)]\tLoss: 1.335314\n"
          ],
          "name": "stdout"
        },
        {
          "output_type": "stream",
          "text": [
            " 21%|██▏       | 42/196 [00:04<00:17,  8.65it/s]"
          ],
          "name": "stderr"
        },
        {
          "output_type": "stream",
          "text": [
            "Train Epoch: 20 [10240/50176 (20%)]\tLoss: 1.332085\n"
          ],
          "name": "stdout"
        },
        {
          "output_type": "stream",
          "text": [
            " 27%|██▋       | 52/196 [00:06<00:16,  8.68it/s]"
          ],
          "name": "stderr"
        },
        {
          "output_type": "stream",
          "text": [
            "Train Epoch: 20 [12800/50176 (26%)]\tLoss: 1.327693\n"
          ],
          "name": "stdout"
        },
        {
          "output_type": "stream",
          "text": [
            " 32%|███▏      | 62/196 [00:07<00:15,  8.58it/s]"
          ],
          "name": "stderr"
        },
        {
          "output_type": "stream",
          "text": [
            "Train Epoch: 20 [15360/50176 (31%)]\tLoss: 1.338399\n"
          ],
          "name": "stdout"
        },
        {
          "output_type": "stream",
          "text": [
            " 37%|███▋      | 72/196 [00:08<00:14,  8.75it/s]"
          ],
          "name": "stderr"
        },
        {
          "output_type": "stream",
          "text": [
            "Train Epoch: 20 [17920/50176 (36%)]\tLoss: 1.343575\n"
          ],
          "name": "stdout"
        },
        {
          "output_type": "stream",
          "text": [
            " 42%|████▏     | 82/196 [00:09<00:13,  8.54it/s]"
          ],
          "name": "stderr"
        },
        {
          "output_type": "stream",
          "text": [
            "Train Epoch: 20 [20480/50176 (41%)]\tLoss: 1.323797\n"
          ],
          "name": "stdout"
        },
        {
          "output_type": "stream",
          "text": [
            " 47%|████▋     | 92/196 [00:10<00:11,  8.69it/s]"
          ],
          "name": "stderr"
        },
        {
          "output_type": "stream",
          "text": [
            "Train Epoch: 20 [23040/50176 (46%)]\tLoss: 1.324496\n"
          ],
          "name": "stdout"
        },
        {
          "output_type": "stream",
          "text": [
            " 52%|█████▏    | 102/196 [00:11<00:10,  8.73it/s]"
          ],
          "name": "stderr"
        },
        {
          "output_type": "stream",
          "text": [
            "Train Epoch: 20 [25600/50176 (51%)]\tLoss: 1.340194\n"
          ],
          "name": "stdout"
        },
        {
          "output_type": "stream",
          "text": [
            " 57%|█████▋    | 112/196 [00:12<00:09,  8.69it/s]"
          ],
          "name": "stderr"
        },
        {
          "output_type": "stream",
          "text": [
            "Train Epoch: 20 [28160/50176 (56%)]\tLoss: 1.339931\n"
          ],
          "name": "stdout"
        },
        {
          "output_type": "stream",
          "text": [
            " 62%|██████▏   | 122/196 [00:14<00:08,  8.59it/s]"
          ],
          "name": "stderr"
        },
        {
          "output_type": "stream",
          "text": [
            "Train Epoch: 20 [30720/50176 (61%)]\tLoss: 1.337797\n"
          ],
          "name": "stdout"
        },
        {
          "output_type": "stream",
          "text": [
            " 67%|██████▋   | 132/196 [00:15<00:07,  8.84it/s]"
          ],
          "name": "stderr"
        },
        {
          "output_type": "stream",
          "text": [
            "Train Epoch: 20 [33280/50176 (66%)]\tLoss: 1.331390\n"
          ],
          "name": "stdout"
        },
        {
          "output_type": "stream",
          "text": [
            " 72%|███████▏  | 142/196 [00:16<00:06,  8.53it/s]"
          ],
          "name": "stderr"
        },
        {
          "output_type": "stream",
          "text": [
            "Train Epoch: 20 [35840/50176 (71%)]\tLoss: 1.336133\n"
          ],
          "name": "stdout"
        },
        {
          "output_type": "stream",
          "text": [
            " 78%|███████▊  | 152/196 [00:17<00:05,  8.80it/s]"
          ],
          "name": "stderr"
        },
        {
          "output_type": "stream",
          "text": [
            "Train Epoch: 20 [38400/50176 (77%)]\tLoss: 1.317117\n"
          ],
          "name": "stdout"
        },
        {
          "output_type": "stream",
          "text": [
            " 83%|████████▎ | 162/196 [00:18<00:03,  8.81it/s]"
          ],
          "name": "stderr"
        },
        {
          "output_type": "stream",
          "text": [
            "Train Epoch: 20 [40960/50176 (82%)]\tLoss: 1.349501\n"
          ],
          "name": "stdout"
        },
        {
          "output_type": "stream",
          "text": [
            " 88%|████████▊ | 172/196 [00:19<00:02,  8.81it/s]"
          ],
          "name": "stderr"
        },
        {
          "output_type": "stream",
          "text": [
            "Train Epoch: 20 [43520/50176 (87%)]\tLoss: 1.320487\n"
          ],
          "name": "stdout"
        },
        {
          "output_type": "stream",
          "text": [
            " 93%|█████████▎| 182/196 [00:20<00:01,  8.68it/s]"
          ],
          "name": "stderr"
        },
        {
          "output_type": "stream",
          "text": [
            "Train Epoch: 20 [46080/50176 (92%)]\tLoss: 1.347191\n"
          ],
          "name": "stdout"
        },
        {
          "output_type": "stream",
          "text": [
            " 98%|█████████▊| 192/196 [00:22<00:00,  8.71it/s]"
          ],
          "name": "stderr"
        },
        {
          "output_type": "stream",
          "text": [
            "Train Epoch: 20 [48640/50176 (97%)]\tLoss: 1.348720\n"
          ],
          "name": "stdout"
        },
        {
          "output_type": "stream",
          "text": [
            "100%|██████████| 196/196 [00:22<00:00,  8.69it/s]\n"
          ],
          "name": "stderr"
        },
        {
          "output_type": "stream",
          "text": [
            "Input\tonly way left to get water, because Voldemort had planned it so ... He flung himself over to the edg\n",
            "GT\tnly way left to get water, because Voldemort had planned it so ... He flung himself over to the edge\n",
            "pred\tn y tas aoat th hot tisc   aucause ooldemort had nuaceed tn iomt . aa wootg oim elf fner th the fnge\n",
            "\n",
            "\n",
            "Input\ts that had his arm. It released him, falling backward into the water with a splash; he scrambled to \n",
            "GT\t that had his arm. It released him, falling backward into the water with a splash; he scrambled to h\n",
            "pred\t aoat hed bam fnm  Ht weaease  tim  aocling oack ard anto the caler oith h stiith  oe harembled oo h\n",
            "\n",
            "\n",
            "Input\tath, and his feet left the ground as they lifted him and began to carry him, slowly and surely, back\n",
            "GT\tth, and his feet left the ground as they lifted him and began to carry him, slowly and surely, back \n",
            "pred\trh  wnd tes eaet aott the cround on the  wokted tim and suaan to sorey aim  atiwly atd stre y  suck \n",
            "\n",
            "\n",
            "Input\t . . . Dumbledore scooped the locket from the bottom of the stone basin and stowed it inside his rob\n",
            "GT\t. . . Dumbledore scooped the locket from the bottom of the stone basin and stowed it inside his robe\n",
            "pred\t\" . . .umbledore waroded ooe sook t ooom the cottlm of the ctone olcineand staoe  an intide tim hobe\n",
            "\n",
            "\n",
            "Input\t\"sir, I forgot -- about fire -- they were coming at me and I panicked --\" \"Quite understandable,\" mu\n",
            "GT\tsir, I forgot -- about fire -- they were coming at me and I panicked --\" \"Quite understandable,\" mur\n",
            "pred\twot, a sougot t  tnout tone a  tha  were soming tn tu tnd t wustteed o   \"Iutte opder tand yle   sut\n",
            "\n",
            "\n",
            "\n",
            "Test set: Average loss: 1.3605, Accuracy: 747911/1254400 (60%)\n",
            "\n",
            "Saved /gdrive/My Drive/CSE415/language/checkpoints/language_020.pt\n",
            "\n",
            "generated sentence\t\t Harry Potter, Voldemort, and Dumbledore walk into a bar. I don't know what it was a surprise of the one of the one of the one of the one of the fire was still starting to stay and started to stay and started to stay and started to him and started to him and\n",
            "\n",
            "Saving final model\n",
            "Saved /gdrive/My Drive/CSE415/language/checkpoints/language_020.pt\n",
            "\n"
          ],
          "name": "stdout"
        },
        {
          "output_type": "display_data",
          "data": {
            "image/png": "[encoded data removed]",
            "text/plain": [
              "<Figure size 1440x720 with 1 Axes>"
            ]
          },
          "metadata": {
            "tags": []
          }
        },
        {
          "output_type": "display_data",
          "data": {
            "image/png": "[encoded data removed]",
            "text/plain": [
              "<Figure size 1440x720 with 1 Axes>"
            ]
          },
          "metadata": {
            "tags": []
          }
        },
        {
          "output_type": "display_data",
          "data": {
            "image/png": "[encoded data removed]",
            "text/plain": [
              "<Figure size 1440x720 with 1 Axes>"
            ]
          },
          "metadata": {
            "tags": []
          }
        }
      ]
    },
    {
      "cell_type": "markdown",
      "metadata": {
        "id": "kwAXWXg8jzS4"
      },
      "source": [
        "# Submission.\n",
        "Download a copy of this python notebook using File -> download .ipynb. Upload the following files on Canvas INDIVIDUALLY (**Do Not ZIP**):\n",
        "\n",
        "- cse415A6.ipynb\n",
        "- report.pdf\n",
        "- cifar_050.pt\n",
        "- language_020.pt\n",
        "\n",
        "P.S. This codebase has been written following the codebase for the homework assignments of CSE499G1 / CSE599G1 (Introduction to Deep Learning) course during Fall 2019."
      ]
    }
  ]
}